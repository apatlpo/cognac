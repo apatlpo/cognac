{
 "cells": [
  {
   "cell_type": "code",
   "execution_count": 1,
   "metadata": {},
   "outputs": [],
   "source": [
    "import sys, os, glob\n",
    "import numpy as np\n",
    "import matplotlib.pyplot as plt\n",
    "import matplotlib.colors as colors\n",
    "import matplotlib.cm as cmx\n",
    "%matplotlib inline\n",
    "import pickle\n"
   ]
  },
  {
   "cell_type": "code",
   "execution_count": 2,
   "metadata": {},
   "outputs": [
    {
     "name": "stdout",
     "output_type": "stream",
     "text": [
      "MoorDyn input file of the cognac surface sources\n",
      "----------------------- LINE TYPES ------------------------------------------\n",
      "Name   Diam   MassDen     EA        BA/-zeta Can  Cat  Cdn  Cdt\n",
      "(-)     (m)    (kg/m)     (N)       (N-s/-)  (-)  (-)  (-)  (-)\n",
      "main   0.006    .150    384.243E6     -0.8    1.0  0.0  1.6  0.1\n",
      "---------------------- CONNECTION PROPERTIES --------------------------------\n",
      "Node Type       X       Y       Z     M     V    FX   FY   FZ   CdA  Ca\n",
      "(-)  (-)       (m)     (m)     (m)   (kg) (m^3) (kN) (kN) (kN) (m^2) (-)\n",
      "1    connect    0      0.0    -100.0  5   .001   0    0    0   0.04   0\n",
      "2    vessel     0      0.0      0.0   0     0    0    0    0     1.   0\n",
      "---------------------- LINE PROPERTIES --------------------------------------\n",
      "Line LineType UnstrLen NumSegs NodeAnch NodeFair Flags/Outputs\n",
      "(-)    (-)      (m)      (-)      (-)     (-)        (-)\n",
      "1     main     100.      50        2       1          p\n",
      "---------------------- SOLVER OPTIONS ---------------------------------------\n",
      "0.00001 dtM       - time step to use in mooring integration (s)\n",
      "3.0e6 kBot        - bottom stiffness (Pa/m)\n",
      "3.0e5 cBot        - bottom damping (Pa-s/m)\n",
      "500 WtrDpth       - water depth (m)\n",
      "1.0 dtIC          - time interval for analyzing convergence during IC gen (s)\n",
      "6000.0 TmaxIC     - max time for IC gen (s)\n",
      "4.0 CdScaleIC     - factor by which to scale drag coefficients during dynamic relaxation (-)\n",
      "0.00001 threshIC  - threshold for IC convergence (-)\n",
      "------------------------- need this line --------------------------------------\n"
     ]
    }
   ],
   "source": [
    "case = 'run_U_'\n",
    "\n",
    "# print config\n",
    "f = open('Mooring/'+case+'lines.txt','r')\n",
    "for line in f:\n",
    "    print(line.strip())\n",
    "\n",
    "# load data\n",
    "D = []\n",
    "u1min, u1max = 10., 0.\n",
    "for file in sorted(glob.glob('Mooring/'+case+'*.p')):\n",
    "    f = open(file,'rb')\n",
    "    u0, u1, x, y, z = pickle.load(f)\n",
    "    D.append({'u0': u0, 'u1': u1, 'x': x, 'y': y, 'z': z})\n",
    "    u1min = np.min([u1min, u1])\n",
    "    u1max = np.max([u1max, u1])\n"
   ]
  },
  {
   "cell_type": "code",
   "execution_count": 3,
   "metadata": {},
   "outputs": [
    {
     "data": {
      "text/plain": [
       "Text(0.5,0,'[m/s]')"
      ]
     },
     "execution_count": 3,
     "metadata": {},
     "output_type": "execute_result"
    },
    {
     "data": {
      "image/png": "[encoded data removed]",
      "text/plain": [
       "<matplotlib.figure.Figure at 0x1138a6278>"
      ]
     },
     "metadata": {},
     "output_type": "display_data"
    }
   ],
   "source": [
    "\n",
    "# with\n",
    "cmap = plt.get_cmap('viridis') \n",
    "cNorm  = colors.Normalize(vmin=u1min, vmax=u1max)\n",
    "scalarMap = cmx.ScalarMappable(norm=cNorm, cmap=cmap)\n",
    "\n",
    "f, axarr = plt.subplots(1,2, sharey=True, figsize=(10,5))\n",
    "#\n",
    "ax = axarr[0]\n",
    "for d in D:\n",
    "    colorVal = scalarMap.to_rgba(d['u1'])\n",
    "    ax.plot(d['x'],d['z'],color=colorVal)\n",
    "ax.set_title('Mooring motion')\n",
    "ax.set_xlabel('[m]')\n",
    "ax.set_ylabel('[m]')\n",
    "#\n",
    "ax = axarr[1]\n",
    "for d in D:\n",
    "    colorVal = scalarMap.to_rgba(d['u1'])\n",
    "    ax.plot([d['u0'],d['u1']],[0., -100.],color=colorVal)\n",
    "ax.set_title('Velocity profile')\n",
    "ax.set_xlabel('[m/s]')\n",
    "#ax.set_ylabel('[m]')\n",
    "\n",
    "    "
   ]
  },
  {
   "cell_type": "code",
   "execution_count": null,
   "metadata": {},
   "outputs": [],
   "source": []
  }
 ],
 "metadata": {
  "kernelspec": {
   "display_name": "Python 3",
   "language": "python",
   "name": "python3"
  },
  "language_info": {
   "codemirror_mode": {
    "name": "ipython",
    "version": 3
   },
   "file_extension": ".py",
   "mimetype": "text/x-python",
   "name": "python",
   "nbconvert_exporter": "python",
   "pygments_lexer": "ipython3",
   "version": "3.6.3"
  }
 },
 "nbformat": 4,
 "nbformat_minor": 2
}

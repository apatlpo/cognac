{
 "cells": [
  {
   "cell_type": "code",
   "execution_count": 1,
   "id": "c045eea7-6eaa-4933-9413-443304ca7401",
   "metadata": {},
   "outputs": [],
   "source": [
    "import numpy as np\n",
    "import pandas as pd\n",
    "import xarray as xr\n",
    "\n",
    "import matplotlib.pyplot as plt\n"
   ]
  },
  {
   "cell_type": "code",
   "execution_count": 2,
   "id": "743e9b35-b082-466a-b1fd-c87e30ceabbd",
   "metadata": {},
   "outputs": [],
   "source": [
    "# targets\n",
    "delta_p = -10  # regulation precision [dbar]\n",
    "delta_m = 0.3 # surface mass excess [kg]\n",
    "v_down = 0.5 # initial descent speed [m/s]\n",
    "p = 200 # target depth 5dbar]"
   ]
  },
  {
   "cell_type": "code",
   "execution_count": 3,
   "id": "47cca969-a651-4647-b646-fdf6d93e47be",
   "metadata": {},
   "outputs": [],
   "source": [
    "# platform parameters\n",
    "a = 0.08\n",
    "h = 1.\n",
    "# external module\n",
    "A = 0.15\n",
    "H = 0.1\n",
    "V_f_s = np.pi*a**2/2 * h + np.pi*(A**2 - a**2)/2 * H\n",
    "# compressibility\n",
    "gamma = 2e-6 # 1/dbar\n",
    "# drag\n",
    "c1 = 1\n",
    "\n",
    "# water\n",
    "rho_w_0 = 1030 # [kg/m^3]\n",
    "delta_rho_w = 0.  # [kg/m^3]\n",
    "gamma_w = 6e-6 # 1/dbar\n",
    "drho_w_dp = 2*gamma_w*rho_w_0  # 1/dbar"
   ]
  },
  {
   "cell_type": "code",
   "execution_count": 4,
   "id": "cc6c0693-a3f9-4916-bdb5-bbe70631a8db",
   "metadata": {},
   "outputs": [],
   "source": [
    "# beads\n",
    "rho_b = 2*rho_w_0\n",
    "\n",
    "# dead weights\n",
    "rho_0 = 2*rho_w_0\n",
    "rho_1 = 2*rho_w_0"
   ]
  },
  {
   "cell_type": "code",
   "execution_count": 5,
   "id": "34fa4338-1170-40c0-a08e-1f0da422604d",
   "metadata": {},
   "outputs": [
    {
     "name": "stdout",
     "output_type": "stream",
     "text": [
      "1440 beads required for 10 days deployment and rate of release of 0.1\n"
     ]
    }
   ],
   "source": [
    "T = 10 # days\n",
    "rate_b = 1/10 # beads per minutes\n",
    "\n",
    "N_b = int(T*24*60*rate_b)\n",
    "print(f\"{N_b} beads required for {T} days deployment and rate of release of {rate_b}\")"
   ]
  },
  {
   "cell_type": "markdown",
   "id": "2140311e-2a25-41de-8d8a-e3eed83d6038",
   "metadata": {},
   "source": [
    "Unkown variables: $m$, $m_b$, $m_1$"
   ]
  },
  {
   "cell_type": "code",
   "execution_count": 6,
   "id": "4ba0880f-e181-44a2-acdb-ccc498345cfa",
   "metadata": {},
   "outputs": [],
   "source": [
    "rho_w = lambda p: rho_w_0 + delta_rho_w + drho_w_dp*p\n",
    "V_f = lambda p: V_f_s*(1 - gamma*p)"
   ]
  },
  {
   "cell_type": "code",
   "execution_count": 7,
   "id": "c500604a-bcc4-4842-aaab-57f7479e48ea",
   "metadata": {},
   "outputs": [],
   "source": [
    "# state vector: m, m_1, m_b\n",
    "\n",
    "M_equ = np.array([1, (rho_1-rho_w(p))/rho_1, N_b*(rho_b-rho_w(p))/rho_b])\n",
    "b_equ = rho_w(p)*V_f(p)\n",
    "\n",
    "M_reg = np.array([0, -delta_p*drho_w_dp/rho_1, -(rho_b-rho_w(p))/rho_b -N_b*delta_p*drho_w_dp/rho_b])\n",
    "b_reg = delta_p * V_f(p) * (drho_w_dp - rho_w(p)*gamma)\n",
    "\n",
    "M_sur = np.array([1, 0, N_b*(rho_b-rho_w(0))/rho_b])\n",
    "b_sur = rho_w(0)*V_f(0) - delta_m"
   ]
  },
  {
   "cell_type": "code",
   "execution_count": 8,
   "id": "f265c9de-ae17-4936-acd6-f8599ab02a71",
   "metadata": {},
   "outputs": [],
   "source": [
    "M = np.vstack((M_equ, M_reg, M_sur))\n",
    "b = np.array([b_equ, b_reg, b_sur])"
   ]
  },
  {
   "cell_type": "code",
   "execution_count": 9,
   "id": "2aab2fc2-7510-4f8c-9f47-592c886dd80d",
   "metadata": {},
   "outputs": [],
   "source": [
    "m, m_1, m_b = np.linalg.solve(M, b)"
   ]
  },
  {
   "cell_type": "code",
   "execution_count": 10,
   "id": "2ab7b295-37cc-458b-b493-193132aef4ce",
   "metadata": {},
   "outputs": [
    {
     "name": "stdout",
     "output_type": "stream",
     "text": [
      " m=10.33kg , m_b=3.2g, m_1=664.6g\n"
     ]
    }
   ],
   "source": [
    "print(f\" m={m:.2f}kg , m_b={m_b*1e3:.1f}g, m_1={m_1*1e3:.1f}g\")"
   ]
  },
  {
   "cell_type": "code",
   "execution_count": 11,
   "id": "a03c150a-3f83-4d07-8cc9-020c1f9fd3f2",
   "metadata": {},
   "outputs": [
    {
     "name": "stdout",
     "output_type": "stream",
     "text": [
      "bead radius = 10.562138955457888mm\n"
     ]
    }
   ],
   "source": [
    "v_b = m_b/rho_b\n",
    "r_b = (3/4*v_b)**(1/3)\n",
    "print(f\"bead radius = {r_b*1e3}mm\")"
   ]
  },
  {
   "cell_type": "code",
   "execution_count": 12,
   "id": "bff88df0-62f5-4cf5-bb40-754d7776a101",
   "metadata": {},
   "outputs": [
    {
     "data": {
      "text/plain": [
       "(1030.0, 1032.472)"
      ]
     },
     "execution_count": 12,
     "metadata": {},
     "output_type": "execute_result"
    }
   ],
   "source": [
    "rho_w(0), rho_w(p)"
   ]
  },
  {
   "cell_type": "code",
   "execution_count": 14,
   "id": "ae514862-fcf1-41fa-b815-d5f0390ceea0",
   "metadata": {},
   "outputs": [
    {
     "data": {
      "text/plain": [
       "(0.012582078577627121, 0.01257704574619607)"
      ]
     },
     "execution_count": 14,
     "metadata": {},
     "output_type": "execute_result"
    }
   ],
   "source": [
    "V_f(0), V_f(p)"
   ]
  },
  {
   "cell_type": "code",
   "execution_count": 15,
   "id": "c7ab2062-6018-4717-9c06-847e796a791f",
   "metadata": {},
   "outputs": [
    {
     "data": {
      "text/plain": [
       "4.660409505348723"
      ]
     },
     "execution_count": 15,
     "metadata": {},
     "output_type": "execute_result"
    }
   ],
   "source": [
    "N_b*m_b"
   ]
  },
  {
   "cell_type": "code",
   "execution_count": null,
   "id": "9cc580e7-796f-41a1-8acc-a5ef44bc7c87",
   "metadata": {},
   "outputs": [],
   "source": [
    "compute m_0"
   ]
  },
  {
   "cell_type": "code",
   "execution_count": null,
   "id": "3321bc22-cea0-47b2-9256-6d6bb8ad9482",
   "metadata": {},
   "outputs": [],
   "source": []
  },
  {
   "cell_type": "code",
   "execution_count": null,
   "id": "723f3527-ab1f-4d00-9f56-67013f740e95",
   "metadata": {},
   "outputs": [],
   "source": []
  },
  {
   "cell_type": "code",
   "execution_count": null,
   "id": "22fbf5a9-fcd0-4db7-943a-c5c03d577ef5",
   "metadata": {},
   "outputs": [],
   "source": []
  },
  {
   "cell_type": "code",
   "execution_count": 13,
   "id": "631a0024-abb3-4925-99a0-6f98e95f4bba",
   "metadata": {},
   "outputs": [],
   "source": [
    "# initial guess\n",
    "m = rho_w_0*V_f_s\n",
    "v_b = 1e-7\n",
    "v_0 = 100*1e-6\n",
    "v_1 = 100*1e-6\n",
    "\n",
    "# derived variables\n",
    "\n",
    "m_m0 = m + v_1*rho_1 + N_b*rho_b*v_b\n",
    "V_m0 = V_f_s*(1-gamma*p) + v_1 + N_b*v_b\n",
    "rho_f_m0 = m_m0/V_m0\n",
    "\n",
    "# (150)\n",
    "v_b = (drho_w_dz / rho_f_m0 - V_f_s*gamma) * delta_p * V_m0 / (1 - rho_b/rho_f_m0)\n",
    "m_b = rho_b*v_b\n",
    "\n",
    "# (145), (161), assumes condition controlled by surface emergence\n",
    "delta_m_p = (rho_w_0 + delta_rho_w) * V_f_s * (gamma_w - gamma) * p\n",
    "m_1 = (delta_m + delta_m_p) * rho_1/(rho_1 - rho_w_0 - delta_rho_w)\n",
    "# leads to v_1 update\n",
    "v_1 = m_1/rho_1\n",
    "\n",
    "# (143)\n",
    "m_f = (rho_w_0+delta_rho_w)*(V_f_s + N_b*v_b) - N_b*m_b\n",
    "m = m_f + delta_m_p - (rho_1 - rho_w_0 - delta_rho_w) * v_1\n",
    "\n",
    "# (134), (136)\n",
    "cd = c1/2/h * abs(v_down)\n",
    "rho_f = rho_w_0/(1+cd*abs(v_down)) \n",
    "m_0 = rho_0 * (rho_f * V_m0 - m_m0)/(rho_0 - rho_f)\n"
   ]
  },
  {
   "cell_type": "code",
   "execution_count": null,
   "id": "212475ff-c9a7-408b-b14c-dd3886a0d402",
   "metadata": {},
   "outputs": [],
   "source": [
    "m_guess = "
   ]
  }
 ],
 "metadata": {
  "kernelspec": {
   "display_name": "Python 3 (ipykernel)",
   "language": "python",
   "name": "python3"
  },
  "language_info": {
   "codemirror_mode": {
    "name": "ipython",
    "version": 3
   },
   "file_extension": ".py",
   "mimetype": "text/x-python",
   "name": "python",
   "nbconvert_exporter": "python",
   "pygments_lexer": "ipython3",
   "version": "3.8.12"
  }
 },
 "nbformat": 4,
 "nbformat_minor": 5
}

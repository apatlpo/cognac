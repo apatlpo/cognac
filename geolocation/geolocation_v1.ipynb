{
 "cells": [
  {
   "cell_type": "markdown",
   "metadata": {},
   "source": [
    "# geolocalisation: formulation\n",
    "\n",
    "We want to find the float horizontal position $\\underline{x}=(x,y)$ of the float a given a number of knowns:\n",
    "- $\\underline{x}_s^i$ : source buoy horizontal position (perfect knowledge)\n",
    "- $t_e^i$ : time of emission (perfect knowledge)\n",
    "- $\\tilde{t}_r^i$ : time of reception of the signal emitted by source $i$ by the underwater float (perfect knowledge)\n",
    "- $\\epsilon_i$ : signal detection, $\\epsilon_i=1$ (detection) or $1$ (no detection)\n",
    "- $z$ : underwater float depth(perfect knowledge), not used for now\n",
    "\n",
    "'Perfect' knowledge is assumed for some variables wich amounts to say errors may be neglected.\n",
    "\n",
    "Unknown are:\n",
    "- $\\underline{x}$ : underwater float position\n",
    "- $\\underline{x}_t^i$ : transducteur horizontal positions, $\\underline{x}_t^i = \\underline{x}_s^i + \\delta \\underline{x}^i$\n",
    "- $t_r^i$ : true time of reception $t_r^i = \\tilde{t}_r^i + \\delta t$, where $\\delta t$ is the underwater float clock offset. The rms amplitude of the clock offset $e_{\\delta t}$ is assumed to be known.\n",
    "- $c(\\underline{x},\\underline{x}_t^i)$ : true 'celerity' which we define as $c(\\underline{x},\\underline{x}_t^i) = ||\\underline{x} - \\underline{x}_t^i ||/(t_r^i - t_e^i) $. This celerity is assumed ot be equal to the sum of a background estimate (known from climatology, or in situ measurement) and a departure from it: $c(\\underline{x},\\underline{x}_t^i) = c_b + \\delta c (\\underline{x},\\underline{x}_t^i)$. The rms of $\\delta c$ is assumed to be known ($e_c$).\n",
    "\n",
    "\n",
    "Equations satisfied (hard constraints):\n",
    "$$\n",
    "||\\underline{x} - \\underline{x}_t^i || = c(\\underline{x},\\underline{x}_s^i) \\times (t_r^i - t_e^i), \\\\\n",
    "\\underline{x}_t^i = \\underline{x}_s^i + \\delta \\underline{x}^i, \\\\\n",
    "t_r^i = \\tilde{t}_r^i + \\delta t, \\\\\n",
    "c(\\underline{x},\\underline{x}_t^i) = c_b + \\delta c (\\underline{x},\\underline{x}_t^i).\n",
    "$$\n",
    "\n",
    "Approximate unknows ($\\delta t$, $\\delta \\underline{x}_i$, $\\delta c(\\underline{x},\\underline{x}_t^i)$) are assumed to have zero mean but known rms.\n",
    "\n",
    "We thus want to minimize:\n",
    "$$\n",
    "J(\\mathbf{x}, \\delta t, \\delta \\underline{x}_i, \\delta c (\\underline{x},\\underline{x}_t^i)) = \n",
    "\\delta t^2 / e_{\\delta t}^2 \n",
    "+ \\sum_i \\epsilon_i \\times ( ||\\delta \\underline{x}_i||^2 / e_{\\delta x}^2\n",
    "+ \\delta c (\\underline{x},\\underline{x}_t^i)^2 / e_c^2 )\n",
    "$$\n",
    "subject to the hard constraints listed above\n",
    "\n",
    "\n",
    "We have assumed simultaneous emission of sources.\n",
    "The underwater float velocity may be considered as well.\n",
    "\n",
    "\n"
   ]
  },
  {
   "cell_type": "code",
   "execution_count": 9,
   "metadata": {},
   "outputs": [],
   "source": [
    "\n",
    "# import libraries\n",
    "import numpy as np\n",
    "import matplotlib.pyplot as plt\n",
    "from scipy.optimize import minimize\n",
    "import warnings\n",
    "warnings.filterwarnings(action='ignore')\n"
   ]
  },
  {
   "cell_type": "code",
   "execution_count": 17,
   "metadata": {},
   "outputs": [
    {
     "data": {
      "image/png": "[encoded data removed]",
      "text/plain": [
       "<matplotlib.figure.Figure at 0x11167c940>"
      ]
     },
     "metadata": {},
     "output_type": "display_data"
    }
   ],
   "source": [
    "\n",
    "# background sound speed\n",
    "c_b = 1500. # m/s\n",
    "\n",
    "# class for sources\n",
    "class source(object):\n",
    "    ''' A source object '''\n",
    "    def __init__(self, x, y, e_dx=2., e_c=10., label=''):\n",
    "        '''\n",
    "        Parameters\n",
    "        ----------\n",
    "        x,y  - horizontal position in meters\n",
    "        e_i - rms between transductor position uncertainty on the distance estimation\n",
    "        label - a label for the source\n",
    "        '''\n",
    "        self.x=x\n",
    "        self.y=y\n",
    "        #\n",
    "        self.e_dx = e_dx\n",
    "        self.draw_transductor()\n",
    "        #\n",
    "        self.draw_celerity(e_c)\n",
    "        #\n",
    "        #self.tau_i=None\n",
    "        self.label = ('source ' + label).strip()\n",
    "        \n",
    "    def plot(self):\n",
    "        plt.plot(self.x/1.e3,self.y/1.e3, color='salmon', marker='o', markersize=20, label=self.label)\n",
    "    \n",
    "    #def set_tau_i(self,obj):\n",
    "    #    self.tau_i = np.sqrt((self.x-obj.x)**2+(self.y-obj.y)**2)/c\n",
    "    \n",
    "    def draw_transductor(self, Np=1):\n",
    "        ''' compute Np realizations of transductor position\n",
    "        '''\n",
    "        self.dx = np.random.randn(Np)*self.e_dx\n",
    "        self.dy = np.random.randn(Np)*self.e_dx\n",
    "        self.xt = self.x + self.dx\n",
    "        self.yt = self.y + self.dy\n",
    "\n",
    "    def draw_celerity(self, e_c, Np=1, c_b=1500.):\n",
    "        ''' compute Np celerities with rms celerities e_c\n",
    "        '''\n",
    "        self.e_c = e_c\n",
    "        self.c = c_b + np.random.randn(Np)*e_c\n",
    "        \n",
    "        \n",
    "# class for receivers:\n",
    "class receiver(object):\n",
    "    ''' A receiver object '''\n",
    "    def __init__(self, x, y, e_dt=1., label='receiver'):\n",
    "        '''\n",
    "        Parameters\n",
    "        ----------\n",
    "        x,y  - horizontal position in meters\n",
    "        e_dt - uncertainty on the clock drift in seconds\n",
    "        label - a label for the receiver\n",
    "        '''\n",
    "        self.x = x\n",
    "        self.y = y\n",
    "        self.e_dt = e_dt\n",
    "        self.draw_clock_drift()\n",
    "        self.label = ('receiver ' + label).strip()\n",
    "\n",
    "    def plot(self):\n",
    "        plt.plot(self.x/1.e3,self.y/1.e3, color='green', marker='*', markersize=20, label=self.label)\n",
    "        \n",
    "    def draw_clock_drift(self, e_dt, Np=1):\n",
    "        self.e_dt = \n",
    "        self.dt = np.random.randn(Np)*self.e_dt\n",
    "\n",
    "\n",
    "        \n",
    "### create an ensemble of sources\n",
    "\n",
    "# square formation:\n",
    "dx=10. *1.e3 # in meters\n",
    "sources=[]\n",
    "sources.append(source(-dx*.5,-dx*.5))\n",
    "sources.append(source(dx*.5,-dx*.5))\n",
    "sources.append(source(dx*.5,dx*.5))\n",
    "sources.append(source(-dx*.5,dx*.5))\n",
    "#sources.append(source(0.,dx*.25))\n",
    "Ns = len(sources)\n",
    "\n",
    "# triangle formation:\n",
    "#dx=10. *1.e4 # in meters\n",
    "#sources=[]\n",
    "#sources.append(source(-dx*.5,-dx.*5))\n",
    "#sources.append(source(dx,-dx*.5))\n",
    "#sources.append(source(0.,dx*.5))\n",
    "\n",
    "\n",
    "### init a receiver\n",
    "r=receiver(0. *1.e3,0. *1.e3)\n",
    "\n",
    "\n",
    "\n",
    "### plot\n",
    "plt.figure()\n",
    "ax=plt.subplot(111)\n",
    "[s.plot() for s in sources]\n",
    "r.plot()\n",
    "ax.grid()\n",
    "#ax.set_xlim([-1.,21.])\n",
    "#ax.set_ylim([-1.,11.])\n",
    "ax.set_aspect('equal')\n",
    "plt.show()\n",
    "\n",
    "\n"
   ]
  },
  {
   "cell_type": "code",
   "execution_count": 18,
   "metadata": {},
   "outputs": [
    {
     "name": "stdout",
     "output_type": "stream",
     "text": [
      "[1.0, array([0.25, 0.25, 0.25, 0.25]), array([0.01, 0.01, 0.01, 0.01])]\n"
     ]
    }
   ],
   "source": [
    "# x = [x, y, dt, dx0, dy0, dx1, dy1, ...,  dc0, dc1, ...]\n",
    "\n",
    "# source float position (known)\n",
    "x_s = np.array([s.x for s in sources])\n",
    "y_s = np.array([s.y for s in sources])\n",
    "# transductor positions (unknown)\n",
    "x_t = np.array([s.xt[0] for s in sources])\n",
    "y_t = np.array([s.yt[0] for s in sources])\n",
    "# emission time\n",
    "t_e = np.zeros_like(x_s)\n",
    "# measured arrival times\n",
    "t_r_tilda = t_e + np.sqrt((r.x-x_t)**2+(r.y-y_t)**2)/np.array([s.c[0] for s in sources]) \\\n",
    "            - r.dt\n",
    "\n",
    "Ns = len(sources)\n",
    "idx = slice(3, 3+2*Ns, 2)\n",
    "idy = slice(3, 3+2*Ns, 2)\n",
    "idc = slice(3+2*Ns,3+3*Ns)\n",
    "\n",
    "def func(x, W):\n",
    "    dt = x[2]\n",
    "    dx = x[idx]\n",
    "    dy = x[idy]\n",
    "    dc = x[idc]\n",
    "    return dt**2*W[0] + np.mean((dx**2+dy**2)*W[1]) + np.mean(dc**2*W[2])\n",
    "\n",
    "def jac(x, W):\n",
    "    dt = x[2]\n",
    "    dx = x[idx]\n",
    "    dy = x[idy]\n",
    "    dc = x[idc]\n",
    "    #\n",
    "    jac = np.zeros_like(x)\n",
    "    jac[2] = 2.*dt*W[0]\n",
    "    jac[idx] = 2.*dx*W[1]\n",
    "    jac[idy] = 2.*dy*W[1]\n",
    "    jac[idc] = 2.*dc*W[2]\n",
    "    return jac\n",
    "\n",
    "W = [1./np.array(r.e_dt**2),\n",
    "     1./np.array([s.e_dx**2 for s in sources]), \n",
    "     1./np.array([s.e_c**2 for s in sources])]\n",
    "\n",
    "x0 = np.zeros((3+3*Ns))\n",
    "x0[0] = 1000.\n",
    "\n",
    "print(W)"
   ]
  },
  {
   "cell_type": "code",
   "execution_count": 19,
   "metadata": {},
   "outputs": [
    {
     "name": "stdout",
     "output_type": "stream",
     "text": [
      "Iteration limit exceeded    (Exit mode 9)\n",
      "            Current function value: 1.5342600291696336\n",
      "            Iterations: 1001\n",
      "            Function evaluations: 10625\n",
      "            Gradient evaluations: 1001\n"
     ]
    }
   ],
   "source": [
    "cons = []\n",
    "\n",
    "for i, s in enumerate(sources):\n",
    "    # ! late binding gotcha !\n",
    "    def cfun(x, i=i, s=s):\n",
    "        dt = x[2]\n",
    "        dx = x[idx]\n",
    "        dy = x[idy]\n",
    "        dc = x[idc]\n",
    "        return np.array([(x[0] - s.x - dx[i])**2 + (x[1] - s.y - dy[i])**2 \n",
    "                          - (c_b + dc[i])**2 *(t_r_tilda[i] + dt - t_e[i])**2])\n",
    "    # ! late binding gotcha !\n",
    "    def cjac(x, i=i, s=s):\n",
    "        dt = x[2]\n",
    "        dx = x[idx]\n",
    "        dy = x[idy]\n",
    "        dc = x[idc]\n",
    "        #\n",
    "        jac = np.zeros_like(x)\n",
    "        jac[0] = 2.*(x[0] - s.x - dx[i])\n",
    "        jac[1] = 2.*(x[1] - s.y - dy[i])\n",
    "        jac[2] = -2.*(c_b + dc[i])**2 * (t_r_tilda[i] + dt - t_e[i])\n",
    "        jac[idx][i] = -2.*(x[0] - s.x - dx[i])\n",
    "        jac[idy][i] = -2.*(x[1] - s.y - dy[i])\n",
    "        jac[idc][i] = - 2.*(c_b + dc[i]) * (t_r_tilda[i] + dt - t_e[i])**2\n",
    "        return jac\n",
    "    #\n",
    "    cons.append({'type': 'eq', 'fun' : cfun, 'jac' : cjac})\n",
    "\n",
    "res = minimize(func, x0, args=(W,), jac=jac, constraints=cons, method='SLSQP', \n",
    "               options={'maxiter': 1000, 'disp': True})"
   ]
  },
  {
   "cell_type": "code",
   "execution_count": 20,
   "metadata": {},
   "outputs": [
    {
     "name": "stdout",
     "output_type": "stream",
     "text": [
      "[1000.    0.    0.    0.    0.    0.    0.    0.    0.    0.    0.    0.\n",
      "    0.    0.    0.]\n",
      "[5.53896985 5.48874101 5.50555423 5.43439931]\n",
      "[-8030420.82287966]\n",
      "[-26784125.28837454]\n",
      "[-27200036.6783423]\n",
      "[-5448565.76121606]\n"
     ]
    }
   ],
   "source": [
    "print(x0)\n",
    "print(t_r_tilda)\n",
    "print(cons[0]['fun'](x0))\n",
    "print(cons[1]['fun'](x0))\n",
    "print(cons[2]['fun'](x0))\n",
    "print(cons[3]['fun'](x0))"
   ]
  },
  {
   "cell_type": "code",
   "execution_count": 21,
   "metadata": {},
   "outputs": [
    {
     "name": "stdout",
     "output_type": "stream",
     "text": [
      "estimated/truth\n",
      "x=-12.0m / 0.0m, y=46.7m 0.0m\n",
      "dt=-0.78s / -0.76s\n",
      "dx=\n",
      "[-0.05912926  0.0574844   0.05783486 -0.05645972]\n",
      "truth = \n",
      "[-2.3167646   0.97104533  1.07495457  2.89298133]\n",
      "dy=\n",
      "[-0.05912926  0.0574844   0.05783486 -0.05645972]\n",
      "truth = \n",
      "[-1.63602679 -0.04471515  2.07172073 -1.95329412]\n",
      "dc=\n",
      "[-9.8887845   9.56157475 -9.7530893   9.33832671]\n",
      "truth = \n",
      "[-20.19983771  -4.92477533  -9.90284617  11.56465871]\n"
     ]
    }
   ],
   "source": [
    "# extract the solution\n",
    "x = res.x[0]\n",
    "y = res.x[1]\n",
    "dt = res.x[2]\n",
    "dx = res.x[idx]\n",
    "dy = res.x[idy]\n",
    "dc = res.x[idc]\n",
    "print('estimated/truth')\n",
    "print('x=%.1fm / %.1fm, y=%.1fm %.1fm' %(x,r.x,y,r.y))\n",
    "print('dt=%.2fs / %.2fs'%(dt,r.dt))\n",
    "print('dx=')\n",
    "print(dx)\n",
    "print('truth = ')\n",
    "print(x_t-x_s)\n",
    "print('dy=')\n",
    "print(dy)\n",
    "print('truth = ')\n",
    "print(y_t-y_s)\n",
    "print('dc=')\n",
    "print(dc)\n",
    "print('truth = ')\n",
    "print(np.array([s.c[0]-c_b for s in sources]))"
   ]
  },
  {
   "cell_type": "code",
   "execution_count": 152,
   "metadata": {},
   "outputs": [
    {
     "name": "stdout",
     "output_type": "stream",
     "text": [
      "[-1.86890267e+00  9.30026606e-03 -4.03627516e+00  1.91481207e-02\n",
      " -8.53472179e-14  2.93835514e-02  2.33946100e-14 -1.82321378e-02\n",
      " -6.38159010e-16 -2.92754705e-02  0.00000000e+00  2.42869933e-01\n",
      "  3.91122856e-01  2.42782606e-01  3.91070046e-01]\n",
      "[0.29835741]\n",
      "[1.08223116]\n",
      "[6.07774795]\n",
      "[0.18788994]\n"
     ]
    }
   ],
   "source": [
    "print(res.x)\n",
    "print(cons[0]['fun'](res.x))\n",
    "print(cons[1]['fun'](res.x))\n",
    "print(cons[2]['fun'](res.x))\n",
    "print(cons[3]['fun'](res.x))"
   ]
  },
  {
   "cell_type": "code",
   "execution_count": null,
   "metadata": {},
   "outputs": [],
   "source": []
  },
  {
   "cell_type": "code",
   "execution_count": null,
   "metadata": {},
   "outputs": [],
   "source": []
  },
  {
   "cell_type": "code",
   "execution_count": 11,
   "metadata": {},
   "outputs": [],
   "source": [
    "from sympy import symbols\n",
    "from sympy.utilities.lambdify import lambdify\n",
    "\n",
    "a,b,G = symbols('a b G')\n",
    "func = -1*((G - a)**2 + b)\n",
    "my_func = lambdify((G,a,b), func)\n",
    "\n",
    "def my_func_v(x):\n",
    "    return my_func(*tuple(x))\n",
    "\n",
    "results = minimize(my_func_v,[0.1,0.1,0.1])"
   ]
  },
  {
   "cell_type": "code",
   "execution_count": 12,
   "metadata": {},
   "outputs": [
    {
     "name": "stdout",
     "output_type": "stream",
     "text": [
      "      fun: -357913941.1\n",
      " hess_inv: array([[1, 0, 0],\n",
      "       [0, 1, 0],\n",
      "       [0, 0, 1]])\n",
      "      jac: array([0., 0., 0.])\n",
      "  message: 'Optimization terminated successfully.'\n",
      "     nfev: 80\n",
      "      nit: 1\n",
      "     njev: 16\n",
      "   status: 0\n",
      "  success: True\n",
      "        x: array([5.43333333e+00, 5.43333333e+00, 3.57913941e+08])\n"
     ]
    }
   ],
   "source": [
    "print(results)"
   ]
  },
  {
   "cell_type": "code",
   "execution_count": null,
   "metadata": {},
   "outputs": [],
   "source": []
  }
 ],
 "metadata": {
  "kernelspec": {
   "display_name": "Python 3",
   "language": "python",
   "name": "python3"
  },
  "language_info": {
   "codemirror_mode": {
    "name": "ipython",
    "version": 3
   },
   "file_extension": ".py",
   "mimetype": "text/x-python",
   "name": "python",
   "nbconvert_exporter": "python",
   "pygments_lexer": "ipython3",
   "version": "3.6.4"
  }
 },
 "nbformat": 4,
 "nbformat_minor": 1
}

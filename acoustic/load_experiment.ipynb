{
 "cells": [
  {
   "cell_type": "markdown",
   "metadata": {},
   "source": [
    "# load set of acoustic files, test library"
   ]
  },
  {
   "cell_type": "code",
   "execution_count": 1,
   "metadata": {},
   "outputs": [],
   "source": [
    "# cognac data and tools\n",
    "import cognac.insitu as insi"
   ]
  },
  {
   "cell_type": "code",
   "execution_count": 3,
   "metadata": {},
   "outputs": [],
   "source": [
    "data_dir = '/Users/aponte/Current_projects/cognac/campagnes_techno/2019/source/data/loggerhead/'\n",
    "arec = insi.arecorder.acoustic_recorder(data_dir, 'logger_head')"
   ]
  },
  {
   "cell_type": "code",
   "execution_count": 4,
   "metadata": {},
   "outputs": [
    {
     "data": {
      "text/html": [
       "<div>\n",
       "<style scoped>\n",
       "    .dataframe tbody tr th:only-of-type {\n",
       "        vertical-align: middle;\n",
       "    }\n",
       "\n",
       "    .dataframe tbody tr th {\n",
       "        vertical-align: top;\n",
       "    }\n",
       "\n",
       "    .dataframe thead th {\n",
       "        text-align: right;\n",
       "    }\n",
       "</style>\n",
       "<table border=\"1\" class=\"dataframe\">\n",
       "  <thead>\n",
       "    <tr style=\"text-align: right;\">\n",
       "      <th></th>\n",
       "      <th>file_name</th>\n",
       "      <th>file_path</th>\n",
       "      <th>ID</th>\n",
       "      <th>gain</th>\n",
       "      <th>Voltage</th>\n",
       "      <th>Version</th>\n",
       "    </tr>\n",
       "    <tr>\n",
       "      <th>time</th>\n",
       "      <th></th>\n",
       "      <th></th>\n",
       "      <th></th>\n",
       "      <th></th>\n",
       "      <th></th>\n",
       "      <th></th>\n",
       "    </tr>\n",
       "  </thead>\n",
       "  <tbody>\n",
       "    <tr>\n",
       "      <th>2019-04-11 09:37:50</th>\n",
       "      <td>20190411T093750.wav</td>\n",
       "      <td>/Users/aponte/Current_projects/cognac/campagne...</td>\n",
       "      <td>42332290775159</td>\n",
       "      <td>-3.86</td>\n",
       "      <td>4.03</td>\n",
       "      <td>2019-03-26</td>\n",
       "    </tr>\n",
       "    <tr>\n",
       "      <th>2019-04-11 09:38:50</th>\n",
       "      <td>20190411T093850.wav</td>\n",
       "      <td>/Users/aponte/Current_projects/cognac/campagne...</td>\n",
       "      <td>42332290775159</td>\n",
       "      <td>-3.86</td>\n",
       "      <td>4.05</td>\n",
       "      <td>2019-03-26</td>\n",
       "    </tr>\n",
       "    <tr>\n",
       "      <th>2019-04-11 09:39:50</th>\n",
       "      <td>20190411T093950.wav</td>\n",
       "      <td>/Users/aponte/Current_projects/cognac/campagne...</td>\n",
       "      <td>42332290775159</td>\n",
       "      <td>-3.86</td>\n",
       "      <td>4.03</td>\n",
       "      <td>2019-03-26</td>\n",
       "    </tr>\n",
       "    <tr>\n",
       "      <th>2019-04-11 09:40:50</th>\n",
       "      <td>20190411T094050.wav</td>\n",
       "      <td>/Users/aponte/Current_projects/cognac/campagne...</td>\n",
       "      <td>42332290775159</td>\n",
       "      <td>-3.86</td>\n",
       "      <td>4.06</td>\n",
       "      <td>2019-03-26</td>\n",
       "    </tr>\n",
       "    <tr>\n",
       "      <th>2019-04-11 09:41:50</th>\n",
       "      <td>20190411T094150.wav</td>\n",
       "      <td>/Users/aponte/Current_projects/cognac/campagne...</td>\n",
       "      <td>42332290775159</td>\n",
       "      <td>-3.86</td>\n",
       "      <td>4.05</td>\n",
       "      <td>2019-03-26</td>\n",
       "    </tr>\n",
       "  </tbody>\n",
       "</table>\n",
       "</div>"
      ],
      "text/plain": [
       "                               file_name  \\\n",
       "time                                       \n",
       "2019-04-11 09:37:50  20190411T093750.wav   \n",
       "2019-04-11 09:38:50  20190411T093850.wav   \n",
       "2019-04-11 09:39:50  20190411T093950.wav   \n",
       "2019-04-11 09:40:50  20190411T094050.wav   \n",
       "2019-04-11 09:41:50  20190411T094150.wav   \n",
       "\n",
       "                                                             file_path  \\\n",
       "time                                                                     \n",
       "2019-04-11 09:37:50  /Users/aponte/Current_projects/cognac/campagne...   \n",
       "2019-04-11 09:38:50  /Users/aponte/Current_projects/cognac/campagne...   \n",
       "2019-04-11 09:39:50  /Users/aponte/Current_projects/cognac/campagne...   \n",
       "2019-04-11 09:40:50  /Users/aponte/Current_projects/cognac/campagne...   \n",
       "2019-04-11 09:41:50  /Users/aponte/Current_projects/cognac/campagne...   \n",
       "\n",
       "                                 ID  gain  Voltage     Version  \n",
       "time                                                            \n",
       "2019-04-11 09:37:50  42332290775159 -3.86     4.03  2019-03-26  \n",
       "2019-04-11 09:38:50  42332290775159 -3.86     4.05  2019-03-26  \n",
       "2019-04-11 09:39:50  42332290775159 -3.86     4.03  2019-03-26  \n",
       "2019-04-11 09:40:50  42332290775159 -3.86     4.06  2019-03-26  \n",
       "2019-04-11 09:41:50  42332290775159 -3.86     4.05  2019-03-26  "
      ]
     },
     "execution_count": 4,
     "metadata": {},
     "output_type": "execute_result"
    }
   ],
   "source": [
    "arec.df.head()"
   ]
  },
  {
   "cell_type": "code",
   "execution_count": null,
   "metadata": {},
   "outputs": [],
   "source": []
  }
 ],
 "metadata": {
  "kernelspec": {
   "display_name": "Python 3",
   "language": "python",
   "name": "python3"
  },
  "language_info": {
   "codemirror_mode": {
    "name": "ipython",
    "version": 3
   },
   "file_extension": ".py",
   "mimetype": "text/x-python",
   "name": "python",
   "nbconvert_exporter": "python",
   "pygments_lexer": "ipython3",
   "version": "3.6.7"
  }
 },
 "nbformat": 4,
 "nbformat_minor": 2
}

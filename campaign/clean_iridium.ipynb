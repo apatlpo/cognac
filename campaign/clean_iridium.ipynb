{
 "cells": [
  {
   "cell_type": "markdown",
   "metadata": {},
   "source": [
    "# load iridium data and process"
   ]
  },
  {
   "cell_type": "code",
   "execution_count": 1,
   "metadata": {},
   "outputs": [],
   "source": [
    "from glob import glob\n",
    "\n",
    "import pandas as pd\n",
    "import xarray as xr\n",
    "\n",
    "# cognac data and tools\n",
    "import cognac.insitu as iu"
   ]
  },
  {
   "cell_type": "markdown",
   "metadata": {},
   "source": [
    "---\n",
    "## load and select data"
   ]
  },
  {
   "cell_type": "code",
   "execution_count": 2,
   "metadata": {},
   "outputs": [],
   "source": [
    "# data directory and filename\n",
    "#\n",
    "#campaign = 'microco_leg2.yaml'\n",
    "#campaign = 'lopstech19_leg1.yaml'\n",
    "campaign = 'cognac20.yaml'\n",
    "\n",
    "cp = iu.campaign(campaign)\n",
    "\n",
    "\n",
    "#data_dir = cp.path+'iridium/'\n",
    "#imeis={unit: cp[unit]['iridium'] for unit in ['source', 'enregistreur']}\n",
    "#imeis={unit: cp[unit]['iridium'] for unit in ['source', 'enregistreur']}"
   ]
  },
  {
   "cell_type": "markdown",
   "metadata": {},
   "source": [
    "## utils"
   ]
  },
  {
   "cell_type": "code",
   "execution_count": 3,
   "metadata": {},
   "outputs": [],
   "source": [
    "unit = 'emetteur'\n",
    "imei = cp[unit]['instruments']['iridium']"
   ]
  },
  {
   "cell_type": "code",
   "execution_count": 4,
   "metadata": {},
   "outputs": [],
   "source": [
    "def load_iridium(unit):\n",
    "    \n",
    "    if 'instruments' in unit and 'iridium' in unit['instruments']:\n",
    "        \n",
    "        imei = unit['instruments']['iridium']\n",
    "        \n",
    "        dummy_path = 'home1/triagoz/intranet/htdocs/LOPStrack/DATA/'\n",
    "        imei_file = cp.path+'iridium/'+dummy_path+'{}/synthese_{}.txt'.format(imei, imei)\n",
    "        \n",
    "        df = pd.read_csv(imei_file,\n",
    "                        sep='\\t+',\n",
    "                        parse_dates=[0],\n",
    "                        infer_datetime_format=True,\n",
    "                        index_col=False,\n",
    "                        names=['time','lat','lon','latlon0']\n",
    "                         )\n",
    "        df = df.set_index('time').sort_index()\n",
    "        \n",
    "        # select only time during deployments\n",
    "        #t_min = min([d.start.time for d in u])\n",
    "        #t_max = max([d.end.time for d in u])\n",
    "        #df = df[t_min:t_max]\n",
    "        \n",
    "        # transform into a gps instance\n",
    "        _gps = iu.gps.gps(lon=df.lon, lat=df.lat, time=df.index)\n",
    "        \n",
    "        # trim and divide to keep deployments time\n",
    "        gps = {d.label: _gps.clean(d, inplace=False) for d in unit}\n",
    "                    \n",
    "        return gps\n",
    "\n",
    "gps = load_iridium(cp[unit])"
   ]
  },
  {
   "cell_type": "markdown",
   "metadata": {},
   "source": [
    "---\n",
    "## process all units"
   ]
  },
  {
   "cell_type": "code",
   "execution_count": 14,
   "metadata": {},
   "outputs": [
    {
     "name": "stdout",
     "output_type": "stream",
     "text": [
      "Data store to /Users/aponte/Current_projects/cognac/campagnes/2020_cognac20/data/datap/emetteur_iridium_j1.nc\n",
      "Data store to /Users/aponte/Current_projects/cognac/campagnes/2020_cognac20/data/datap/emetteur_iridium_j2.nc\n",
      "Data store to /Users/aponte/Current_projects/cognac/campagnes/2020_cognac20/data/datap/recepteur0_iridium_j1.nc\n",
      "Data store to /Users/aponte/Current_projects/cognac/campagnes/2020_cognac20/data/datap/recepteur0_iridium_j2.nc\n",
      "Data store to /Users/aponte/Current_projects/cognac/campagnes/2020_cognac20/data/datap/recepteur1_iridium_j1.nc\n",
      "Data store to /Users/aponte/Current_projects/cognac/campagnes/2020_cognac20/data/datap/recepteur1_iridium_j2.nc\n",
      "Data store to /Users/aponte/Current_projects/cognac/campagnes/2020_cognac20/data/datap/recepteur2_iridium_j1.nc\n",
      "Data store to /Users/aponte/Current_projects/cognac/campagnes/2020_cognac20/data/datap/recepteur2_iridium_j2.nc\n"
     ]
    }
   ],
   "source": [
    "# load and store data for all units\n",
    "for unit in cp:\n",
    "    gps = load_iridium(cp[unit])\n",
    "    # store\n",
    "    if gps:\n",
    "        for label, lgps in gps.items():\n",
    "            if lgps:\n",
    "                lgps.to_nc(cp.pathp+unit+'_iridium_'+label+'.nc')"
   ]
  },
  {
   "cell_type": "markdown",
   "metadata": {},
   "source": [
    "---\n",
    "## reload units and plot trajectories"
   ]
  },
  {
   "cell_type": "code",
   "execution_count": 32,
   "metadata": {},
   "outputs": [
    {
     "data": {
      "text/plain": [
       "{'emetteur': {'j2': <cognac.insitu.gps.gps at 0x13e46c940>,\n",
       "  'j1': <cognac.insitu.gps.gps at 0x13e46c820>},\n",
       " 'recepteur1': {'j2': <cognac.insitu.gps.gps at 0x13e46c0d0>,\n",
       "  'j1': <cognac.insitu.gps.gps at 0x13ec5b610>},\n",
       " 'recepteur2': {'j2': <cognac.insitu.gps.gps at 0x102e773a0>,\n",
       "  'j1': <cognac.insitu.gps.gps at 0x13ebdca90>},\n",
       " 'recepteur0': {'j1': <cognac.insitu.gps.gps at 0x13ebdc940>,\n",
       "  'j2': <cognac.insitu.gps.gps at 0x13ebdca30>}}"
      ]
     },
     "execution_count": 32,
     "metadata": {},
     "output_type": "execute_result"
    }
   ],
   "source": [
    "iridium_files = glob(cp.pathp+'*_iridium_*.nc')\n",
    "units = set(f.split('/')[-1].split('_')[0] for f in iridium_files)\n",
    "\n",
    "iridium = {}\n",
    "for u in units:\n",
    "    deployments = [f.split('/')[-1].split('_')[2].split('.')[0] for f in glob(cp.pathp+u+'_iridium_*.nc')]\n",
    "    iridium[u] = {d: iu.gps.gps(file=cp.pathp+u+'_iridium_'+d+'.nc') for d in deployments}\n",
    "\n",
    "iridium"
   ]
  },
  {
   "cell_type": "code",
   "execution_count": null,
   "metadata": {},
   "outputs": [],
   "source": []
  }
 ],
 "metadata": {
  "kernelspec": {
   "display_name": "Python 3",
   "language": "python",
   "name": "python3"
  },
  "language_info": {
   "codemirror_mode": {
    "name": "ipython",
    "version": 3
   },
   "file_extension": ".py",
   "mimetype": "text/x-python",
   "name": "python",
   "nbconvert_exporter": "python",
   "pygments_lexer": "ipython3",
   "version": "3.8.5"
  }
 },
 "nbformat": 4,
 "nbformat_minor": 4
}

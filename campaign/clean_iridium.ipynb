{
 "cells": [
  {
   "cell_type": "markdown",
   "metadata": {},
   "source": [
    "# load iridium data and process"
   ]
  },
  {
   "cell_type": "code",
   "execution_count": 1,
   "metadata": {},
   "outputs": [],
   "source": [
    "import os\n",
    "from glob import glob\n",
    "\n",
    "import pandas as pd\n",
    "import xarray as xr\n",
    "\n",
    "# cognac data and tools\n",
    "import cognac.insitu as iu"
   ]
  },
  {
   "cell_type": "markdown",
   "metadata": {},
   "source": [
    "---\n",
    "## load and select data"
   ]
  },
  {
   "cell_type": "code",
   "execution_count": 2,
   "metadata": {},
   "outputs": [
    {
     "data": {
      "text/plain": [
       "cognac.insitu.events.campaign(sumos21 2021/02/22 to 2021/03/03)"
      ]
     },
     "execution_count": 2,
     "metadata": {},
     "output_type": "execute_result"
    }
   ],
   "source": [
    "# data directory and filename\n",
    "\n",
    "#campaign = 'microco_leg2'\n",
    "#campaign = 'lopstech19_leg1'\n",
    "#campaign = 'cognac20'\n",
    "campaign = 'sumos21'\n",
    "\n",
    "cp = iu.campaign(campaign)\n",
    "\n",
    "#data_dir = cp.path+'iridium/'\n",
    "#imeis={unit: cp[unit]['iridium'] for unit in ['source', 'enregistreur']}\n",
    "#imeis={unit: cp[unit]['iridium'] for unit in ['source', 'enregistreur']}\n",
    "\n",
    "cp"
   ]
  },
  {
   "cell_type": "markdown",
   "metadata": {},
   "source": [
    "## utils"
   ]
  },
  {
   "cell_type": "code",
   "execution_count": 3,
   "metadata": {},
   "outputs": [],
   "source": [
    "def get_inputs(cp, unit):\n",
    "    \"\"\" Point to correct Iridium files\n",
    "    \"\"\"\n",
    "\n",
    "    if not 'instruments' in cp[unit] or 'iridium' not in cp[unit]['instruments']:\n",
    "        return None, None\n",
    "\n",
    "    imei = cp[unit]['instruments']['iridium']\n",
    "    \n",
    "    if cp.name=='cognac20':\n",
    "        # cognac20\n",
    "        dummy_path = 'home1/triagoz/intranet/htdocs/LOPStrack/DATA/'\n",
    "        imei_file = cp.path+'iridium/'+dummy_path+'{}/synthese_{}.txt'.format(imei, imei)\n",
    "        reader=0\n",
    "\n",
    "    elif cp.name=='sumos21':\n",
    "        # sumos\n",
    "        if isinstance(cp[unit]['path'], list):\n",
    "            imei_file = [p+'iridium/Balise_Iridium_{}.txt'.format(imei) for p in cp[unit]['path']]\n",
    "        else:\n",
    "            imei_file = cp[unit]['path']+'iridium/Balise_Iridium_{}.txt'.format(imei)\n",
    "        reader=1\n",
    "        \n",
    "    return imei_file, reader"
   ]
  },
  {
   "cell_type": "code",
   "execution_count": 6,
   "metadata": {},
   "outputs": [],
   "source": [
    "def load_iridium(unit, imei_file, reader):\n",
    "    \n",
    "    if imei_file is None or reader is None:\n",
    "        return\n",
    "    \n",
    "    if not 'instruments' in unit or 'iridium' not in unit['instruments']:\n",
    "        return\n",
    "\n",
    "    gps = load_iridium_core(imei_file, reader)\n",
    "    \n",
    "    if gps:\n",
    "        # trim and divide to keep deployments time\n",
    "        gps = {d.label: gps.clean(d, inplace=False) for d in unit}\n",
    "    \n",
    "    return gps\n",
    "    \n",
    "def load_iridium_core(imei_file, reader):\n",
    "    \n",
    "    if isinstance(imei_file, list):\n",
    "        gps = [load_iridium_core(f, reader) for f in imei_file]\n",
    "        gps = [g for g in gps if g is not None]\n",
    "        if len(gps)==1:\n",
    "            return gps[0]\n",
    "        else:\n",
    "            return sum(gps)\n",
    "    \n",
    "    if not os.path.isfile(imei_file):\n",
    "        print('No file found: '+imei_file)\n",
    "        return\n",
    "    \n",
    "    if reader==0:\n",
    "        # from LOPS track\n",
    "        df = pd.read_csv(imei_file,\n",
    "                        sep='\\t+',\n",
    "                        parse_dates=[0],\n",
    "                        infer_datetime_format=True,\n",
    "                        index_col=False,\n",
    "                        names=['time', 'lat', 'lon', 'latlon0'],\n",
    "                         )\n",
    "    elif reader==1:\n",
    "        # SUMOS Iridium file\n",
    "        # it is simpler to rename columns afterwards in this case\n",
    "        df = pd.read_csv(imei_file,\n",
    "                        sep='\\s+',\n",
    "                        #parse_dates=[0,1],\n",
    "                        #infer_datetime_format=True,\n",
    "                        #dayfirst=True,\n",
    "                        index_col=False,\n",
    "                         header=None,\n",
    "                         )\n",
    "        df['time'] = pd.to_datetime(df[0] + ' ' + df[1], dayfirst=True)\n",
    "        df = df[['time',2,3]].rename(columns={2: 'lat', 3: 'lon'})\n",
    "        \n",
    "    df = df.set_index('time').sort_index()\n",
    "    \n",
    "    # transform into a gps instance\n",
    "    gps = iu.gps.gps(lon=df.lon, lat=df.lat, time=df.index)\n",
    "\n",
    "    return gps"
   ]
  },
  {
   "cell_type": "code",
   "execution_count": 7,
   "metadata": {},
   "outputs": [
    {
     "name": "stdout",
     "output_type": "stream",
     "text": [
      "recepteur0 300434064252900\n"
     ]
    },
    {
     "data": {
      "text/plain": [
       "{'d1_synchro_start': cognac.insitu.gps.gps(gps - 0 points),\n",
       " 'd1': cognac.insitu.gps.gps(gps - 80 points),\n",
       " 'd1_synchro_end': cognac.insitu.gps.gps(gps - 0 points)}"
      ]
     },
     "execution_count": 7,
     "metadata": {},
     "output_type": "execute_result"
    }
   ],
   "source": [
    "unit = 'emetteur'\n",
    "unit = 'recepteur0'\n",
    "imei = cp[unit]['instruments']['iridium']\n",
    "print(unit, imei)\n",
    "\n",
    "imei_file, reader = get_inputs(cp, unit)\n",
    "\n",
    "gps = load_iridium(cp[unit], imei_file, reader)\n",
    "gps"
   ]
  },
  {
   "cell_type": "code",
   "execution_count": 8,
   "metadata": {},
   "outputs": [
    {
     "data": {
      "image/png": "[encoded data removed]",
      "text/plain": [
       "<Figure size 432x288 with 1 Axes>"
      ]
     },
     "metadata": {
      "needs_background": "light"
     },
     "output_type": "display_data"
    }
   ],
   "source": [
    "gps['d1'].plot()"
   ]
  },
  {
   "cell_type": "markdown",
   "metadata": {},
   "source": [
    "---\n",
    "## process all units"
   ]
  },
  {
   "cell_type": "code",
   "execution_count": 9,
   "metadata": {},
   "outputs": [
    {
     "name": "stdout",
     "output_type": "stream",
     "text": [
      "Data store to /Users/aponte/Current_projects/cognac/campagnes/2021_sumos/data/datap/emetteur_iridium_d1.nc\n",
      "Data store to /Users/aponte/Current_projects/cognac/campagnes/2021_sumos/data/datap/recepteur0_iridium_d1.nc\n",
      "Data store to /Users/aponte/Current_projects/cognac/campagnes/2021_sumos/data/datap/recepteur1_iridium_d1.nc\n",
      "No file found: /Users/aponte/Current_projects/cognac/campagnes/2021_sumos/data/deploiement0/recepteur2/iridium/Balise_Iridium_300434064301970.txt\n",
      "Data store to /Users/aponte/Current_projects/cognac/campagnes/2021_sumos/data/datap/recepteur2_iridium_d1.nc\n"
     ]
    }
   ],
   "source": [
    "# load and store data for all units\n",
    "for unit in cp:\n",
    "    \n",
    "    imei_file, reader = get_inputs(cp, unit)\n",
    "    \n",
    "    gps = load_iridium(cp[unit], imei_file, reader)\n",
    "    \n",
    "    #if os.path.isfile(imei_file):    \n",
    "    #    gps = load_iridium(cp[unit], imei_file, reader)\n",
    "    #else:\n",
    "    #    gps = None\n",
    "    \n",
    "    # store\n",
    "    if gps:\n",
    "        for label, lgps in gps.items():\n",
    "            if lgps:\n",
    "                lgps.to_nc(cp.pathp+unit+'_iridium_'+label+'.nc')"
   ]
  },
  {
   "cell_type": "markdown",
   "metadata": {},
   "source": [
    "---\n",
    "## reload units and plot trajectories"
   ]
  },
  {
   "cell_type": "code",
   "execution_count": 10,
   "metadata": {},
   "outputs": [],
   "source": [
    "iridium = cp.load('iridium')"
   ]
  },
  {
   "cell_type": "code",
   "execution_count": 11,
   "metadata": {},
   "outputs": [
    {
     "data": {
      "text/plain": [
       "{'recepteur0': {'d1': cognac.insitu.gps.gps(gps - 80 points)},\n",
       " 'emetteur': {'d1': cognac.insitu.gps.gps(gps - 85 points)},\n",
       " 'recepteur1': {'d1': cognac.insitu.gps.gps(gps - 91 points)},\n",
       " 'recepteur2': {'d1': cognac.insitu.gps.gps(gps - 97 points)}}"
      ]
     },
     "execution_count": 11,
     "metadata": {},
     "output_type": "execute_result"
    }
   ],
   "source": [
    "cp\n",
    "\n",
    "iridium_files = glob(cp.pathp+'*_iridium_*.nc')\n",
    "units = set(f.split('/')[-1].split('_')[0] for f in iridium_files)\n",
    "\n",
    "iridium = {}\n",
    "for u in units:\n",
    "    deployments = [f.split('/')[-1].split('_')[2].split('.')[0] for f in glob(cp.pathp+u+'_iridium_*.nc')]\n",
    "    iridium[u] = {d: iu.gps.gps(file=cp.pathp+u+'_iridium_'+d+'.nc') for d in deployments}\n",
    "\n",
    "iridium"
   ]
  },
  {
   "cell_type": "code",
   "execution_count": null,
   "metadata": {},
   "outputs": [],
   "source": []
  }
 ],
 "metadata": {
  "kernelspec": {
   "display_name": "Python 3",
   "language": "python",
   "name": "python3"
  },
  "language_info": {
   "codemirror_mode": {
    "name": "ipython",
    "version": 3
   },
   "file_extension": ".py",
   "mimetype": "text/x-python",
   "name": "python",
   "nbconvert_exporter": "python",
   "pygments_lexer": "ipython3",
   "version": "3.8.8"
  }
 },
 "nbformat": 4,
 "nbformat_minor": 4
}

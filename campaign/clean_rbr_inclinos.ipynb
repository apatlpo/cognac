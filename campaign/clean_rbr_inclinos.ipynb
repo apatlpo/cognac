{
 "cells": [
  {
   "cell_type": "markdown",
   "metadata": {},
   "source": [
    "# Clean RBR and inclino data"
   ]
  },
  {
   "cell_type": "code",
   "execution_count": 1,
   "metadata": {},
   "outputs": [],
   "source": [
    "import os, sys, pickle, glob\n",
    "import numpy as np\n",
    "import matplotlib.pyplot as plt\n",
    "\n",
    "import datetime\n",
    "\n",
    "import pandas as pd\n",
    "\n",
    "# cognac data and tools\n",
    "import cognac.insitu as insi"
   ]
  },
  {
   "cell_type": "markdown",
   "metadata": {},
   "source": [
    "---\n",
    "\n",
    "# enregistreur: inclino"
   ]
  },
  {
   "cell_type": "code",
   "execution_count": 2,
   "metadata": {},
   "outputs": [
    {
     "name": "stdout",
     "output_type": "stream",
     "text": [
      "/Users/aponte/Current_projects/cognac/campagnes_techno/2018_microco/leg2/data/enregistreur/inclino/18H0775.DAT\n",
      "/Users/aponte/Current_projects/cognac/campagnes_techno/2018_microco/leg2/data/enregistreur/inclino/8H0776.DAT\n"
     ]
    }
   ],
   "source": [
    "# data directory and filename\n",
    "#\n",
    "cp = insi.utils.campaign('microco_leg2.yaml')\n",
    "unit = 'enregistreur'\n",
    "data_dir = cp[unit]['path']+'inclino/'\n",
    "\n",
    "dst = ['H0775','H0776']\n",
    "dep = [18, 8] # found in INI files\n",
    "\n",
    "files = [data_dir+str(ldep)+ldst+'.DAT' for ldst, ldep in zip(dst, dep)]\n",
    "_ = [print(f) for f in files]"
   ]
  },
  {
   "cell_type": "code",
   "execution_count": 3,
   "metadata": {},
   "outputs": [
    {
     "name": "stdout",
     "output_type": "stream",
     "text": [
      "Start time:  2018-09-09 15:26:00\n",
      "End time:  2018-09-10 03:32:34\n",
      "Deployment length:  0 days 12:06:34\n"
     ]
    }
   ],
   "source": [
    "d = insi.inclino.inclino(files[0], dst[0], dayfirst=True)\n",
    "print('Start time: ', d['time'][0])\n",
    "print('End time: ', d['time'][-1])\n",
    "print('Deployment length: ', d['time'][-1]-d['time'][0])"
   ]
  },
  {
   "cell_type": "code",
   "execution_count": 4,
   "metadata": {},
   "outputs": [
    {
     "data": {
      "text/plain": [
       "<matplotlib.axes._subplots.AxesSubplot at 0x11edfef28>"
      ]
     },
     "execution_count": 4,
     "metadata": {},
     "output_type": "execute_result"
    },
    {
     "data": {
      "image/png": "[encoded data removed]",
      "text/plain": [
       "<Figure size 432x288 with 1 Axes>"
      ]
     },
     "metadata": {
      "needs_background": "light"
     },
     "output_type": "display_data"
    }
   ],
   "source": [
    "d['temperature'].plot()\n",
    "# date format is different than for leg1"
   ]
  },
  {
   "cell_type": "code",
   "execution_count": 5,
   "metadata": {},
   "outputs": [
    {
     "name": "stdout",
     "output_type": "stream",
     "text": [
      "--\n",
      "Deployment label: d1\n",
      "Start:\n",
      "-\n",
      "Event label: start\n",
      "Time: \n",
      "2018-09-11 06:13:00\n",
      "Lon:6.198671666666667 = 6.0deg 11.920300000000008\n",
      "Lat:42.87725833333333 = 42.0deg 52.63549999999981\n",
      "\n",
      "End:\n",
      "-\n",
      "Event label: end\n",
      "Time: \n",
      "2018-09-11 07:31:00\n",
      "Lon:6.172086666666667 = 6.0deg 10.325200000000017\n",
      "Lat:42.876378333333335 = 42.0deg 52.5827000000001\n",
      "\n",
      "\n"
     ]
    }
   ],
   "source": [
    "# Deployments from logs\n",
    "print(cp[unit]['d1'])"
   ]
  },
  {
   "cell_type": "markdown",
   "metadata": {},
   "source": [
    "The code below is useless: we set a sampling rate of 1Hz which allows deployments of 12h.\n",
    "\n",
    "We should have used a sampling rate of 0.1Hz"
   ]
  },
  {
   "cell_type": "code",
   "execution_count": 6,
   "metadata": {},
   "outputs": [
    {
     "name": "stdout",
     "output_type": "stream",
     "text": [
      "[<cognac.insitu.inclino.inclino object at 0x1169ecf28>, <cognac.insitu.inclino.inclino object at 0x11f826fd0>]\n",
      "Data store to /Users/aponte/Current_projects/cognac/campagnes_techno/2018_microco/leg2/data/datap/enregistreur_inclino_d1_H0775.p\n",
      "Data store to /Users/aponte/Current_projects/cognac/campagnes_techno/2018_microco/leg2/data/datap/enregistreur_inclino_d1_H0776.p\n",
      "d1\n",
      "[<cognac.insitu.inclino.inclino object at 0x123d98fd0>, <cognac.insitu.inclino.inclino object at 0x11fb81fd0>]\n",
      "Data store to /Users/aponte/Current_projects/cognac/campagnes_techno/2018_microco/leg2/data/datap/enregistreur_inclino_d2_H0775.p\n",
      "Data store to /Users/aponte/Current_projects/cognac/campagnes_techno/2018_microco/leg2/data/datap/enregistreur_inclino_d2_H0776.p\n",
      "d2\n"
     ]
    }
   ],
   "source": [
    "inc={}\n",
    "for r in cp[unit]:\n",
    "    print(r.label)\n",
    "    inc[r.label] = [insi.inclino.inclino(f,d).trim(d=r) for f,d in zip(files,dst)]\n",
    "    for i in inc[r.label]:\n",
    "        i.to_pickle(cp.pathp+unit+'_inclino_'+r.label+'_'+i.id+'.p')"
   ]
  },
  {
   "cell_type": "code",
   "execution_count": 7,
   "metadata": {
    "scrolled": false
   },
   "outputs": [
    {
     "name": "stdout",
     "output_type": "stream",
     "text": [
      "{'d1': [<cognac.insitu.inclino.inclino object at 0x1169ecf28>, <cognac.insitu.inclino.inclino object at 0x11f826fd0>], 'd2': [<cognac.insitu.inclino.inclino object at 0x123d98fd0>, <cognac.insitu.inclino.inclino object at 0x11fb81fd0>]}\n"
     ]
    }
   ],
   "source": [
    "print(inc)"
   ]
  },
  {
   "cell_type": "markdown",
   "metadata": {},
   "source": [
    "---\n",
    "\n",
    "# enregistreur RBR "
   ]
  },
  {
   "cell_type": "code",
   "execution_count": 3,
   "metadata": {},
   "outputs": [
    {
     "name": "stdout",
     "output_type": "stream",
     "text": [
      "/Users/aponte/Current_projects/cognac/campagnes_techno/2018_microco/leg2/data/enregistreur/rbr/082905_20180915_1238/082905_20180915_1238\\082905_20180915_1238_data.txt\n"
     ]
    }
   ],
   "source": [
    "data_dir = cp[unit]['path']+'rbr/'\n",
    "\n",
    "rbr = '082905'\n",
    "suff = '_20180915_1238'\n",
    "file = data_dir+rbr+suff+'/'+rbr+suff+'\\\\'+rbr+suff+'_data.txt'\n",
    "print(file)"
   ]
  },
  {
   "cell_type": "code",
   "execution_count": 4,
   "metadata": {},
   "outputs": [],
   "source": [
    "# load data\n",
    "R={}\n",
    "for d in cp[unit]:\n",
    "    R[d.label] = insi.rbr.rbr(file,rbr).trim(d=d)"
   ]
  },
  {
   "cell_type": "code",
   "execution_count": 5,
   "metadata": {},
   "outputs": [
    {
     "data": {
      "text/html": [
       "<div>\n",
       "<style scoped>\n",
       "    .dataframe tbody tr th:only-of-type {\n",
       "        vertical-align: middle;\n",
       "    }\n",
       "\n",
       "    .dataframe tbody tr th {\n",
       "        vertical-align: top;\n",
       "    }\n",
       "\n",
       "    .dataframe thead th {\n",
       "        text-align: right;\n",
       "    }\n",
       "</style>\n",
       "<table border=\"1\" class=\"dataframe\">\n",
       "  <thead>\n",
       "    <tr style=\"text-align: right;\">\n",
       "      <th></th>\n",
       "      <th>temperature</th>\n",
       "      <th>pressure</th>\n",
       "      <th>sea_pressure</th>\n",
       "      <th>depth</th>\n",
       "    </tr>\n",
       "    <tr>\n",
       "      <th>time</th>\n",
       "      <th></th>\n",
       "      <th></th>\n",
       "      <th></th>\n",
       "      <th></th>\n",
       "    </tr>\n",
       "  </thead>\n",
       "  <tbody>\n",
       "    <tr>\n",
       "      <th>2018-09-11 06:13:00</th>\n",
       "      <td>14.577524</td>\n",
       "      <td>61.560315</td>\n",
       "      <td>51.427814</td>\n",
       "      <td>51.111816</td>\n",
       "    </tr>\n",
       "    <tr>\n",
       "      <th>2018-09-11 06:13:01</th>\n",
       "      <td>14.576781</td>\n",
       "      <td>61.613836</td>\n",
       "      <td>51.481335</td>\n",
       "      <td>51.165008</td>\n",
       "    </tr>\n",
       "    <tr>\n",
       "      <th>2018-09-11 06:13:02</th>\n",
       "      <td>14.577385</td>\n",
       "      <td>61.241708</td>\n",
       "      <td>51.109207</td>\n",
       "      <td>50.795166</td>\n",
       "    </tr>\n",
       "    <tr>\n",
       "      <th>2018-09-11 06:13:03</th>\n",
       "      <td>14.580068</td>\n",
       "      <td>61.417593</td>\n",
       "      <td>51.285092</td>\n",
       "      <td>50.969971</td>\n",
       "    </tr>\n",
       "    <tr>\n",
       "      <th>2018-09-11 06:13:04</th>\n",
       "      <td>14.578567</td>\n",
       "      <td>61.449385</td>\n",
       "      <td>51.316884</td>\n",
       "      <td>51.001568</td>\n",
       "    </tr>\n",
       "  </tbody>\n",
       "</table>\n",
       "</div>"
      ],
      "text/plain": [
       "                     temperature   pressure  sea_pressure      depth\n",
       "time                                                                \n",
       "2018-09-11 06:13:00    14.577524  61.560315     51.427814  51.111816\n",
       "2018-09-11 06:13:01    14.576781  61.613836     51.481335  51.165008\n",
       "2018-09-11 06:13:02    14.577385  61.241708     51.109207  50.795166\n",
       "2018-09-11 06:13:03    14.580068  61.417593     51.285092  50.969971\n",
       "2018-09-11 06:13:04    14.578567  61.449385     51.316884  51.001568"
      ]
     },
     "execution_count": 5,
     "metadata": {},
     "output_type": "execute_result"
    }
   ],
   "source": [
    "R['d1'].d.head()"
   ]
  },
  {
   "cell_type": "code",
   "execution_count": 6,
   "metadata": {},
   "outputs": [
    {
     "data": {
      "image/png": "[encoded data removed]",
      "text/plain": [
       "<Figure size 1080x720 with 2 Axes>"
      ]
     },
     "metadata": {
      "needs_background": "light"
     },
     "output_type": "display_data"
    }
   ],
   "source": [
    "fig = plt.figure(figsize=(15,10))\n",
    "\n",
    "# depth\n",
    "ax = plt.subplot(211)\n",
    "for i, r in R.items():\n",
    "    r['depth'].plot(ax=ax, label=i)\n",
    "    ax.set_title(r['depth'].name)    \n",
    "    ax.grid()\n",
    "    ax.legend()\n",
    "        \n",
    "# temperature\n",
    "ax = plt.subplot(212)\n",
    "for i, r in R.items():\n",
    "    r['temperature'].plot(ax=ax, label=i)\n",
    "    ax.set_title(r['temperature'].name)    \n",
    "    ax.grid()  \n",
    "    ax.legend()"
   ]
  },
  {
   "cell_type": "code",
   "execution_count": 7,
   "metadata": {},
   "outputs": [
    {
     "data": {
      "text/html": [
       "\n",
       "    <div class=\"bk-root\">\n",
       "        <a href=\"https://bokeh.pydata.org\" target=\"_blank\" class=\"bk-logo bk-logo-small bk-logo-notebook\"></a>\n",
       "        <span id=\"1001\">Loading BokehJS ...</span>\n",
       "    </div>"
      ]
     },
     "metadata": {},
     "output_type": "display_data"
    },
    {
     "data": {
      "application/javascript": [
       "\n",
       "(function(root) {\n",
       "  function now() {\n",
       "    return new Date();\n",
       "  }\n",
       "\n",
       "  var force = true;\n",
       "\n",
       "  if (typeof (root._bokeh_onload_callbacks) === \"undefined\" || force === true) {\n",
       "    root._bokeh_onload_callbacks = [];\n",
       "    root._bokeh_is_loading = undefined;\n",
       "  }\n",
       "\n",
       "  var JS_MIME_TYPE = 'application/javascript';\n",
       "  var HTML_MIME_TYPE = 'text/html';\n",
       "  var EXEC_MIME_TYPE = 'application/vnd.bokehjs_exec.v0+json';\n",
       "  var CLASS_NAME = 'output_bokeh rendered_html';\n",
       "\n",
       "  /**\n",
       "   * Render data to the DOM node\n",
       "   */\n",
       "  function render(props, node) {\n",
       "    var script = document.createElement(\"script\");\n",
       "    node.appendChild(script);\n",
       "  }\n",
       "\n",
       "  /**\n",
       "   * Handle when an output is cleared or removed\n",
       "   */\n",
       "  function handleClearOutput(event, handle) {\n",
       "    var cell = handle.cell;\n",
       "\n",
       "    var id = cell.output_area._bokeh_element_id;\n",
       "    var server_id = cell.output_area._bokeh_server_id;\n",
       "    // Clean up Bokeh references\n",
       "    if (id != null && id in Bokeh.index) {\n",
       "      Bokeh.index[id].model.document.clear();\n",
       "      delete Bokeh.index[id];\n",
       "    }\n",
       "\n",
       "    if (server_id !== undefined) {\n",
       "      // Clean up Bokeh references\n",
       "      var cmd = \"from bokeh.io.state import curstate; print(curstate().uuid_to_server['\" + server_id + \"'].get_sessions()[0].document.roots[0]._id)\";\n",
       "      cell.notebook.kernel.execute(cmd, {\n",
       "        iopub: {\n",
       "          output: function(msg) {\n",
       "            var id = msg.content.text.trim();\n",
       "            if (id in Bokeh.index) {\n",
       "              Bokeh.index[id].model.document.clear();\n",
       "              delete Bokeh.index[id];\n",
       "            }\n",
       "          }\n",
       "        }\n",
       "      });\n",
       "      // Destroy server and session\n",
       "      var cmd = \"import bokeh.io.notebook as ion; ion.destroy_server('\" + server_id + \"')\";\n",
       "      cell.notebook.kernel.execute(cmd);\n",
       "    }\n",
       "  }\n",
       "\n",
       "  /**\n",
       "   * Handle when a new output is added\n",
       "   */\n",
       "  function handleAddOutput(event, handle) {\n",
       "    var output_area = handle.output_area;\n",
       "    var output = handle.output;\n",
       "\n",
       "    // limit handleAddOutput to display_data with EXEC_MIME_TYPE content only\n",
       "    if ((output.output_type != \"display_data\") || (!output.data.hasOwnProperty(EXEC_MIME_TYPE))) {\n",
       "      return\n",
       "    }\n",
       "\n",
       "    var toinsert = output_area.element.find(\".\" + CLASS_NAME.split(' ')[0]);\n",
       "\n",
       "    if (output.metadata[EXEC_MIME_TYPE][\"id\"] !== undefined) {\n",
       "      toinsert[toinsert.length - 1].firstChild.textContent = output.data[JS_MIME_TYPE];\n",
       "      // store reference to embed id on output_area\n",
       "      output_area._bokeh_element_id = output.metadata[EXEC_MIME_TYPE][\"id\"];\n",
       "    }\n",
       "    if (output.metadata[EXEC_MIME_TYPE][\"server_id\"] !== undefined) {\n",
       "      var bk_div = document.createElement(\"div\");\n",
       "      bk_div.innerHTML = output.data[HTML_MIME_TYPE];\n",
       "      var script_attrs = bk_div.children[0].attributes;\n",
       "      for (var i = 0; i < script_attrs.length; i++) {\n",
       "        toinsert[toinsert.length - 1].firstChild.setAttribute(script_attrs[i].name, script_attrs[i].value);\n",
       "      }\n",
       "      // store reference to server id on output_area\n",
       "      output_area._bokeh_server_id = output.metadata[EXEC_MIME_TYPE][\"server_id\"];\n",
       "    }\n",
       "  }\n",
       "\n",
       "  function register_renderer(events, OutputArea) {\n",
       "\n",
       "    function append_mime(data, metadata, element) {\n",
       "      // create a DOM node to render to\n",
       "      var toinsert = this.create_output_subarea(\n",
       "        metadata,\n",
       "        CLASS_NAME,\n",
       "        EXEC_MIME_TYPE\n",
       "      );\n",
       "      this.keyboard_manager.register_events(toinsert);\n",
       "      // Render to node\n",
       "      var props = {data: data, metadata: metadata[EXEC_MIME_TYPE]};\n",
       "      render(props, toinsert[toinsert.length - 1]);\n",
       "      element.append(toinsert);\n",
       "      return toinsert\n",
       "    }\n",
       "\n",
       "    /* Handle when an output is cleared or removed */\n",
       "    events.on('clear_output.CodeCell', handleClearOutput);\n",
       "    events.on('delete.Cell', handleClearOutput);\n",
       "\n",
       "    /* Handle when a new output is added */\n",
       "    events.on('output_added.OutputArea', handleAddOutput);\n",
       "\n",
       "    /**\n",
       "     * Register the mime type and append_mime function with output_area\n",
       "     */\n",
       "    OutputArea.prototype.register_mime_type(EXEC_MIME_TYPE, append_mime, {\n",
       "      /* Is output safe? */\n",
       "      safe: true,\n",
       "      /* Index of renderer in `output_area.display_order` */\n",
       "      index: 0\n",
       "    });\n",
       "  }\n",
       "\n",
       "  // register the mime type if in Jupyter Notebook environment and previously unregistered\n",
       "  if (root.Jupyter !== undefined) {\n",
       "    var events = require('base/js/events');\n",
       "    var OutputArea = require('notebook/js/outputarea').OutputArea;\n",
       "\n",
       "    if (OutputArea.prototype.mime_types().indexOf(EXEC_MIME_TYPE) == -1) {\n",
       "      register_renderer(events, OutputArea);\n",
       "    }\n",
       "  }\n",
       "\n",
       "  \n",
       "  if (typeof (root._bokeh_timeout) === \"undefined\" || force === true) {\n",
       "    root._bokeh_timeout = Date.now() + 5000;\n",
       "    root._bokeh_failed_load = false;\n",
       "  }\n",
       "\n",
       "  var NB_LOAD_WARNING = {'data': {'text/html':\n",
       "     \"<div style='background-color: #fdd'>\\n\"+\n",
       "     \"<p>\\n\"+\n",
       "     \"BokehJS does not appear to have successfully loaded. If loading BokehJS from CDN, this \\n\"+\n",
       "     \"may be due to a slow or bad network connection. Possible fixes:\\n\"+\n",
       "     \"</p>\\n\"+\n",
       "     \"<ul>\\n\"+\n",
       "     \"<li>re-rerun `output_notebook()` to attempt to load from CDN again, or</li>\\n\"+\n",
       "     \"<li>use INLINE resources instead, as so:</li>\\n\"+\n",
       "     \"</ul>\\n\"+\n",
       "     \"<code>\\n\"+\n",
       "     \"from bokeh.resources import INLINE\\n\"+\n",
       "     \"output_notebook(resources=INLINE)\\n\"+\n",
       "     \"</code>\\n\"+\n",
       "     \"</div>\"}};\n",
       "\n",
       "  function display_loaded() {\n",
       "    var el = document.getElementById(\"1001\");\n",
       "    if (el != null) {\n",
       "      el.textContent = \"BokehJS is loading...\";\n",
       "    }\n",
       "    if (root.Bokeh !== undefined) {\n",
       "      if (el != null) {\n",
       "        el.textContent = \"BokehJS \" + root.Bokeh.version + \" successfully loaded.\";\n",
       "      }\n",
       "    } else if (Date.now() < root._bokeh_timeout) {\n",
       "      setTimeout(display_loaded, 100)\n",
       "    }\n",
       "  }\n",
       "\n",
       "\n",
       "  function run_callbacks() {\n",
       "    try {\n",
       "      root._bokeh_onload_callbacks.forEach(function(callback) { callback() });\n",
       "    }\n",
       "    finally {\n",
       "      delete root._bokeh_onload_callbacks\n",
       "    }\n",
       "    console.info(\"Bokeh: all callbacks have finished\");\n",
       "  }\n",
       "\n",
       "  function load_libs(js_urls, callback) {\n",
       "    root._bokeh_onload_callbacks.push(callback);\n",
       "    if (root._bokeh_is_loading > 0) {\n",
       "      console.log(\"Bokeh: BokehJS is being loaded, scheduling callback at\", now());\n",
       "      return null;\n",
       "    }\n",
       "    if (js_urls == null || js_urls.length === 0) {\n",
       "      run_callbacks();\n",
       "      return null;\n",
       "    }\n",
       "    console.log(\"Bokeh: BokehJS not loaded, scheduling load and callback at\", now());\n",
       "    root._bokeh_is_loading = js_urls.length;\n",
       "    for (var i = 0; i < js_urls.length; i++) {\n",
       "      var url = js_urls[i];\n",
       "      var s = document.createElement('script');\n",
       "      s.src = url;\n",
       "      s.async = false;\n",
       "      s.onreadystatechange = s.onload = function() {\n",
       "        root._bokeh_is_loading--;\n",
       "        if (root._bokeh_is_loading === 0) {\n",
       "          console.log(\"Bokeh: all BokehJS libraries loaded\");\n",
       "          run_callbacks()\n",
       "        }\n",
       "      };\n",
       "      s.onerror = function() {\n",
       "        console.warn(\"failed to load library \" + url);\n",
       "      };\n",
       "      console.log(\"Bokeh: injecting script tag for BokehJS library: \", url);\n",
       "      document.getElementsByTagName(\"head\")[0].appendChild(s);\n",
       "    }\n",
       "  };var element = document.getElementById(\"1001\");\n",
       "  if (element == null) {\n",
       "    console.log(\"Bokeh: ERROR: autoload.js configured with elementid '1001' but no matching script tag was found. \")\n",
       "    return false;\n",
       "  }\n",
       "\n",
       "  var js_urls = [\"https://cdn.pydata.org/bokeh/release/bokeh-1.0.4.min.js\", \"https://cdn.pydata.org/bokeh/release/bokeh-widgets-1.0.4.min.js\", \"https://cdn.pydata.org/bokeh/release/bokeh-tables-1.0.4.min.js\", \"https://cdn.pydata.org/bokeh/release/bokeh-gl-1.0.4.min.js\"];\n",
       "\n",
       "  var inline_js = [\n",
       "    function(Bokeh) {\n",
       "      Bokeh.set_log_level(\"info\");\n",
       "    },\n",
       "    \n",
       "    function(Bokeh) {\n",
       "      \n",
       "    },\n",
       "    function(Bokeh) {\n",
       "      console.log(\"Bokeh: injecting CSS: https://cdn.pydata.org/bokeh/release/bokeh-1.0.4.min.css\");\n",
       "      Bokeh.embed.inject_css(\"https://cdn.pydata.org/bokeh/release/bokeh-1.0.4.min.css\");\n",
       "      console.log(\"Bokeh: injecting CSS: https://cdn.pydata.org/bokeh/release/bokeh-widgets-1.0.4.min.css\");\n",
       "      Bokeh.embed.inject_css(\"https://cdn.pydata.org/bokeh/release/bokeh-widgets-1.0.4.min.css\");\n",
       "      console.log(\"Bokeh: injecting CSS: https://cdn.pydata.org/bokeh/release/bokeh-tables-1.0.4.min.css\");\n",
       "      Bokeh.embed.inject_css(\"https://cdn.pydata.org/bokeh/release/bokeh-tables-1.0.4.min.css\");\n",
       "    }\n",
       "  ];\n",
       "\n",
       "  function run_inline_js() {\n",
       "    \n",
       "    if ((root.Bokeh !== undefined) || (force === true)) {\n",
       "      for (var i = 0; i < inline_js.length; i++) {\n",
       "        inline_js[i].call(root, root.Bokeh);\n",
       "      }if (force === true) {\n",
       "        display_loaded();\n",
       "      }} else if (Date.now() < root._bokeh_timeout) {\n",
       "      setTimeout(run_inline_js, 100);\n",
       "    } else if (!root._bokeh_failed_load) {\n",
       "      console.log(\"Bokeh: BokehJS failed to load within specified timeout.\");\n",
       "      root._bokeh_failed_load = true;\n",
       "    } else if (force !== true) {\n",
       "      var cell = $(document.getElementById(\"1001\")).parents('.cell').data().cell;\n",
       "      cell.output_area.append_execute_result(NB_LOAD_WARNING)\n",
       "    }\n",
       "\n",
       "  }\n",
       "\n",
       "  if (root._bokeh_is_loading === 0) {\n",
       "    console.log(\"Bokeh: BokehJS loaded, going straight to plotting\");\n",
       "    run_inline_js();\n",
       "  } else {\n",
       "    load_libs(js_urls, function() {\n",
       "      console.log(\"Bokeh: BokehJS plotting callback run at\", now());\n",
       "      run_inline_js();\n",
       "    });\n",
       "  }\n",
       "}(window));"
      ],
      "application/vnd.bokehjs_load.v0+json": "\n(function(root) {\n  function now() {\n    return new Date();\n  }\n\n  var force = true;\n\n  if (typeof (root._bokeh_onload_callbacks) === \"undefined\" || force === true) {\n    root._bokeh_onload_callbacks = [];\n    root._bokeh_is_loading = undefined;\n  }\n\n  \n\n  \n  if (typeof (root._bokeh_timeout) === \"undefined\" || force === true) {\n    root._bokeh_timeout = Date.now() + 5000;\n    root._bokeh_failed_load = false;\n  }\n\n  var NB_LOAD_WARNING = {'data': {'text/html':\n     \"<div style='background-color: #fdd'>\\n\"+\n     \"<p>\\n\"+\n     \"BokehJS does not appear to have successfully loaded. If loading BokehJS from CDN, this \\n\"+\n     \"may be due to a slow or bad network connection. Possible fixes:\\n\"+\n     \"</p>\\n\"+\n     \"<ul>\\n\"+\n     \"<li>re-rerun `output_notebook()` to attempt to load from CDN again, or</li>\\n\"+\n     \"<li>use INLINE resources instead, as so:</li>\\n\"+\n     \"</ul>\\n\"+\n     \"<code>\\n\"+\n     \"from bokeh.resources import INLINE\\n\"+\n     \"output_notebook(resources=INLINE)\\n\"+\n     \"</code>\\n\"+\n     \"</div>\"}};\n\n  function display_loaded() {\n    var el = document.getElementById(\"1001\");\n    if (el != null) {\n      el.textContent = \"BokehJS is loading...\";\n    }\n    if (root.Bokeh !== undefined) {\n      if (el != null) {\n        el.textContent = \"BokehJS \" + root.Bokeh.version + \" successfully loaded.\";\n      }\n    } else if (Date.now() < root._bokeh_timeout) {\n      setTimeout(display_loaded, 100)\n    }\n  }\n\n\n  function run_callbacks() {\n    try {\n      root._bokeh_onload_callbacks.forEach(function(callback) { callback() });\n    }\n    finally {\n      delete root._bokeh_onload_callbacks\n    }\n    console.info(\"Bokeh: all callbacks have finished\");\n  }\n\n  function load_libs(js_urls, callback) {\n    root._bokeh_onload_callbacks.push(callback);\n    if (root._bokeh_is_loading > 0) {\n      console.log(\"Bokeh: BokehJS is being loaded, scheduling callback at\", now());\n      return null;\n    }\n    if (js_urls == null || js_urls.length === 0) {\n      run_callbacks();\n      return null;\n    }\n    console.log(\"Bokeh: BokehJS not loaded, scheduling load and callback at\", now());\n    root._bokeh_is_loading = js_urls.length;\n    for (var i = 0; i < js_urls.length; i++) {\n      var url = js_urls[i];\n      var s = document.createElement('script');\n      s.src = url;\n      s.async = false;\n      s.onreadystatechange = s.onload = function() {\n        root._bokeh_is_loading--;\n        if (root._bokeh_is_loading === 0) {\n          console.log(\"Bokeh: all BokehJS libraries loaded\");\n          run_callbacks()\n        }\n      };\n      s.onerror = function() {\n        console.warn(\"failed to load library \" + url);\n      };\n      console.log(\"Bokeh: injecting script tag for BokehJS library: \", url);\n      document.getElementsByTagName(\"head\")[0].appendChild(s);\n    }\n  };var element = document.getElementById(\"1001\");\n  if (element == null) {\n    console.log(\"Bokeh: ERROR: autoload.js configured with elementid '1001' but no matching script tag was found. \")\n    return false;\n  }\n\n  var js_urls = [\"https://cdn.pydata.org/bokeh/release/bokeh-1.0.4.min.js\", \"https://cdn.pydata.org/bokeh/release/bokeh-widgets-1.0.4.min.js\", \"https://cdn.pydata.org/bokeh/release/bokeh-tables-1.0.4.min.js\", \"https://cdn.pydata.org/bokeh/release/bokeh-gl-1.0.4.min.js\"];\n\n  var inline_js = [\n    function(Bokeh) {\n      Bokeh.set_log_level(\"info\");\n    },\n    \n    function(Bokeh) {\n      \n    },\n    function(Bokeh) {\n      console.log(\"Bokeh: injecting CSS: https://cdn.pydata.org/bokeh/release/bokeh-1.0.4.min.css\");\n      Bokeh.embed.inject_css(\"https://cdn.pydata.org/bokeh/release/bokeh-1.0.4.min.css\");\n      console.log(\"Bokeh: injecting CSS: https://cdn.pydata.org/bokeh/release/bokeh-widgets-1.0.4.min.css\");\n      Bokeh.embed.inject_css(\"https://cdn.pydata.org/bokeh/release/bokeh-widgets-1.0.4.min.css\");\n      console.log(\"Bokeh: injecting CSS: https://cdn.pydata.org/bokeh/release/bokeh-tables-1.0.4.min.css\");\n      Bokeh.embed.inject_css(\"https://cdn.pydata.org/bokeh/release/bokeh-tables-1.0.4.min.css\");\n    }\n  ];\n\n  function run_inline_js() {\n    \n    if ((root.Bokeh !== undefined) || (force === true)) {\n      for (var i = 0; i < inline_js.length; i++) {\n        inline_js[i].call(root, root.Bokeh);\n      }if (force === true) {\n        display_loaded();\n      }} else if (Date.now() < root._bokeh_timeout) {\n      setTimeout(run_inline_js, 100);\n    } else if (!root._bokeh_failed_load) {\n      console.log(\"Bokeh: BokehJS failed to load within specified timeout.\");\n      root._bokeh_failed_load = true;\n    } else if (force !== true) {\n      var cell = $(document.getElementById(\"1001\")).parents('.cell').data().cell;\n      cell.output_area.append_execute_result(NB_LOAD_WARNING)\n    }\n\n  }\n\n  if (root._bokeh_is_loading === 0) {\n    console.log(\"Bokeh: BokehJS loaded, going straight to plotting\");\n    run_inline_js();\n  } else {\n    load_libs(js_urls, function() {\n      console.log(\"Bokeh: BokehJS plotting callback run at\", now());\n      run_inline_js();\n    });\n  }\n}(window));"
     },
     "metadata": {},
     "output_type": "display_data"
    },
    {
     "data": {
      "text/html": [
       "\n",
       "\n",
       "\n",
       "\n",
       "\n",
       "\n",
       "  <div class=\"bk-root\" id=\"2ad84893-a395-4abe-b3f5-f2757ca15eaa\" data-root-id=\"1129\"></div>\n"
      ]
     },
     "metadata": {},
     "output_type": "display_data"
    },
    {
     "data": {
      "application/javascript": [
       "(function(root) {\n",
       "  function embed_document(root) {\n",
       "    \n",
       "  var docs_json = {\"9a904ccd-75a2-4724-8b46-028dcd97f14f\":{\"roots\":{\"references\":[{\"attributes\":{\"children\":[{\"id\":\"1128\",\"type\":\"ToolbarBox\"},{\"id\":\"1126\",\"type\":\"Column\"}]},\"id\":\"1129\",\"type\":\"Column\"},{\"attributes\":{},\"id\":\"1063\",\"type\":\"WheelZoomTool\"},{\"attributes\":{\"days\":[1,8,15,22]},\"id\":\"1114\",\"type\":\"DaysTicker\"},{\"attributes\":{\"bottom_units\":\"screen\",\"fill_alpha\":{\"value\":0.5},\"fill_color\":{\"value\":\"lightgrey\"},\"left_units\":\"screen\",\"level\":\"overlay\",\"line_alpha\":{\"value\":1.0},\"line_color\":{\"value\":\"black\"},\"line_dash\":[4,4],\"line_width\":{\"value\":2},\"plot\":null,\"render_mode\":\"css\",\"right_units\":\"screen\",\"top_units\":\"screen\"},\"id\":\"1029\",\"type\":\"BoxAnnotation\"},{\"attributes\":{\"days\":[1,2,3,4,5,6,7,8,9,10,11,12,13,14,15,16,17,18,19,20,21,22,23,24,25,26,27,28,29,30,31]},\"id\":\"1091\",\"type\":\"DaysTicker\"},{\"attributes\":{},\"id\":\"1008\",\"type\":\"LinearScale\"},{\"attributes\":{\"days\":[1,15]},\"id\":\"1115\",\"type\":\"DaysTicker\"},{\"attributes\":{\"overlay\":{\"id\":\"1069\",\"type\":\"BoxAnnotation\"}},\"id\":\"1064\",\"type\":\"BoxZoomTool\"},{\"attributes\":{\"months\":[0,1,2,3,4,5,6,7,8,9,10,11]},\"id\":\"1116\",\"type\":\"MonthsTicker\"},{\"attributes\":{\"days\":[1,4,7,10,13,16,19,22,25,28]},\"id\":\"1092\",\"type\":\"DaysTicker\"},{\"attributes\":{},\"id\":\"1065\",\"type\":\"ResetTool\"},{\"attributes\":{},\"id\":\"1010\",\"type\":\"LinearScale\"},{\"attributes\":{\"data_source\":{\"id\":\"1035\",\"type\":\"ColumnDataSource\"},\"glyph\":{\"id\":\"1037\",\"type\":\"Line\"},\"hover_glyph\":null,\"muted_glyph\":null,\"nonselection_glyph\":{\"id\":\"1038\",\"type\":\"Line\"},\"selection_glyph\":null,\"view\":{\"id\":\"1040\",\"type\":\"CDSView\"}},\"id\":\"1039\",\"type\":\"GlyphRenderer\"},{\"attributes\":{\"days\":[1,8,15,22]},\"id\":\"1093\",\"type\":\"DaysTicker\"},{\"attributes\":{\"months\":[0,2,4,6,8,10]},\"id\":\"1117\",\"type\":\"MonthsTicker\"},{\"attributes\":{\"below\":[{\"id\":\"1052\",\"type\":\"DatetimeAxis\"}],\"left\":[{\"id\":\"1057\",\"type\":\"LinearAxis\"}],\"plot_height\":300,\"plot_width\":300,\"renderers\":[{\"id\":\"1052\",\"type\":\"DatetimeAxis\"},{\"id\":\"1056\",\"type\":\"Grid\"},{\"id\":\"1057\",\"type\":\"LinearAxis\"},{\"id\":\"1061\",\"type\":\"Grid\"},{\"id\":\"1069\",\"type\":\"BoxAnnotation\"},{\"id\":\"1079\",\"type\":\"GlyphRenderer\"}],\"title\":null,\"toolbar\":{\"id\":\"1067\",\"type\":\"Toolbar\"},\"toolbar_location\":null,\"x_range\":{\"id\":\"1004\",\"type\":\"DataRange1d\"},\"x_scale\":{\"id\":\"1048\",\"type\":\"LinearScale\"},\"y_range\":{\"id\":\"1046\",\"type\":\"DataRange1d\"},\"y_scale\":{\"id\":\"1050\",\"type\":\"LinearScale\"}},\"id\":\"1043\",\"subtype\":\"Figure\",\"type\":\"Plot\"},{\"attributes\":{},\"id\":\"1066\",\"type\":\"HelpTool\"},{\"attributes\":{\"months\":[0,4,8]},\"id\":\"1118\",\"type\":\"MonthsTicker\"},{\"attributes\":{\"line_alpha\":0.1,\"line_color\":\"#1f77b4\",\"x\":{\"field\":\"time\"},\"y\":{\"field\":\"temperature\"}},\"id\":\"1038\",\"type\":\"Line\"},{\"attributes\":{\"days\":[1,15]},\"id\":\"1094\",\"type\":\"DaysTicker\"},{\"attributes\":{\"active_drag\":\"auto\",\"active_inspect\":\"auto\",\"active_multi\":null,\"active_scroll\":\"auto\",\"active_tap\":\"auto\",\"tools\":[{\"id\":\"1062\",\"type\":\"PanTool\"},{\"id\":\"1063\",\"type\":\"WheelZoomTool\"},{\"id\":\"1064\",\"type\":\"BoxZoomTool\"},{\"id\":\"1065\",\"type\":\"ResetTool\"},{\"id\":\"1066\",\"type\":\"HelpTool\"},{\"id\":\"1081\",\"type\":\"HoverTool\"}]},\"id\":\"1067\",\"type\":\"Toolbar\"},{\"attributes\":{\"months\":[0,6]},\"id\":\"1119\",\"type\":\"MonthsTicker\"},{\"attributes\":{\"months\":[0,1,2,3,4,5,6,7,8,9,10,11]},\"id\":\"1095\",\"type\":\"MonthsTicker\"},{\"attributes\":{\"num_minor_ticks\":5,\"tickers\":[{\"id\":\"1088\",\"type\":\"AdaptiveTicker\"},{\"id\":\"1089\",\"type\":\"AdaptiveTicker\"},{\"id\":\"1090\",\"type\":\"AdaptiveTicker\"},{\"id\":\"1091\",\"type\":\"DaysTicker\"},{\"id\":\"1092\",\"type\":\"DaysTicker\"},{\"id\":\"1093\",\"type\":\"DaysTicker\"},{\"id\":\"1094\",\"type\":\"DaysTicker\"},{\"id\":\"1095\",\"type\":\"MonthsTicker\"},{\"id\":\"1096\",\"type\":\"MonthsTicker\"},{\"id\":\"1097\",\"type\":\"MonthsTicker\"},{\"id\":\"1098\",\"type\":\"MonthsTicker\"},{\"id\":\"1099\",\"type\":\"YearsTicker\"}]},\"id\":\"1013\",\"type\":\"DatetimeTicker\"},{\"attributes\":{\"source\":{\"id\":\"1035\",\"type\":\"ColumnDataSource\"}},\"id\":\"1040\",\"type\":\"CDSView\"},{\"attributes\":{\"below\":[{\"id\":\"1012\",\"type\":\"DatetimeAxis\"}],\"left\":[{\"id\":\"1017\",\"type\":\"LinearAxis\"}],\"plot_height\":300,\"plot_width\":300,\"renderers\":[{\"id\":\"1012\",\"type\":\"DatetimeAxis\"},{\"id\":\"1016\",\"type\":\"Grid\"},{\"id\":\"1017\",\"type\":\"LinearAxis\"},{\"id\":\"1021\",\"type\":\"Grid\"},{\"id\":\"1029\",\"type\":\"BoxAnnotation\"},{\"id\":\"1039\",\"type\":\"GlyphRenderer\"}],\"title\":null,\"toolbar\":{\"id\":\"1027\",\"type\":\"Toolbar\"},\"toolbar_location\":null,\"x_range\":{\"id\":\"1004\",\"type\":\"DataRange1d\"},\"x_scale\":{\"id\":\"1008\",\"type\":\"LinearScale\"},\"y_range\":{\"id\":\"1006\",\"type\":\"DataRange1d\"},\"y_scale\":{\"id\":\"1010\",\"type\":\"LinearScale\"}},\"id\":\"1002\",\"subtype\":\"Figure\",\"type\":\"Plot\"},{\"attributes\":{\"bottom_units\":\"screen\",\"fill_alpha\":{\"value\":0.5},\"fill_color\":{\"value\":\"lightgrey\"},\"left_units\":\"screen\",\"level\":\"overlay\",\"line_alpha\":{\"value\":1.0},\"line_color\":{\"value\":\"black\"},\"line_dash\":[4,4],\"line_width\":{\"value\":2},\"plot\":null,\"render_mode\":\"css\",\"right_units\":\"screen\",\"top_units\":\"screen\"},\"id\":\"1069\",\"type\":\"BoxAnnotation\"},{\"attributes\":{\"formatter\":{\"id\":\"1085\",\"type\":\"DatetimeTickFormatter\"},\"plot\":{\"id\":\"1002\",\"subtype\":\"Figure\",\"type\":\"Plot\"},\"ticker\":{\"id\":\"1013\",\"type\":\"DatetimeTicker\"}},\"id\":\"1012\",\"type\":\"DatetimeAxis\"},{\"attributes\":{\"months\":[0,2,4,6,8,10]},\"id\":\"1096\",\"type\":\"MonthsTicker\"},{\"attributes\":{},\"id\":\"1120\",\"type\":\"YearsTicker\"},{\"attributes\":{\"callback\":null},\"id\":\"1046\",\"type\":\"DataRange1d\"},{\"attributes\":{},\"id\":\"1121\",\"type\":\"Selection\"},{\"attributes\":{\"months\":[0,4,8]},\"id\":\"1097\",\"type\":\"MonthsTicker\"},{\"attributes\":{\"plot\":{\"id\":\"1002\",\"subtype\":\"Figure\",\"type\":\"Plot\"},\"ticker\":{\"id\":\"1013\",\"type\":\"DatetimeTicker\"}},\"id\":\"1016\",\"type\":\"Grid\"},{\"attributes\":{},\"id\":\"1048\",\"type\":\"LinearScale\"},{\"attributes\":{\"line_alpha\":0.1,\"line_color\":\"#1f77b4\",\"x\":{\"field\":\"time\"},\"y\":{\"field\":\"depth\"}},\"id\":\"1078\",\"type\":\"Line\"},{\"attributes\":{\"data_source\":{\"id\":\"1075\",\"type\":\"ColumnDataSource\"},\"glyph\":{\"id\":\"1077\",\"type\":\"Line\"},\"hover_glyph\":null,\"muted_glyph\":null,\"nonselection_glyph\":{\"id\":\"1078\",\"type\":\"Line\"},\"selection_glyph\":null,\"view\":{\"id\":\"1080\",\"type\":\"CDSView\"}},\"id\":\"1079\",\"type\":\"GlyphRenderer\"},{\"attributes\":{},\"id\":\"1122\",\"type\":\"UnionRenderers\"},{\"attributes\":{\"months\":[0,6]},\"id\":\"1098\",\"type\":\"MonthsTicker\"},{\"attributes\":{\"formatter\":{\"id\":\"1087\",\"type\":\"BasicTickFormatter\"},\"plot\":{\"id\":\"1002\",\"subtype\":\"Figure\",\"type\":\"Plot\"},\"ticker\":{\"id\":\"1018\",\"type\":\"BasicTicker\"}},\"id\":\"1017\",\"type\":\"LinearAxis\"},{\"attributes\":{},\"id\":\"1050\",\"type\":\"LinearScale\"},{\"attributes\":{},\"id\":\"1099\",\"type\":\"YearsTicker\"},{\"attributes\":{},\"id\":\"1018\",\"type\":\"BasicTicker\"},{\"attributes\":{\"formatter\":{\"id\":\"1106\",\"type\":\"DatetimeTickFormatter\"},\"plot\":{\"id\":\"1043\",\"subtype\":\"Figure\",\"type\":\"Plot\"},\"ticker\":{\"id\":\"1053\",\"type\":\"DatetimeTicker\"}},\"id\":\"1052\",\"type\":\"DatetimeAxis\"},{\"attributes\":{\"line_color\":\"#1f77b4\",\"x\":{\"field\":\"time\"},\"y\":{\"field\":\"depth\"}},\"id\":\"1077\",\"type\":\"Line\"},{\"attributes\":{\"tools\":[{\"id\":\"1022\",\"type\":\"PanTool\"},{\"id\":\"1023\",\"type\":\"WheelZoomTool\"},{\"id\":\"1024\",\"type\":\"BoxZoomTool\"},{\"id\":\"1025\",\"type\":\"ResetTool\"},{\"id\":\"1026\",\"type\":\"HelpTool\"},{\"id\":\"1041\",\"type\":\"HoverTool\"},{\"id\":\"1062\",\"type\":\"PanTool\"},{\"id\":\"1063\",\"type\":\"WheelZoomTool\"},{\"id\":\"1064\",\"type\":\"BoxZoomTool\"},{\"id\":\"1065\",\"type\":\"ResetTool\"},{\"id\":\"1066\",\"type\":\"HelpTool\"},{\"id\":\"1081\",\"type\":\"HoverTool\"}]},\"id\":\"1127\",\"type\":\"ProxyToolbar\"},{\"attributes\":{},\"id\":\"1108\",\"type\":\"BasicTickFormatter\"},{\"attributes\":{\"line_color\":\"#1f77b4\",\"x\":{\"field\":\"time\"},\"y\":{\"field\":\"temperature\"}},\"id\":\"1037\",\"type\":\"Line\"},{\"attributes\":{},\"id\":\"1100\",\"type\":\"Selection\"},{\"attributes\":{\"dimension\":1,\"plot\":{\"id\":\"1002\",\"subtype\":\"Figure\",\"type\":\"Plot\"},\"ticker\":{\"id\":\"1018\",\"type\":\"BasicTicker\"}},\"id\":\"1021\",\"type\":\"Grid\"},{\"attributes\":{\"num_minor_ticks\":5,\"tickers\":[{\"id\":\"1109\",\"type\":\"AdaptiveTicker\"},{\"id\":\"1110\",\"type\":\"AdaptiveTicker\"},{\"id\":\"1111\",\"type\":\"AdaptiveTicker\"},{\"id\":\"1112\",\"type\":\"DaysTicker\"},{\"id\":\"1113\",\"type\":\"DaysTicker\"},{\"id\":\"1114\",\"type\":\"DaysTicker\"},{\"id\":\"1115\",\"type\":\"DaysTicker\"},{\"id\":\"1116\",\"type\":\"MonthsTicker\"},{\"id\":\"1117\",\"type\":\"MonthsTicker\"},{\"id\":\"1118\",\"type\":\"MonthsTicker\"},{\"id\":\"1119\",\"type\":\"MonthsTicker\"},{\"id\":\"1120\",\"type\":\"YearsTicker\"}]},\"id\":\"1053\",\"type\":\"DatetimeTicker\"},{\"attributes\":{\"source\":{\"id\":\"1075\",\"type\":\"ColumnDataSource\"}},\"id\":\"1080\",\"type\":\"CDSView\"},{\"attributes\":{},\"id\":\"1101\",\"type\":\"UnionRenderers\"},{\"attributes\":{},\"id\":\"1022\",\"type\":\"PanTool\"},{\"attributes\":{\"plot\":{\"id\":\"1043\",\"subtype\":\"Figure\",\"type\":\"Plot\"},\"ticker\":{\"id\":\"1053\",\"type\":\"DatetimeTicker\"}},\"id\":\"1056\",\"type\":\"Grid\"},{\"attributes\":{\"children\":[{\"id\":\"1125\",\"type\":\"Row\"}]},\"id\":\"1126\",\"type\":\"Column\"},{\"attributes\":{\"callback\":null,\"data\":{\"depth\":{\"__ndarray__\":\"kkMkD7WCSUBGhq7WG4JJQHWLp7u+gklAZBbVsTSCSUCrCRNcZ4JJQJB+lSeFgklAD+DxRS6DSUBk3iDhDINJQP74yjsGg0lAbOi5x0qDSUBv3oiIxoNJQME5c6l1g0lAL/nIe4+DSUA+ECLir4NJQHpTizgDhElA3jxJeMqDSUCevCDVfoRJQJ7yPnhyhElAtMqQJHiESUAFRDprlYRJQFWPwauhhElA32tozxaFSUC6IcHjBYVJQC5SWfuYhElAxdFC7/qESUAK1K9mO4VJQPkboytHhUlA1dQmDJKFSUBM6VdC0IVJQMf6Syu5hUlA2ZtXxfWFSUAl2S4uxYVJQPloyZbzhUlAV/mLxgeGSUCjUgqOVYZJQCwvlnUBhklAM65b4M6GSUBugZ6xJIZJQABSeiqQhklAc0nd55uGSUDte8Ycx4ZJQLWOw8OohklA5THM0heHSUCcVoZIuIZJQGnfw8KchklAR6WLW+6GSUDpvqy7v4dJQEqZJDDBhklAF3C0tx6HSUBnEy9oRIdJQBQo036mh0lASxYK61mHSUBLjyThdodJQOOJr2Cgh0lA1EuiGSuHSUD2rn7zc4dJQCkWqxRkh0lA3G0XmquHSUDFrtKxTYdJQLoBDaQ5h0lARVUCGAWISUBRAZ4iNYdJQAdbnJdfh0lABGWNWTqHSUCu2hEq1IdJQMUIVSjah0lAl5Gmt8aHSUBUkwEcEodJQBPLDj7Gh0lAX5DetaSHSUB1nJTgkIdJQMdwyzFeiElAkB5G2X2HSUD5FSmcNohJQBYGMUGjh0lA0VJr+NmHSUBjGRkbsYdJQBuxu+UPiElATg9lA0SJSUA=\",\"dtype\":\"float64\",\"shape\":[79]},\"pressure\":{\"__ndarray__\":\"juN2Hgu8TkC8tovzcLtOQFB8UNoUvE5Ay+vw9Ym7TkDlZGTwvLtOQM7rK+vau05AxQchFYW8TkDpZmF7Y7xOQEdPlstcvE5AYTX8w6G8TkCsOrlIHr1OQLeCi+nMvE5AANLJ5Oa8TkCaMWt+B71OQAr0y1hbvU5ANHm5PiK9TkD/8fW4171OQHatj0jLvU5AOQPN/dC9TkAzEtpy7r1OQPc1ycb6vU5AsZDBo3C+TkDEYVudX75OQL/wlwjyvU5AOXZxl1S+TkAOPgd1lb5OQObvmUyhvk5Aod2ao+y+TkDdj048K79OQMNWugAUv05AhSCk+lC/TkCKGZYWIL9OQHaQk8hOv05Ac7k9GGO/TkCdSuhasb9OQDekbL1cv05AS7VEbSvATkDc/TIxgL9OQMRMGFTsv05AVfEPJPi/TkCHL3CdI8BOQL/BXxQFwE5AhhI403TATkAlWaixFMBOQHJjQwD5v05ArnZTGkvATkB2U9XFHcFOQFPNWqcdwE5APrr5wnvATkBr+RivocBOQGw9+GAEwU5AKVkGVLfATkCggOp31MBOQAsELzn+wE5AmbKIOIjATkAZWqCF0cBOQCIztI3BwE5Ai9VUhAnBTkA7anUHq8BOQGuD79mWwE5Ap7zuj2PBTkCJ1VBRksBOQE2HgAm9wE5AfDuOkJfATkCSxXBUMsFOQAWBQFw4wU5Ab0yzzCTBTkAdskgTb8BOQPfhdlIkwU5AxdE3lQLBTkCaHoeg7sBOQF66rDa9wU5ATykbe9vATkAj1GdilcFOQAPuFx4BwU5AIsoSLDjBTkDsnxoOD8FOQM98r25uwU5AKS/oc6TCTkA=\",\"dtype\":\"float64\",\"shape\":[79]},\"sea_pressure\":{\"__ndarray__\":\"kguEUxWrSUDE3pgoe6pJQFekXQ8fq0lAzxP+KpSqSUDsjHElx6pJQNUTOSDlqklAzi8uSo+rSUDxjm6wbatJQE53owBnq0lAal0J+aurSUCzYsZ9KKxJQMKqmB7Xq0lACfrWGfGrSUCfWXizEaxJQA4c2Y1lrElAOqHGcyysSUACGgPu4axJQH7VnH3VrElAPCvaMtusSUA5Ouen+KxJQABe1vsErUlAtrjO2HqtSUDKiWjSaa1JQMUYpT38rElAQ55+zF6tSUAVZhSqn61JQOsXp4GrrUlApgWo2PatSUDit1txNa5JQMt+xzUerklAjEixL1uuSUCRQaNLKq5JQH+4oP1YrklAeuFKTW2uSUCmcvWPu65JQD7MefJmrklAUd1RojWvSUDfJUBmiq5JQMp0JYn2rklAXRkdWQKvSUCMV33SLa9JQMbpbEkPr0lAjjpFCH+vSUAugbXmHq9JQHqLUDUDr0lAs55gT1WvSUB/e+L6J7BJQFn1Z9wnr0lARuIG+IWvSUByISbkq69JQHJlBZYOsElAK4ETicGvSUCmqPes3q9JQA0sPG4IsElAoNqVbZKvSUAigq26269JQCpbwcLLr0lAkf1huROwSUBBkoI8ta9JQG+r/A6hr0lAsOT7xG2wSUCQ/V2GnK9JQFWvjT7Hr0lAgWObxaGvSUCa7X2JPLBJQAupTZFCsElAd3TAAS+wSUAm2lVIea9JQAMKhIcusElAzflEygywSUCfRpTV+K9JQGXiuWvHsElAWVEosOWvSUAt/HSXn7BJQA8WJVMLsElAK/IfYUKwSUDxxydDGbBJQNSkvKN4sElAMFf1qK6xSUA=\",\"dtype\":\"float64\",\"shape\":[79]},\"temperature\":{\"__ndarray__\":\"iS2YU10nLUArru6wPCctQKXqrWv5Jy1AXYrBfq8pLUDO3L+JUystQC78v24BLS1A25LJZ4EyLUCSQFT8CzktQJDTG6/wPi1AhR91b9Q/LUDx6ECG9D8tQOA6ez41QC1AagZ4o3FALUDlipRegkAtQN//sVUiQC1AwenIVyM/LUDu2DKN5D0tQC6X4BYkPC1A7Ygwa085LUC2Vb26MjUtQCpM32sIMy1A09JV6QwzLUDMkx6UmTYtQHwetgc0Oy1Abtbo7p07LUD0xSORsTYtQKkYJAR8Mi1AVI+EFygvLUBn4d5yfC8tQJleNsTxMC1AnVwLMoEwLUC31rlmSjAtQIqX5Ad/Ly1AV5aNc0AwLUC86ji1ajEtQPZSqcBmMS1AB7ec6EYvLUB8urd6AS0tQIHv9zt6LC1AVPz1xQUtLUDuANsDpS4tQHGcgmrxMC1AOerV7dkxLUB8WN1YvjEtQFEFH1qWMS1A+cZHwvUvLUBGVlKxqi0tQLwmhhDNLC1A4xOy8zYtLUDZcAMz5S0tQGIN8NheLS1ARiYMQCosLUDbidp+eigtQFwmnVv7JS1AfWXequsmLUA8iRjhsyctQOGtq4FlKC1A9nCw1AYpLUApAHACjistQIvIIfiaLS1Az8Mi6UctLUBWzek5uiwtQMOtkFuQLi1ArNj8S5QwLUBd9b+s6i4tQLBb0OzQKi1AKsJYoI0oLUC8lAfb5istQCVxs5yoMC1A7ijhHIgzLUCW4xcnhzEtQA7XdwhcMC1ArK1UJ9IyLUCMVPLEhjctQGyRdJ6TOi1AwtUMam86LUAeJO8RcDYtQDD6g7A4MS1AG8WDdwMuLUA=\",\"dtype\":\"float64\",\"shape\":[79]},\"time\":{\"__ndarray__\":\"AACeL3RcdkIAAEQ+dFx2QgAA6kx0XHZCAACQW3RcdkIAADZqdFx2QgAA3Hh0XHZCAACCh3RcdkIAACiWdFx2QgAAzqR0XHZCAAB0s3RcdkIAABrCdFx2QgAAwNB0XHZCAABm33RcdkIAAAzudFx2QgAAsvx0XHZCAABYC3VcdkIAAP4ZdVx2QgAApCh1XHZCAABKN3VcdkIAAPBFdVx2QgAAllR1XHZCAAA8Y3VcdkIAAOJxdVx2QgAAiIB1XHZCAAAuj3VcdkIAANSddVx2QgAAeqx1XHZCAAAgu3VcdkIAAMbJdVx2QgAAbNh1XHZCAAAS53VcdkIAALj1dVx2QgAAXgR2XHZCAAAEE3ZcdkIAAKohdlx2QgAAUDB2XHZCAAD2PnZcdkIAAJxNdlx2QgAAQlx2XHZCAADoanZcdkIAAI55dlx2QgAANIh2XHZCAADalnZcdkIAAICldlx2QgAAJrR2XHZCAADMwnZcdkIAAHLRdlx2QgAAGOB2XHZCAAC+7nZcdkIAAGT9dlx2QgAACgx3XHZCAACwGndcdkIAAFYpd1x2QgAA/Dd3XHZCAACiRndcdkIAAEhVd1x2QgAA7mN3XHZCAACUcndcdkIAADqBd1x2QgAA4I93XHZCAACGnndcdkIAACytd1x2QgAA0rt3XHZCAAB4yndcdkIAAB7Zd1x2QgAAxOd3XHZCAABq9ndcdkIAABAFeFx2QgAAthN4XHZCAABcInhcdkIAAAIxeFx2QgAAqD94XHZCAABOTnhcdkIAAPRceFx2QgAAmmt4XHZCAABAenhcdkIAAOaIeFx2QgAAjJd4XHZCAAAypnhcdkI=\",\"dtype\":\"float64\",\"shape\":[79]}},\"selected\":{\"id\":\"1121\",\"type\":\"Selection\"},\"selection_policy\":{\"id\":\"1122\",\"type\":\"UnionRenderers\"}},\"id\":\"1075\",\"type\":\"ColumnDataSource\"},{\"attributes\":{\"mantissas\":[1,2,5],\"max_interval\":500.0,\"num_minor_ticks\":0},\"id\":\"1109\",\"type\":\"AdaptiveTicker\"},{\"attributes\":{\"formatter\":{\"id\":\"1108\",\"type\":\"BasicTickFormatter\"},\"plot\":{\"id\":\"1043\",\"subtype\":\"Figure\",\"type\":\"Plot\"},\"ticker\":{\"id\":\"1058\",\"type\":\"BasicTicker\"}},\"id\":\"1057\",\"type\":\"LinearAxis\"},{\"attributes\":{\"toolbar\":{\"id\":\"1127\",\"type\":\"ProxyToolbar\"},\"toolbar_location\":\"above\"},\"id\":\"1128\",\"type\":\"ToolbarBox\"},{\"attributes\":{\"callback\":null,\"data\":{\"depth\":{\"__ndarray__\":\"kkMkD7WCSUBGhq7WG4JJQHWLp7u+gklAZBbVsTSCSUCrCRNcZ4JJQJB+lSeFgklAD+DxRS6DSUBk3iDhDINJQP74yjsGg0lAbOi5x0qDSUBv3oiIxoNJQME5c6l1g0lAL/nIe4+DSUA+ECLir4NJQHpTizgDhElA3jxJeMqDSUCevCDVfoRJQJ7yPnhyhElAtMqQJHiESUAFRDprlYRJQFWPwauhhElA32tozxaFSUC6IcHjBYVJQC5SWfuYhElAxdFC7/qESUAK1K9mO4VJQPkboytHhUlA1dQmDJKFSUBM6VdC0IVJQMf6Syu5hUlA2ZtXxfWFSUAl2S4uxYVJQPloyZbzhUlAV/mLxgeGSUCjUgqOVYZJQCwvlnUBhklAM65b4M6GSUBugZ6xJIZJQABSeiqQhklAc0nd55uGSUDte8Ycx4ZJQLWOw8OohklA5THM0heHSUCcVoZIuIZJQGnfw8KchklAR6WLW+6GSUDpvqy7v4dJQEqZJDDBhklAF3C0tx6HSUBnEy9oRIdJQBQo036mh0lASxYK61mHSUBLjyThdodJQOOJr2Cgh0lA1EuiGSuHSUD2rn7zc4dJQCkWqxRkh0lA3G0XmquHSUDFrtKxTYdJQLoBDaQ5h0lARVUCGAWISUBRAZ4iNYdJQAdbnJdfh0lABGWNWTqHSUCu2hEq1IdJQMUIVSjah0lAl5Gmt8aHSUBUkwEcEodJQBPLDj7Gh0lAX5DetaSHSUB1nJTgkIdJQMdwyzFeiElAkB5G2X2HSUD5FSmcNohJQBYGMUGjh0lA0VJr+NmHSUBjGRkbsYdJQBuxu+UPiElATg9lA0SJSUA=\",\"dtype\":\"float64\",\"shape\":[79]},\"pressure\":{\"__ndarray__\":\"juN2Hgu8TkC8tovzcLtOQFB8UNoUvE5Ay+vw9Ym7TkDlZGTwvLtOQM7rK+vau05AxQchFYW8TkDpZmF7Y7xOQEdPlstcvE5AYTX8w6G8TkCsOrlIHr1OQLeCi+nMvE5AANLJ5Oa8TkCaMWt+B71OQAr0y1hbvU5ANHm5PiK9TkD/8fW4171OQHatj0jLvU5AOQPN/dC9TkAzEtpy7r1OQPc1ycb6vU5AsZDBo3C+TkDEYVudX75OQL/wlwjyvU5AOXZxl1S+TkAOPgd1lb5OQObvmUyhvk5Aod2ao+y+TkDdj048K79OQMNWugAUv05AhSCk+lC/TkCKGZYWIL9OQHaQk8hOv05Ac7k9GGO/TkCdSuhasb9OQDekbL1cv05AS7VEbSvATkDc/TIxgL9OQMRMGFTsv05AVfEPJPi/TkCHL3CdI8BOQL/BXxQFwE5AhhI403TATkAlWaixFMBOQHJjQwD5v05ArnZTGkvATkB2U9XFHcFOQFPNWqcdwE5APrr5wnvATkBr+RivocBOQGw9+GAEwU5AKVkGVLfATkCggOp31MBOQAsELzn+wE5AmbKIOIjATkAZWqCF0cBOQCIztI3BwE5Ai9VUhAnBTkA7anUHq8BOQGuD79mWwE5Ap7zuj2PBTkCJ1VBRksBOQE2HgAm9wE5AfDuOkJfATkCSxXBUMsFOQAWBQFw4wU5Ab0yzzCTBTkAdskgTb8BOQPfhdlIkwU5AxdE3lQLBTkCaHoeg7sBOQF66rDa9wU5ATykbe9vATkAj1GdilcFOQAPuFx4BwU5AIsoSLDjBTkDsnxoOD8FOQM98r25uwU5AKS/oc6TCTkA=\",\"dtype\":\"float64\",\"shape\":[79]},\"sea_pressure\":{\"__ndarray__\":\"kguEUxWrSUDE3pgoe6pJQFekXQ8fq0lAzxP+KpSqSUDsjHElx6pJQNUTOSDlqklAzi8uSo+rSUDxjm6wbatJQE53owBnq0lAal0J+aurSUCzYsZ9KKxJQMKqmB7Xq0lACfrWGfGrSUCfWXizEaxJQA4c2Y1lrElAOqHGcyysSUACGgPu4axJQH7VnH3VrElAPCvaMtusSUA5Ouen+KxJQABe1vsErUlAtrjO2HqtSUDKiWjSaa1JQMUYpT38rElAQ55+zF6tSUAVZhSqn61JQOsXp4GrrUlApgWo2PatSUDit1txNa5JQMt+xzUerklAjEixL1uuSUCRQaNLKq5JQH+4oP1YrklAeuFKTW2uSUCmcvWPu65JQD7MefJmrklAUd1RojWvSUDfJUBmiq5JQMp0JYn2rklAXRkdWQKvSUCMV33SLa9JQMbpbEkPr0lAjjpFCH+vSUAugbXmHq9JQHqLUDUDr0lAs55gT1WvSUB/e+L6J7BJQFn1Z9wnr0lARuIG+IWvSUByISbkq69JQHJlBZYOsElAK4ETicGvSUCmqPes3q9JQA0sPG4IsElAoNqVbZKvSUAigq26269JQCpbwcLLr0lAkf1huROwSUBBkoI8ta9JQG+r/A6hr0lAsOT7xG2wSUCQ/V2GnK9JQFWvjT7Hr0lAgWObxaGvSUCa7X2JPLBJQAupTZFCsElAd3TAAS+wSUAm2lVIea9JQAMKhIcusElAzflEygywSUCfRpTV+K9JQGXiuWvHsElAWVEosOWvSUAt/HSXn7BJQA8WJVMLsElAK/IfYUKwSUDxxydDGbBJQNSkvKN4sElAMFf1qK6xSUA=\",\"dtype\":\"float64\",\"shape\":[79]},\"temperature\":{\"__ndarray__\":\"iS2YU10nLUArru6wPCctQKXqrWv5Jy1AXYrBfq8pLUDO3L+JUystQC78v24BLS1A25LJZ4EyLUCSQFT8CzktQJDTG6/wPi1AhR91b9Q/LUDx6ECG9D8tQOA6ez41QC1AagZ4o3FALUDlipRegkAtQN//sVUiQC1AwenIVyM/LUDu2DKN5D0tQC6X4BYkPC1A7Ygwa085LUC2Vb26MjUtQCpM32sIMy1A09JV6QwzLUDMkx6UmTYtQHwetgc0Oy1Abtbo7p07LUD0xSORsTYtQKkYJAR8Mi1AVI+EFygvLUBn4d5yfC8tQJleNsTxMC1AnVwLMoEwLUC31rlmSjAtQIqX5Ad/Ly1AV5aNc0AwLUC86ji1ajEtQPZSqcBmMS1AB7ec6EYvLUB8urd6AS0tQIHv9zt6LC1AVPz1xQUtLUDuANsDpS4tQHGcgmrxMC1AOerV7dkxLUB8WN1YvjEtQFEFH1qWMS1A+cZHwvUvLUBGVlKxqi0tQLwmhhDNLC1A4xOy8zYtLUDZcAMz5S0tQGIN8NheLS1ARiYMQCosLUDbidp+eigtQFwmnVv7JS1AfWXequsmLUA8iRjhsyctQOGtq4FlKC1A9nCw1AYpLUApAHACjistQIvIIfiaLS1Az8Mi6UctLUBWzek5uiwtQMOtkFuQLi1ArNj8S5QwLUBd9b+s6i4tQLBb0OzQKi1AKsJYoI0oLUC8lAfb5istQCVxs5yoMC1A7ijhHIgzLUCW4xcnhzEtQA7XdwhcMC1ArK1UJ9IyLUCMVPLEhjctQGyRdJ6TOi1AwtUMam86LUAeJO8RcDYtQDD6g7A4MS1AG8WDdwMuLUA=\",\"dtype\":\"float64\",\"shape\":[79]},\"time\":{\"__ndarray__\":\"AACeL3RcdkIAAEQ+dFx2QgAA6kx0XHZCAACQW3RcdkIAADZqdFx2QgAA3Hh0XHZCAACCh3RcdkIAACiWdFx2QgAAzqR0XHZCAAB0s3RcdkIAABrCdFx2QgAAwNB0XHZCAABm33RcdkIAAAzudFx2QgAAsvx0XHZCAABYC3VcdkIAAP4ZdVx2QgAApCh1XHZCAABKN3VcdkIAAPBFdVx2QgAAllR1XHZCAAA8Y3VcdkIAAOJxdVx2QgAAiIB1XHZCAAAuj3VcdkIAANSddVx2QgAAeqx1XHZCAAAgu3VcdkIAAMbJdVx2QgAAbNh1XHZCAAAS53VcdkIAALj1dVx2QgAAXgR2XHZCAAAEE3ZcdkIAAKohdlx2QgAAUDB2XHZCAAD2PnZcdkIAAJxNdlx2QgAAQlx2XHZCAADoanZcdkIAAI55dlx2QgAANIh2XHZCAADalnZcdkIAAICldlx2QgAAJrR2XHZCAADMwnZcdkIAAHLRdlx2QgAAGOB2XHZCAAC+7nZcdkIAAGT9dlx2QgAACgx3XHZCAACwGndcdkIAAFYpd1x2QgAA/Dd3XHZCAACiRndcdkIAAEhVd1x2QgAA7mN3XHZCAACUcndcdkIAADqBd1x2QgAA4I93XHZCAACGnndcdkIAACytd1x2QgAA0rt3XHZCAAB4yndcdkIAAB7Zd1x2QgAAxOd3XHZCAABq9ndcdkIAABAFeFx2QgAAthN4XHZCAABcInhcdkIAAAIxeFx2QgAAqD94XHZCAABOTnhcdkIAAPRceFx2QgAAmmt4XHZCAABAenhcdkIAAOaIeFx2QgAAjJd4XHZCAAAypnhcdkI=\",\"dtype\":\"float64\",\"shape\":[79]}},\"selected\":{\"id\":\"1100\",\"type\":\"Selection\"},\"selection_policy\":{\"id\":\"1101\",\"type\":\"UnionRenderers\"}},\"id\":\"1035\",\"type\":\"ColumnDataSource\"},{\"attributes\":{\"children\":[{\"id\":\"1002\",\"subtype\":\"Figure\",\"type\":\"Plot\"},{\"id\":\"1043\",\"subtype\":\"Figure\",\"type\":\"Plot\"}]},\"id\":\"1125\",\"type\":\"Row\"},{\"attributes\":{\"callback\":null},\"id\":\"1004\",\"type\":\"DataRange1d\"},{\"attributes\":{\"active_drag\":\"auto\",\"active_inspect\":\"auto\",\"active_multi\":null,\"active_scroll\":\"auto\",\"active_tap\":\"auto\",\"tools\":[{\"id\":\"1022\",\"type\":\"PanTool\"},{\"id\":\"1023\",\"type\":\"WheelZoomTool\"},{\"id\":\"1024\",\"type\":\"BoxZoomTool\"},{\"id\":\"1025\",\"type\":\"ResetTool\"},{\"id\":\"1026\",\"type\":\"HelpTool\"},{\"id\":\"1041\",\"type\":\"HoverTool\"}]},\"id\":\"1027\",\"type\":\"Toolbar\"},{\"attributes\":{},\"id\":\"1085\",\"type\":\"DatetimeTickFormatter\"},{\"attributes\":{},\"id\":\"1058\",\"type\":\"BasicTicker\"},{\"attributes\":{\"base\":60,\"mantissas\":[1,2,5,10,15,20,30],\"max_interval\":1800000.0,\"min_interval\":1000.0,\"num_minor_ticks\":0},\"id\":\"1110\",\"type\":\"AdaptiveTicker\"},{\"attributes\":{},\"id\":\"1023\",\"type\":\"WheelZoomTool\"},{\"attributes\":{\"dimension\":1,\"plot\":{\"id\":\"1043\",\"subtype\":\"Figure\",\"type\":\"Plot\"},\"ticker\":{\"id\":\"1058\",\"type\":\"BasicTicker\"}},\"id\":\"1061\",\"type\":\"Grid\"},{\"attributes\":{\"base\":24,\"mantissas\":[1,2,4,6,8,12],\"max_interval\":43200000.0,\"min_interval\":3600000.0,\"num_minor_ticks\":0},\"id\":\"1111\",\"type\":\"AdaptiveTicker\"},{\"attributes\":{},\"id\":\"1087\",\"type\":\"BasicTickFormatter\"},{\"attributes\":{\"overlay\":{\"id\":\"1029\",\"type\":\"BoxAnnotation\"}},\"id\":\"1024\",\"type\":\"BoxZoomTool\"},{\"attributes\":{\"callback\":null,\"formatters\":{\"depth\":\"printf\",\"time\":\"datetime\"},\"mode\":\"vline\",\"tooltips\":[[\"time\",\"@time{%T}\"],[\"depth\",\"@{depth}{%0.4f}\"]]},\"id\":\"1081\",\"type\":\"HoverTool\"},{\"attributes\":{\"days\":[1,2,3,4,5,6,7,8,9,10,11,12,13,14,15,16,17,18,19,20,21,22,23,24,25,26,27,28,29,30,31]},\"id\":\"1112\",\"type\":\"DaysTicker\"},{\"attributes\":{\"mantissas\":[1,2,5],\"max_interval\":500.0,\"num_minor_ticks\":0},\"id\":\"1088\",\"type\":\"AdaptiveTicker\"},{\"attributes\":{},\"id\":\"1025\",\"type\":\"ResetTool\"},{\"attributes\":{\"callback\":null,\"formatters\":{\"temperature\":\"printf\",\"time\":\"datetime\"},\"mode\":\"vline\",\"tooltips\":[[\"time\",\"@time{%T}\"],[\"temperature\",\"@{temperature}{%0.4f}\"]]},\"id\":\"1041\",\"type\":\"HoverTool\"},{\"attributes\":{\"days\":[1,4,7,10,13,16,19,22,25,28]},\"id\":\"1113\",\"type\":\"DaysTicker\"},{\"attributes\":{},\"id\":\"1106\",\"type\":\"DatetimeTickFormatter\"},{\"attributes\":{},\"id\":\"1026\",\"type\":\"HelpTool\"},{\"attributes\":{},\"id\":\"1062\",\"type\":\"PanTool\"},{\"attributes\":{\"base\":60,\"mantissas\":[1,2,5,10,15,20,30],\"max_interval\":1800000.0,\"min_interval\":1000.0,\"num_minor_ticks\":0},\"id\":\"1089\",\"type\":\"AdaptiveTicker\"},{\"attributes\":{\"callback\":null},\"id\":\"1006\",\"type\":\"DataRange1d\"},{\"attributes\":{\"base\":24,\"mantissas\":[1,2,4,6,8,12],\"max_interval\":43200000.0,\"min_interval\":3600000.0,\"num_minor_ticks\":0},\"id\":\"1090\",\"type\":\"AdaptiveTicker\"}],\"root_ids\":[\"1129\"]},\"title\":\"Bokeh Application\",\"version\":\"1.0.4\"}};\n",
       "  var render_items = [{\"docid\":\"9a904ccd-75a2-4724-8b46-028dcd97f14f\",\"roots\":{\"1129\":\"2ad84893-a395-4abe-b3f5-f2757ca15eaa\"}}];\n",
       "  root.Bokeh.embed.embed_items_notebook(docs_json, render_items);\n",
       "\n",
       "  }\n",
       "  if (root.Bokeh !== undefined) {\n",
       "    embed_document(root);\n",
       "  } else {\n",
       "    var attempts = 0;\n",
       "    var timer = setInterval(function(root) {\n",
       "      if (root.Bokeh !== undefined) {\n",
       "        embed_document(root);\n",
       "        clearInterval(timer);\n",
       "      }\n",
       "      attempts++;\n",
       "      if (attempts > 100) {\n",
       "        console.log(\"Bokeh: ERROR: Unable to run BokehJS code because BokehJS library is missing\");\n",
       "        clearInterval(timer);\n",
       "      }\n",
       "    }, 10, root)\n",
       "  }\n",
       "})(window);"
      ],
      "application/vnd.bokehjs_exec.v0+json": ""
     },
     "metadata": {
      "application/vnd.bokehjs_exec.v0+json": {
       "id": "1129"
      }
     },
     "output_type": "display_data"
    }
   ],
   "source": [
    "from bokeh.io import output_notebook, show\n",
    "from bokeh.layouts import gridplot\n",
    "from bokeh.models import ColumnDataSource, HoverTool\n",
    "from bokeh.plotting import figure\n",
    "\n",
    "output_notebook()\n",
    "\n",
    "TOOLS = 'pan,wheel_zoom,box_zoom,reset,help'\n",
    "\n",
    "# subsample and compute speed\n",
    "dep = 'd1'\n",
    "d = R[dep].d.resample('1T').mean()\n",
    "# 1T = 1 minute, 30S = 30 seconds\n",
    "#print(d)\n",
    "r = cp['enregistreur'][dep]\n",
    "\n",
    "# create a new plot and add a renderer\n",
    "s1 = figure(tools=TOOLS, plot_width=300, plot_height=300, title=None, \n",
    "              x_axis_type='datetime')\n",
    "s1.line('time', 'temperature', source=d)\n",
    "s1.add_tools(HoverTool(\n",
    "    tooltips=[('time','@time{%T}'),('temperature','@{temperature}{%0.4f}'),],\n",
    "    formatters={'time': 'datetime','temperature' : 'printf',},\n",
    "    mode='vline'\n",
    "    ))\n",
    "    \n",
    "s2 = figure(tools=TOOLS, plot_width=300, plot_height=300, title=None, \n",
    "               x_axis_type='datetime', x_range=s1.x_range)\n",
    "s2.line('time', 'depth', source=d)\n",
    "s2.add_tools(HoverTool(\n",
    "    tooltips=[('time','@time{%T}'),('depth','@{depth}{%0.4f}'),],\n",
    "    formatters={'time': 'datetime','depth' : 'printf',},\n",
    "    mode='vline'\n",
    "    ))\n",
    "\n",
    "p = gridplot([[s1, s2]])\n",
    "\n",
    "show(p)"
   ]
  },
  {
   "cell_type": "markdown",
   "metadata": {},
   "source": [
    "---\n",
    "\n",
    "# enregistreur: store data"
   ]
  },
  {
   "cell_type": "code",
   "execution_count": 13,
   "metadata": {},
   "outputs": [
    {
     "name": "stdout",
     "output_type": "stream",
     "text": [
      "Data store to /Users/aponte/Current_projects/cognac/campagnes_techno/2018_microco/leg2/data/datap/enregistreur_rbr_d1.p\n",
      "Data store to /Users/aponte/Current_projects/cognac/campagnes_techno/2018_microco/leg2/data/datap/enregistreur_rbr_d2.p\n"
     ]
    }
   ],
   "source": [
    "for r, i in R.items():\n",
    "    #i.to_pickle(cp.pathp+unit+'_rbr_'+r+'_'+i.id+'.p')\n",
    "    i.to_pickle(cp.pathp+unit+'_rbr_'+r+'.p')"
   ]
  },
  {
   "cell_type": "code",
   "execution_count": 15,
   "metadata": {},
   "outputs": [
    {
     "data": {
      "text/plain": [
       "<matplotlib.axes._subplots.AxesSubplot at 0x112a3bcc0>"
      ]
     },
     "execution_count": 15,
     "metadata": {},
     "output_type": "execute_result"
    },
    {
     "data": {
      "image/png": "[encoded data removed]",
      "text/plain": [
       "<Figure size 432x288 with 1 Axes>"
      ]
     },
     "metadata": {
      "needs_background": "light"
     },
     "output_type": "display_data"
    }
   ],
   "source": [
    "R['d1']['temperature'].plot()"
   ]
  },
  {
   "cell_type": "code",
   "execution_count": 16,
   "metadata": {},
   "outputs": [
    {
     "data": {
      "text/plain": [
       "<matplotlib.axes._subplots.AxesSubplot at 0x112a2ec50>"
      ]
     },
     "execution_count": 16,
     "metadata": {},
     "output_type": "execute_result"
    },
    {
     "data": {
      "image/png": "[encoded data removed]",
      "text/plain": [
       "<Figure size 432x288 with 1 Axes>"
      ]
     },
     "metadata": {
      "needs_background": "light"
     },
     "output_type": "display_data"
    }
   ],
   "source": [
    "R['d1']['depth'].plot()"
   ]
  },
  {
   "cell_type": "markdown",
   "metadata": {},
   "source": [
    "---"
   ]
  },
  {
   "cell_type": "code",
   "execution_count": 6,
   "metadata": {},
   "outputs": [],
   "source": [
    "%load_ext autoreload"
   ]
  },
  {
   "cell_type": "code",
   "execution_count": 7,
   "metadata": {},
   "outputs": [],
   "source": [
    "# Reload all modules (except those excluded by %aimport) automatically now.\n",
    "%autoreload\n",
    "#from data import *"
   ]
  },
  {
   "cell_type": "code",
   "execution_count": null,
   "metadata": {},
   "outputs": [],
   "source": []
  }
 ],
 "metadata": {
  "kernelspec": {
   "display_name": "Python 3",
   "language": "python",
   "name": "python3"
  },
  "language_info": {
   "codemirror_mode": {
    "name": "ipython",
    "version": 3
   },
   "file_extension": ".py",
   "mimetype": "text/x-python",
   "name": "python",
   "nbconvert_exporter": "python",
   "pygments_lexer": "ipython3",
   "version": "3.6.7"
  }
 },
 "nbformat": 4,
 "nbformat_minor": 2
}

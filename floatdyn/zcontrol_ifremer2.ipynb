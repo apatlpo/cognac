{
 "cells": [
  {
   "cell_type": "markdown",
   "metadata": {},
   "source": [
    "\n",
    "# Float vertical position control, ifremer prototype\n"
   ]
  },
  {
   "cell_type": "markdown",
   "metadata": {},
   "source": [
    "---\n",
    "\n",
    "## Equations of motion\n",
    "\n",
    "For basics about float dynamics go [here](https://github.com/apatlpo/cognac/blob/master/instrum/float_dynamics_basics.ipynb)\n",
    "\n",
    "We assume now that the float has the ability to control its volume between two bounds $V+v_{min}$ and $V+v_{max}$\n",
    "with a precision $dv$.\n",
    "\n",
    "---\n",
    "\n",
    "## Control\n",
    "\n",
    "We control the float vertical position with sliding modes, see [this notebook](https://github.com/apatlpo/cognac/blob/master/instrum/zcontrol_realistic.ipynb) for more details about control.\n"
   ]
  },
  {
   "cell_type": "code",
   "execution_count": 1,
   "metadata": {
    "scrolled": true
   },
   "outputs": [],
   "source": [
    "%matplotlib inline\n",
    "#%matplotlib notebook\n",
    "import matplotlib.pyplot as plt\n",
    "from matplotlib.patches import Polygon\n",
    "import numpy as np\n",
    "from scipy.interpolate import interp1d\n",
    "import time\n",
    "from copy import deepcopy\n",
    "\n",
    "from matplotlib import animation, rc\n",
    "from IPython.display import HTML\n",
    "\n",
    "from float_lib import *"
   ]
  },
  {
   "cell_type": "code",
   "execution_count": 2,
   "metadata": {},
   "outputs": [
    {
     "name": "stdout",
     "output_type": "stream",
     "text": [
      "WOA water profile at lon=-50, lat=40\n"
     ]
    },
    {
     "data": {
      "image/png": "[encoded data removed]",
      "text/plain": [
       "<Figure size 504x360 with 2 Axes>"
      ]
     },
     "metadata": {
      "needs_background": "light"
     },
     "output_type": "display_data"
    }
   ],
   "source": [
    "# select a water profile\n",
    "w = waterp(lon=-50.,lat=40.)\n",
    "print(w)\n",
    "#w.show_on_map()"
   ]
  },
  {
   "cell_type": "markdown",
   "metadata": {},
   "source": [
    "--- \n",
    "## Instantiate the float object"
   ]
  },
  {
   "cell_type": "code",
   "execution_count": 3,
   "metadata": {},
   "outputs": [
    {
     "name": "stdout",
     "output_type": "stream",
     "text": [
      "-245.6 g were added to the float in order to be at equilibrium at 25 dbar \n",
      "\n",
      "Piston max displacement set from max volume\n",
      "Float parameters: \n",
      "  L     = 0.83 m      - float length\n",
      "  r     = 0.07 m      - float radius\n",
      "  m     = 13.07 kg     - float mass\n",
      "  V     = 1.27e+04 cm^3   - float volume\n",
      "  rho_cte     = 1.03e+09 kg.cm^3   - float constant density\n",
      "  gamma = 3.95e-06 /dbar  - mechanical compressibility\n",
      "  alpha = 0.00e+00 /degC  - thermal compressibility\n",
      "  temp0 = 0.00e+00  degC  - reference temperature\n",
      "  a = 1.00e+00  (no dimension)  - float added mass\n",
      "  c0 = 0.00e+00  (no dimension)  - float drag parameter 0\n",
      "  c1 = 1.00e+00  (no dimension)  - float drag parameter 1\n",
      "Piston parameters and state: \n",
      "  r     = 9.75 mm        - piston radius\n",
      "  phi   = 0.00 rad       - present angle of rotation\n",
      "  d     = 0.00 mm        - present piston displacement\n",
      "  vol   = 127.87 cm^3      - present volume addition\n",
      "  lead  = 0.10 cm        - screw lead\n",
      "  tick_per_turn  = 48.00 no dimension        - number of notches on the thumbwheel of the piston\n",
      "  d_increment  = 0.00 m        - smallest variation of translation motion for the piston\n",
      "  vol_error  = 2.99e-08 m^3        - smallest variation of volume possible for the piston\n",
      "  phi_max = 64088.49 deg     - maximum rotation\n",
      "  phi_min = 0.00 deg     - minimum rotation\n",
      "  d_max = 102.00 mm        - maximum piston displacement\n",
      "  d_min = 0.00 mm        - minimum piston displacement\n",
      "  vol_min = 97.41 cm^3    - min volume displaced\n",
      "  vol_max = 127.87 cm^3    - max volume displaced\n",
      "  omega_max = 743.99 deg/s - maximum rotation rate\n",
      "  omega_min = 74.43 deg/s - minimum rotation rate\n",
      "  efficiency = 0.10 - mechanical work produced / electrical work supplied\n",
      "\n",
      "Acceleration and velocity bounds (zmin=-500m,zmax=0m):\n",
      "fmax/m=9.7e-02 m^2/s, fmin/m= 9.1e-02 m^2/s, wmax= 522.9 cm/s\n",
      "For accelerations, equivalent speed reached in 1min:\n",
      "  fmax 5.8e+02 cm/s, fmin/m= 5.5e+02 cm/s\n"
     ]
    }
   ],
   "source": [
    "# Init now active control of the vertical position\n",
    "\n",
    "#\n",
    "z=np.arange(-100.,0.,1.)\n",
    "rho_w, p, temp = w.get_rho(z), w.get_p(z), w.get_temp(z)\n",
    "\n",
    "#\n",
    "f = autonomous_float(model='IFREMER')\n",
    "\n",
    "# adjust mass to be at equilibrium at -25m\n",
    "iz = np.argmin(np.abs(z+25))\n",
    "f.adjust_m(p[iz],temp[iz],rho_w[iz])\n",
    "\n",
    "# set vmax such that the float has an extra buoyancy at the surface equal\n",
    "# to a cylinder ot 2cm radius and height of 10cm (antenna casing)\n",
    "iz = np.argmin(np.abs(z+0.))\n",
    "vmax = f.volume4equilibrium(p[iz],temp[iz],rho_w[iz]) + .1*np.pi*.02**2\n",
    "# use d_max to prescribe piston max course\n",
    "dmax = .102\n",
    "\n",
    "#\n",
    "f.init_piston(d_max=dmax,vol_max=vmax,vol=vmax)\n",
    "print(f)\n",
    "\n",
    "# compute bounds on motions\n",
    "fmax, fmin, afmax, wmax = f.compute_bounds(w,-500.)"
   ]
  },
  {
   "cell_type": "code",
   "execution_count": 4,
   "metadata": {},
   "outputs": [
    {
     "name": "stdout",
     "output_type": "stream",
     "text": [
      "9.936445363113194\n",
      "7.527118218800183\n"
     ]
    }
   ],
   "source": [
    "rho_eq = rho_w[iz]\n",
    "temp_eq = temp[iz]\n",
    "p_eq=20\n",
    "f.piston_update_vol(f.piston.vol_max)\n",
    "print(rho_eq - f.rho(p=p_eq, temp=temp_eq))\n",
    "f.piston_update_vol(f.piston.vol_min)\n",
    "print(rho_eq - f.rho(p=p_eq, temp=temp_eq))"
   ]
  },
  {
   "cell_type": "code",
   "execution_count": 5,
   "metadata": {},
   "outputs": [
    {
     "ename": "ValueError",
     "evalue": "f(a) and f(b) must have different signs",
     "output_type": "error",
     "traceback": [
      "\u001b[0;31m---------------------------------------------------------------------------\u001b[0m",
      "\u001b[0;31mValueError\u001b[0m                                Traceback (most recent call last)",
      "\u001b[0;32m<ipython-input-5-96f43391e013>\u001b[0m in \u001b[0;36m<module>\u001b[0;34m\u001b[0m\n\u001b[1;32m      1\u001b[0m \u001b[0;31m# adjust piston to be at equilibrium 20m\u001b[0m\u001b[0;34m\u001b[0m\u001b[0;34m\u001b[0m\u001b[0;34m\u001b[0m\u001b[0m\n\u001b[1;32m      2\u001b[0m \u001b[0miz\u001b[0m \u001b[0;34m=\u001b[0m \u001b[0mnp\u001b[0m\u001b[0;34m.\u001b[0m\u001b[0margmin\u001b[0m\u001b[0;34m(\u001b[0m\u001b[0mnp\u001b[0m\u001b[0;34m.\u001b[0m\u001b[0mabs\u001b[0m\u001b[0;34m(\u001b[0m\u001b[0mz\u001b[0m\u001b[0;34m+\u001b[0m\u001b[0;36m20.\u001b[0m\u001b[0;34m)\u001b[0m\u001b[0;34m)\u001b[0m\u001b[0;34m\u001b[0m\u001b[0;34m\u001b[0m\u001b[0m\n\u001b[0;32m----> 3\u001b[0;31m \u001b[0mvmax\u001b[0m \u001b[0;34m=\u001b[0m \u001b[0mf\u001b[0m\u001b[0;34m.\u001b[0m\u001b[0mset_piston4equilibrium\u001b[0m\u001b[0;34m(\u001b[0m\u001b[0mp\u001b[0m\u001b[0;34m[\u001b[0m\u001b[0miz\u001b[0m\u001b[0;34m]\u001b[0m\u001b[0;34m,\u001b[0m\u001b[0mtemp\u001b[0m\u001b[0;34m[\u001b[0m\u001b[0miz\u001b[0m\u001b[0;34m]\u001b[0m\u001b[0;34m,\u001b[0m\u001b[0mrho_w\u001b[0m\u001b[0;34m[\u001b[0m\u001b[0miz\u001b[0m\u001b[0;34m]\u001b[0m\u001b[0;34m)\u001b[0m\u001b[0;34m\u001b[0m\u001b[0;34m\u001b[0m\u001b[0m\n\u001b[0m\u001b[1;32m      4\u001b[0m \u001b[0mprint\u001b[0m\u001b[0;34m(\u001b[0m\u001b[0;34m'z equilibrium = %.1fm'\u001b[0m \u001b[0;34m%\u001b[0m\u001b[0;34m(\u001b[0m\u001b[0mf\u001b[0m\u001b[0;34m.\u001b[0m\u001b[0mz4equilibrium\u001b[0m\u001b[0;34m(\u001b[0m\u001b[0mw\u001b[0m\u001b[0;34m)\u001b[0m \u001b[0;34m)\u001b[0m \u001b[0;34m)\u001b[0m \u001b[0;31m# check\u001b[0m\u001b[0;34m\u001b[0m\u001b[0;34m\u001b[0m\u001b[0m\n\u001b[1;32m      5\u001b[0m \u001b[0;34m\u001b[0m\u001b[0m\n",
      "\u001b[0;32m~/Desktop/git_project/cognac/floatdyn/float_lib.py\u001b[0m in \u001b[0;36mset_piston4equilibrium\u001b[0;34m(self, p_eq, temp_eq, rho_eq)\u001b[0m\n\u001b[1;32m    156\u001b[0m             \u001b[0mself\u001b[0m\u001b[0;34m.\u001b[0m\u001b[0mpiston_update_vol\u001b[0m\u001b[0;34m(\u001b[0m\u001b[0mvol\u001b[0m\u001b[0;34m)\u001b[0m\u001b[0;34m\u001b[0m\u001b[0;34m\u001b[0m\u001b[0m\n\u001b[1;32m    157\u001b[0m             \u001b[0;32mreturn\u001b[0m \u001b[0mrho_eq\u001b[0m \u001b[0;34m-\u001b[0m \u001b[0mself\u001b[0m\u001b[0;34m.\u001b[0m\u001b[0mrho\u001b[0m\u001b[0;34m(\u001b[0m\u001b[0mp\u001b[0m\u001b[0;34m=\u001b[0m\u001b[0mp_eq\u001b[0m\u001b[0;34m,\u001b[0m \u001b[0mtemp\u001b[0m\u001b[0;34m=\u001b[0m\u001b[0mtemp_eq\u001b[0m\u001b[0;34m)\u001b[0m\u001b[0;34m\u001b[0m\u001b[0;34m\u001b[0m\u001b[0m\n\u001b[0;32m--> 158\u001b[0;31m         \u001b[0mvol\u001b[0m \u001b[0;34m=\u001b[0m \u001b[0mbrentq\u001b[0m\u001b[0;34m(\u001b[0m\u001b[0mfunc\u001b[0m\u001b[0;34m,\u001b[0m \u001b[0mself\u001b[0m\u001b[0;34m.\u001b[0m\u001b[0mpiston\u001b[0m\u001b[0;34m.\u001b[0m\u001b[0mvol_min\u001b[0m\u001b[0;34m,\u001b[0m \u001b[0mself\u001b[0m\u001b[0;34m.\u001b[0m\u001b[0mpiston\u001b[0m\u001b[0;34m.\u001b[0m\u001b[0mvol_max\u001b[0m\u001b[0;34m)\u001b[0m\u001b[0;34m\u001b[0m\u001b[0;34m\u001b[0m\u001b[0m\n\u001b[0m\u001b[1;32m    159\u001b[0m         \u001b[0mself\u001b[0m\u001b[0;34m.\u001b[0m\u001b[0mpiston_update_vol\u001b[0m\u001b[0;34m(\u001b[0m\u001b[0mvol\u001b[0m\u001b[0;34m)\u001b[0m\u001b[0;34m\u001b[0m\u001b[0;34m\u001b[0m\u001b[0m\n\u001b[1;32m    160\u001b[0m         \u001b[0mprint\u001b[0m\u001b[0;34m(\u001b[0m\u001b[0;34m'Piston reset : vol=%.1e cm^3  '\u001b[0m \u001b[0;34m%\u001b[0m \u001b[0;34m(\u001b[0m\u001b[0mvol\u001b[0m\u001b[0;34m*\u001b[0m\u001b[0;36m1e6\u001b[0m\u001b[0;34m)\u001b[0m\u001b[0;34m)\u001b[0m\u001b[0;34m\u001b[0m\u001b[0;34m\u001b[0m\u001b[0m\n",
      "\u001b[0;32m~/miniconda3/envs/cognac/lib/python3.6/site-packages/scipy/optimize/zeros.py\u001b[0m in \u001b[0;36mbrentq\u001b[0;34m(f, a, b, args, xtol, rtol, maxiter, full_output, disp)\u001b[0m\n\u001b[1;32m    752\u001b[0m     \u001b[0;32mif\u001b[0m \u001b[0mrtol\u001b[0m \u001b[0;34m<\u001b[0m \u001b[0m_rtol\u001b[0m\u001b[0;34m:\u001b[0m\u001b[0;34m\u001b[0m\u001b[0;34m\u001b[0m\u001b[0m\n\u001b[1;32m    753\u001b[0m         \u001b[0;32mraise\u001b[0m \u001b[0mValueError\u001b[0m\u001b[0;34m(\u001b[0m\u001b[0;34m\"rtol too small (%g < %g)\"\u001b[0m \u001b[0;34m%\u001b[0m \u001b[0;34m(\u001b[0m\u001b[0mrtol\u001b[0m\u001b[0;34m,\u001b[0m \u001b[0m_rtol\u001b[0m\u001b[0;34m)\u001b[0m\u001b[0;34m)\u001b[0m\u001b[0;34m\u001b[0m\u001b[0;34m\u001b[0m\u001b[0m\n\u001b[0;32m--> 754\u001b[0;31m     \u001b[0mr\u001b[0m \u001b[0;34m=\u001b[0m \u001b[0m_zeros\u001b[0m\u001b[0;34m.\u001b[0m\u001b[0m_brentq\u001b[0m\u001b[0;34m(\u001b[0m\u001b[0mf\u001b[0m\u001b[0;34m,\u001b[0m \u001b[0ma\u001b[0m\u001b[0;34m,\u001b[0m \u001b[0mb\u001b[0m\u001b[0;34m,\u001b[0m \u001b[0mxtol\u001b[0m\u001b[0;34m,\u001b[0m \u001b[0mrtol\u001b[0m\u001b[0;34m,\u001b[0m \u001b[0mmaxiter\u001b[0m\u001b[0;34m,\u001b[0m \u001b[0margs\u001b[0m\u001b[0;34m,\u001b[0m \u001b[0mfull_output\u001b[0m\u001b[0;34m,\u001b[0m \u001b[0mdisp\u001b[0m\u001b[0;34m)\u001b[0m\u001b[0;34m\u001b[0m\u001b[0;34m\u001b[0m\u001b[0m\n\u001b[0m\u001b[1;32m    755\u001b[0m     \u001b[0;32mreturn\u001b[0m \u001b[0mresults_c\u001b[0m\u001b[0;34m(\u001b[0m\u001b[0mfull_output\u001b[0m\u001b[0;34m,\u001b[0m \u001b[0mr\u001b[0m\u001b[0;34m)\u001b[0m\u001b[0;34m\u001b[0m\u001b[0;34m\u001b[0m\u001b[0m\n\u001b[1;32m    756\u001b[0m \u001b[0;34m\u001b[0m\u001b[0m\n",
      "\u001b[0;31mValueError\u001b[0m: f(a) and f(b) must have different signs"
     ]
    }
   ],
   "source": [
    "# adjust piston to be at equilibrium 20m\n",
    "iz = np.argmin(np.abs(z+20.))\n",
    "vmax = f.set_piston4equilibrium(p[iz],temp[iz],rho_w[iz])\n",
    "print('z equilibrium = %.1fm' %(f.z4equilibrium(w) ) ) # check\n",
    "\n",
    "# compute float vertical displacement associated with 1mm piston displacement\n",
    "f.piston.update_d(f.piston.d+.001)\n",
    "f.piston_update_vol()\n",
    "print('z equilibrium after 1 mm piston displacement = %.1fm' %(f.z4equilibrium(w) ) )"
   ]
  },
  {
   "cell_type": "code",
   "execution_count": null,
   "metadata": {},
   "outputs": [],
   "source": [
    "# show densities\n",
    "plot_float_density(z, f, w)"
   ]
  },
  {
   "cell_type": "code",
   "execution_count": null,
   "metadata": {},
   "outputs": [],
   "source": [
    "gamma_V = f.V*f.gamma\n",
    "gamma_rho = f.V*np.diff(rho_w)/f.rho_cte/np.diff(z)\n",
    "zm = (z[1:]+z[:-1])*.5\n",
    "\n",
    "plt.figure()\n",
    "ax=plt.subplot(121)\n",
    "ax.plot(gamma_rho, zm, label='V drhodz/rho')\n",
    "ax.plot(gamma_V+0.*zm, zm, label='gamma_V')\n",
    "ax.grid()\n",
    "ax.legend()\n",
    "\n",
    "ax=plt.subplot(122)\n",
    "ax.plot(gamma_rho+gamma_V, zm, label='gamma_e')\n",
    "ax.grid()\n",
    "ax.legend()"
   ]
  },
  {
   "cell_type": "markdown",
   "metadata": {},
   "source": [
    "---\n",
    "\n",
    "## From the surface down to a target level"
   ]
  },
  {
   "cell_type": "code",
   "execution_count": null,
   "metadata": {},
   "outputs": [],
   "source": [
    "# we start by constructing a trajectory that can be followed by the float\n",
    "z_target = descent(3600, -25., f, w)"
   ]
  },
  {
   "cell_type": "code",
   "execution_count": null,
   "metadata": {},
   "outputs": [],
   "source": [
    "def plot_kalman(f):\n",
    "    fig = plt.figure(figsize=(15,10))\n",
    "    #\n",
    "    ax=fig.add_subplot(231)\n",
    "    ax.plot(f.log.t,f.log.z,'-', label = \"real depth\")\n",
    "    ax.plot(f.t_kalman[1:],-f.log.z_kalman, label =\"estimated depth\")\n",
    "    ax.set_title(\"depth as a function of time\")\n",
    "    ax.set_xlabel(\"t (s)\")\n",
    "    ax.set_ylabel(\"z (m)\")\n",
    "    ax.grid()\n",
    "    legend = ax.legend(loc='best', shadow=True, fontsize='medium')\n",
    "    #\n",
    "    ax=fig.add_subplot(232)\n",
    "    ax.plot(f.log.t,f.log.w, label = \"real velocity\")\n",
    "    ax.plot(f.t_kalman[1:],-f.log.w_kalman, label =\"estimated velocity\")\n",
    "    ax.set_title(\"velocity as a function of time\")\n",
    "    ax.set_xlabel(\"t (s)\")\n",
    "    ax.set_ylabel(\"w (m/s)\")\n",
    "    ax.grid()\n",
    "    legend = ax.legend(loc='best', shadow=True, fontsize='medium')\n",
    "    #\n",
    "    ax=fig.add_subplot(233)\n",
    "    ax.plot(f.log.t,f.log.gammaV, label = \"real equivalent compressibility\")\n",
    "    ax.plot(f.t_kalman[1:],f.log.gammaE_kalman, label =\"estimated equivalent compressibility\")\n",
    "    ax.set_title(\"equivalent compressibility as a function of time\")\n",
    "    ax.set_xlabel(\"t (s)\")\n",
    "    ax.set_ylabel(\"gammaE (m^2)\")\n",
    "    ax.grid()\n",
    "    legend = ax.legend(loc='best', shadow=True, fontsize='medium')\n",
    "    #\n",
    "    ax=fig.add_subplot(234)\n",
    "    ax.plot(f.log.t,f.log.Ve, label = \"real Ve volume\")\n",
    "    ax.plot(f.t_kalman[1:],f.log.Ve_kalman, label =\"estimated Ve volume\")\n",
    "    ax.set_title(\"volume Ve as a function of time\")\n",
    "    ax.set_xlabel(\"t (s)\")\n",
    "    ax.set_ylabel(\"Ve (m^3)\")\n",
    "    ax.grid()\n",
    "    legend = ax.legend(loc='best', shadow=True, fontsize='medium')   \n",
    "    #\n",
    "    ax=fig.add_subplot(235)\n",
    "    ax.plot(f.log.t,-f.log.dwdt, label = \"real acceleration\")\n",
    "    ax.plot(f.t_kalman[1:],f.log.dwdt_kalman, label =\"estimated acceleration\")\n",
    "    ax.set_title(\"acceleration dw/dt as a function of time\")\n",
    "    ax.set_xlabel(\"t (s)\")\n",
    "    ax.set_ylabel(\"dw/dt (m.s^-2)\")\n",
    "    ax.grid()\n",
    "    legend = ax.legend(loc='best', shadow=True, fontsize='medium') "
   ]
  },
  {
   "cell_type": "markdown",
   "metadata": {},
   "source": [
    "---\n",
    "\n",
    "## Parameter estimation functions for feedback regulation"
   ]
  },
  {
   "cell_type": "code",
   "execution_count": null,
   "metadata": {},
   "outputs": [],
   "source": [
    "#Functions and parameters necesary to estimate parameters for feedback regulation\n",
    "\n",
    "def omega2dvdt(omega=12.4*2.*np.pi/60., lead=0.0175, r_piston=0.025):\n",
    "\n",
    "    '''\n",
    "    Function computing the piston flow u\n",
    "    parameters:\n",
    "        omega: float [rad/s]\n",
    "            current rotation rate, omega=dphi/dt\n",
    "            for ENSTA float, omega_max = 124.*2.*np.pi/60.,\n",
    "            omega_min = 12.4*2.*np.pi/60.\n",
    "        lead: float [m]\n",
    "            screw lead (i.e. displacement after one screw revolution)\n",
    "            d = phi/2/pi x lead\n",
    "        r_piston: float [m]\n",
    "            piston radius\n",
    "    '''\n",
    "    return omega*lead/2.*r_piston**2\n",
    "\n",
    "\n",
    "def zf(t, params):\n",
    "\n",
    "    '''\n",
    "    Function computing the float position depending on time and float parameters\n",
    "    for initial conditions zf = 0 and vf = 0 at the beginning\n",
    "    '''\n",
    "    rho_w = 997 #kg.m^3\n",
    "    g = 9.81 #m.s^-2\n",
    "    return (params['u']*g*rho_w*t**3) /6 /params['m'] /(1+params['a'])\n",
    "\n",
    "\n",
    "def vf(t, params):\n",
    "\n",
    "    '''\n",
    "    Function computing the float speed depending on time and float parameters\n",
    "    for initial conditions zf = 0 and vf = 0 at the beginning\n",
    "    '''\n",
    "    rho_w = 997 #kg.m^3\n",
    "    g = 9.81 #m.s^-2\n",
    "    return (params['u']*g*rho_w*t**2) / (2*params['m']*(1+params['a']))\n",
    "\n",
    "\n",
    "def tv(v, params):\n",
    "\n",
    "    '''\n",
    "    Function computing the time necessary for the float to reach the speed v\n",
    "    '''\n",
    "    rho_w = 997 #kg.m^3\n",
    "    g = 9.81 #m.s^-2\n",
    "    return np.sqrt(2*v*params['m']*(1+params['a'])/(g*rho_w*params['u']))\n",
    "\n",
    "\n",
    "def zv(v, params):\n",
    "\n",
    "    '''\n",
    "    Function computing the distance necessary for the float to reach the speed v\n",
    "    '''\n",
    "    return zf(tv(v,params),params)\n",
    "\n",
    "\n",
    "\n",
    "'''\n",
    "parameters:\n",
    "    g : gravity acceleration [m.s^-2]\n",
    "    m : float mass [kg]\n",
    "    a : float added mass [no dimension]\n",
    "    r : float radius [m]\n",
    "    L : float length [m]\n",
    "    rho_w : water density [kg.m^3]\n",
    "    omega :  current rotation rate [rad/s]\n",
    "    lead : screw lead (i.e. displacement after one screw revolution) [m]\n",
    "    r_piston : piston radius [m]\n",
    "    u : piston flow [m^3.s^-1]\n",
    "'''\n",
    "\n",
    "params_ensta = {'r': 0.06, 'L': 0.5, 'a': 1., 'omega' : 20/48*2.*np.pi, 'lead' : 0.00175, 'r_piston' : 0.025}\n",
    "params_ensta['m'] = 9.0 #1000. * np.pi * params_ensta['r'] ** 2 * params_ensta['L']\n",
    "\n",
    "params_ensta['u'] = omega2dvdt(params_ensta['omega'], params_ensta['lead'], params_ensta['r_piston'])\n",
    "\n",
    "\n",
    "\n",
    "params_ifremer = {'r': 0.07, 'L': 0.8278, 'a': 1., 'omega' : 20/48*2.*np.pi, 'lead' : 0.001, 'r_piston' : 0.0195/2}\n",
    "params_ifremer['m'] = 13.315 #1000. * np.pi * params_ifremer['r'] ** 2 * params_ifremer['L']\n",
    "\n",
    "params_ifremer['u'] = omega2dvdt(params_ifremer['omega'], params_ifremer['lead'], params_ifremer['r_piston'])"
   ]
  },
  {
   "cell_type": "markdown",
   "metadata": {},
   "source": [
    "---\n",
    "\n",
    "## Feedback regulation without Kalman filter\n",
    "### Regulation parameters"
   ]
  },
  {
   "cell_type": "code",
   "execution_count": null,
   "metadata": {},
   "outputs": [],
   "source": [
    "# time step float with control\n",
    "#control = {'tau': 10.,'dz_nochattering': 1., 'mode': 'sliding', 'd3y_ctrl': afmax/f.m/1.}\n",
    "#control = {'tau': 2.0, 'dz_nochattering': 1., 'mode': 'feedback', 'nu': 0.03*2./np.pi, 'delta': 0.02}\n",
    "#control = {'tau': 2.0, 'dz_nochattering': 1., 'mode': 'kalman_feedback', 'nu': 0.03*2./np.pi, 'delta': 1.}\n",
    "\n",
    "\n",
    "\n",
    "vmax_reached = 0.01 #Let's admit that the float will not reach a vertical velocity upper than 0.10 m/s.\n",
    "nu = (2/np.pi)*vmax_reached\n",
    "tau = tv(vmax_reached, params_ifremer)\n",
    "delta = zv(vmax_reached, params_ifremer)\n",
    "\n",
    "control = {'tau': tau, 'dz_nochattering': 1., 'mode': 'feedback', 'nu': nu, 'delta': delta}\n",
    "#\n",
    "#\n",
    "dt = 1. #s\n",
    "depth_rms = 1e-5 # m\n",
    "vel_rms = depth_rms/dt # mm/s\n",
    "Ve_rms = 1e-5\n",
    "t2V = f.piston.tick_to_volume  #tick_to_volume = 7.e-08\n",
    "gamma_alpha_gammaE = 1e-8\n",
    "A_coeff = g*f.rho_cte/((f.a+1)*f.m)\n",
    "kalman = {'dt': dt, 'tick_to_volume': t2V,\n",
    "          'gammaV' : f.gammaV,\n",
    "          'gamma': np.diag([vel_rms**2, depth_rms**2, gamma_alpha_gammaE**2, (10.*t2V)**2]),\n",
    "          'gamma_alpha': np.diag([(dt*A_coeff*Ve_rms)**2, (depth_rms*10.)**2, gamma_alpha_gammaE**2, (1e-1*dt*Ve_rms)**2] ),\n",
    "          'gamma_beta': np.diag([depth_rms**2])}\n",
    "#\n",
    "f.time_step(w,T=500., dt_step=.1, dt_store=1., z=-20., w=0., v=f.piston.vol_max,\n",
    "             usepiston=True, z_target=z_target, ctrl=control, kalman=kalman, verbose=0)\n",
    "plot_kalman(f)"
   ]
  },
  {
   "cell_type": "code",
   "execution_count": null,
   "metadata": {},
   "outputs": [],
   "source": [
    "# time step float with control\n",
    "#control = {'tau': 10.,'dz_nochattering': 1., 'mode': 'sliding', 'd3y_ctrl': afmax/f.m/1.}\n",
    "#control = {'tau': 2.0, 'dz_nochattering': 1., 'mode': 'feedback', 'nu': 0.03*2./np.pi, 'delta': 0.02}\n",
    "#control = {'tau': 2.0, 'dz_nochattering': 1., 'mode': 'kalman_feedback', 'nu': 0.03*2./np.pi, 'delta': 1.}\n",
    "\n",
    "\n",
    "\n",
    "vmax_reached = 0.03 #Let's admit that the float will not reach a vertical velocity upper than 0.10 m/s.\n",
    "nu = (2/np.pi)*vmax_reached\n",
    "tau = tv(vmax_reached, params_ifremer)\n",
    "delta = zv(vmax_reached, params_ifremer)\n",
    "\n",
    "control = {'tau': tau, 'dz_nochattering': 1., 'mode': 'feedback', 'nu': nu, 'delta': delta}\n",
    "#\n",
    "#\n",
    "dt = 1. #s\n",
    "depth_rms = 1e-5 # m\n",
    "vel_rms = depth_rms/dt # mm/s\n",
    "Ve_rms = 1e-5\n",
    "t2V = f.piston.tick_to_volume  #tick_to_volume = 7.e-08\n",
    "gamma_alpha_gammaE = 1e-8\n",
    "A_coeff = g*f.rho_cte/((f.a+1)*f.m)\n",
    "kalman = {'dt': dt, 'tick_to_volume': t2V,\n",
    "          'gammaV' : f.gammaV,\n",
    "          'gamma': np.diag([vel_rms**2, depth_rms**2, gamma_alpha_gammaE**2, (10.*t2V)**2]),\n",
    "          'gamma_alpha': np.diag([(dt*A_coeff*Ve_rms)**2, (depth_rms*10.)**2, gamma_alpha_gammaE**2, (1e-1*dt*Ve_rms)**2] ),\n",
    "          'gamma_beta': np.diag([depth_rms**2])}\n",
    "#\n",
    "f.time_step(w,T=500., dt_step=.1, dt_store=1., z=-20., w=0., v=f.piston.vol_max,\n",
    "             usepiston=True, z_target=z_target, ctrl=control, kalman=kalman, verbose=0)\n",
    "plot_kalman(f)"
   ]
  },
  {
   "cell_type": "code",
   "execution_count": null,
   "metadata": {},
   "outputs": [],
   "source": [
    "# time step float with control\n",
    "#control = {'tau': 10.,'dz_nochattering': 1., 'mode': 'sliding', 'd3y_ctrl': afmax/f.m/1.}\n",
    "#control = {'tau': 2.0, 'dz_nochattering': 1., 'mode': 'feedback', 'nu': 0.03*2./np.pi, 'delta': 0.02}\n",
    "#control = {'tau': 2.0, 'dz_nochattering': 1., 'mode': 'kalman_feedback', 'nu': 0.03*2./np.pi, 'delta': 1.}\n",
    "\n",
    "\n",
    "\n",
    "vmax_reached = 0.07 #Let's admit that the float will not reach a vertical velocity upper than 0.10 m/s.\n",
    "nu = (2/np.pi)*vmax_reached\n",
    "tau = tv(vmax_reached, params_ifremer)\n",
    "delta = zv(vmax_reached, params_ifremer)\n",
    "\n",
    "control = {'tau': tau, 'dz_nochattering': 1., 'mode': 'feedback', 'nu': nu, 'delta': delta}\n",
    "#\n",
    "#\n",
    "dt = 1. #s\n",
    "depth_rms = 1e-5 # m\n",
    "vel_rms = depth_rms/dt # mm/s\n",
    "Ve_rms = 1e-5\n",
    "t2V = f.piston.tick_to_volume  #tick_to_volume = 7.e-08\n",
    "gamma_alpha_gammaE = 1e-8\n",
    "A_coeff = g*f.rho_cte/((f.a+1)*f.m)\n",
    "kalman = {'dt': dt, 'tick_to_volume': t2V,\n",
    "          'gammaV' : f.gammaV,\n",
    "          'gamma': np.diag([vel_rms**2, depth_rms**2, gamma_alpha_gammaE**2, (10.*t2V)**2]),\n",
    "          'gamma_alpha': np.diag([(dt*A_coeff*Ve_rms)**2, (depth_rms*10.)**2, gamma_alpha_gammaE**2, (1e-1*dt*Ve_rms)**2] ),\n",
    "          'gamma_beta': np.diag([depth_rms**2])}\n",
    "#\n",
    "f.time_step(w,T=500., dt_step=.1, dt_store=1., z=-20., w=0., v=f.piston.vol_max,\n",
    "             usepiston=True, z_target=z_target, ctrl=control, kalman=kalman, verbose=0)\n",
    "plot_kalman(f)"
   ]
  },
  {
   "cell_type": "code",
   "execution_count": null,
   "metadata": {},
   "outputs": [],
   "source": [
    "# time step float with control\n",
    "#control = {'tau': 10.,'dz_nochattering': 1., 'mode': 'sliding', 'd3y_ctrl': afmax/f.m/1.}\n",
    "#control = {'tau': 2.0, 'dz_nochattering': 1., 'mode': 'feedback', 'nu': 0.03*2./np.pi, 'delta': 0.02}\n",
    "#control = {'tau': 2.0, 'dz_nochattering': 1., 'mode': 'kalman_feedback', 'nu': 0.03*2./np.pi, 'delta': 1.}\n",
    "\n",
    "\n",
    "\n",
    "vmax_reached = 0.10 #Let's admit that the float will not reach a vertical velocity upper than 0.10 m/s.\n",
    "nu = (2/np.pi)*vmax_reached\n",
    "tau = tv(vmax_reached, params_ifremer)\n",
    "delta = zv(vmax_reached, params_ifremer)\n",
    "\n",
    "control = {'tau': tau, 'dz_nochattering': 1., 'mode': 'feedback', 'nu': nu, 'delta': delta}\n",
    "#\n",
    "#\n",
    "dt = 1. #s\n",
    "depth_rms = 1e-5 # m\n",
    "vel_rms = depth_rms/dt # mm/s\n",
    "Ve_rms = 1e-5\n",
    "t2V = f.piston.tick_to_volume  #tick_to_volume = 7.e-08\n",
    "gamma_alpha_gammaE = 1e-8\n",
    "A_coeff = g*f.rho_cte/((f.a+1)*f.m)\n",
    "kalman = {'dt': dt, 'tick_to_volume': t2V,\n",
    "          'gammaV' : f.gammaV,\n",
    "          'gamma': np.diag([vel_rms**2, depth_rms**2, gamma_alpha_gammaE**2, (10.*t2V)**2]),\n",
    "          'gamma_alpha': np.diag([(dt*A_coeff*Ve_rms)**2, (depth_rms*10.)**2, gamma_alpha_gammaE**2, (1e-1*dt*Ve_rms)**2] ),\n",
    "          'gamma_beta': np.diag([depth_rms**2])}\n",
    "#\n",
    "f.time_step(w,T=500., dt_step=.1, dt_store=1., z=-20., w=0., v=f.piston.vol_max,\n",
    "             usepiston=True, z_target=z_target, ctrl=control, kalman=kalman, verbose=0)\n",
    "plot_kalman(f)"
   ]
  },
  {
   "cell_type": "code",
   "execution_count": null,
   "metadata": {},
   "outputs": [],
   "source": [
    "# time step float with control\n",
    "#control = {'tau': 10.,'dz_nochattering': 1., 'mode': 'sliding', 'd3y_ctrl': afmax/f.m/1.}\n",
    "#control = {'tau': 2.0, 'dz_nochattering': 1., 'mode': 'feedback', 'nu': 0.03*2./np.pi, 'delta': 0.02}\n",
    "#control = {'tau': 2.0, 'dz_nochattering': 1., 'mode': 'kalman_feedback', 'nu': 0.03*2./np.pi, 'delta': 1.}\n",
    "\n",
    "\n",
    "\n",
    "vmax_reached = 0.15 #Let's admit that the float will not reach a vertical velocity upper than 0.10 m/s.\n",
    "nu = (2/np.pi)*vmax_reached\n",
    "tau = tv(vmax_reached, params_ifremer)\n",
    "delta = zv(vmax_reached, params_ifremer)\n",
    "\n",
    "control = {'tau': tau, 'dz_nochattering': 1., 'mode': 'feedback', 'nu': nu, 'delta': delta}\n",
    "#\n",
    "#\n",
    "dt = 1. #s\n",
    "depth_rms = 1e-5 # m\n",
    "vel_rms = depth_rms/dt # mm/s\n",
    "Ve_rms = 1e-5\n",
    "t2V = f.piston.tick_to_volume  #tick_to_volume = 7.e-08\n",
    "gamma_alpha_gammaE = 1e-8\n",
    "A_coeff = g*f.rho_cte/((f.a+1)*f.m)\n",
    "kalman = {'dt': dt, 'tick_to_volume': t2V,\n",
    "          'gammaV' : f.gammaV,\n",
    "          'gamma': np.diag([vel_rms**2, depth_rms**2, gamma_alpha_gammaE**2, (10.*t2V)**2]),\n",
    "          'gamma_alpha': np.diag([(dt*A_coeff*Ve_rms)**2, (depth_rms*10.)**2, gamma_alpha_gammaE**2, (1e-1*dt*Ve_rms)**2] ),\n",
    "          'gamma_beta': np.diag([depth_rms**2])}\n",
    "#\n",
    "f.time_step(w,T=500., dt_step=.1, dt_store=1., z=-20., w=0., v=f.piston.vol_max,\n",
    "             usepiston=True, z_target=z_target, ctrl=control, kalman=kalman, verbose=0)\n",
    "plot_kalman(f)"
   ]
  },
  {
   "cell_type": "markdown",
   "metadata": {},
   "source": [
    "---\n",
    "\n",
    "## Feedback regulation with Kalman filter\n",
    "### Kalman filter parameters"
   ]
  },
  {
   "cell_type": "code",
   "execution_count": null,
   "metadata": {},
   "outputs": [],
   "source": [
    "# time step float with control\n",
    "#control = {'tau': 10.,'dz_nochattering': 1., 'mode': 'sliding', 'd3y_ctrl': afmax/f.m/1.}\n",
    "#control = {'tau': 2.0, 'dz_nochattering': 1., 'mode': 'feedback', 'nu': 0.03*2./np.pi, 'delta': 0.02}\n",
    "#control = {'tau': 2.0, 'dz_nochattering': 1., 'mode': 'kalman_feedback', 'nu': 0.03*2./np.pi, 'delta': 1.}\n",
    "\n",
    "\n",
    "\n",
    "vmax_reached = 0.10 #Let's admit that the float will not reach a vertical velocity upper than 0.10 m/s.\n",
    "nu = (2/np.pi)*vmax_reached\n",
    "tau = tv(vmax_reached, params_ifremer)\n",
    "delta = zv(vmax_reached, params_ifremer)\n",
    "\n",
    "control = {'tau': tau, 'dz_nochattering': 1., 'mode': 'kalman_feedback', 'nu': nu, 'delta': delta}\n",
    "#\n",
    "#\n",
    "dt = 1. #s\n",
    "depth_rms = 1e-5 # m\n",
    "vel_rms = depth_rms/dt # mm/s\n",
    "Ve_rms = 1e-5\n",
    "t2V = f.piston.tick_to_volume  #tick_to_volume = 7.e-08\n",
    "gamma_alpha_gammaE = 1e-8\n",
    "A_coeff = g*f.rho_cte/((f.a+1)*f.m)\n",
    "kalman = {'dt': dt, 'tick_to_volume': t2V,\n",
    "          'gammaV' : f.gammaV,\n",
    "          'gamma': np.diag([vel_rms**2, depth_rms**2, gamma_alpha_gammaE**2, (10.*t2V)**2]),\n",
    "          'gamma_alpha': np.diag([(dt*A_coeff*Ve_rms)**2, (depth_rms*10.)**2, gamma_alpha_gammaE**2, (1e-1*dt*Ve_rms)**2] ),\n",
    "          'gamma_beta': np.diag([depth_rms**2])}\n",
    "#\n",
    "f.time_step(w,T=500., dt_step=.1, dt_store=1., z=-20., w=0., v=f.piston.vol_max,\n",
    "             usepiston=True, z_target=z_target, ctrl=control, kalman=kalman, verbose=0)\n",
    "plot_kalman(f)"
   ]
  },
  {
   "cell_type": "code",
   "execution_count": null,
   "metadata": {},
   "outputs": [],
   "source": [
    "# time step float with control\n",
    "#control = {'tau': 10.,'dz_nochattering': 1., 'mode': 'sliding', 'd3y_ctrl': afmax/f.m/1.}\n",
    "#control = {'tau': 2.0, 'dz_nochattering': 1., 'mode': 'feedback', 'nu': 0.03*2./np.pi, 'delta': 0.02}\n",
    "#control = {'tau': 2.0, 'dz_nochattering': 1., 'mode': 'kalman_feedback', 'nu': 0.03*2./np.pi, 'delta': 1.}\n",
    "\n",
    "\n",
    "\n",
    "vmax_reached = 0.10 #Let's admit that the float will not reach a vertical velocity upper than 0.10 m/s.\n",
    "nu = (2/np.pi)*vmax_reached\n",
    "tau = tv(vmax_reached, params_ifremer)\n",
    "delta = zv(vmax_reached, params_ifremer)\n",
    "\n",
    "control = {'tau': tau, 'dz_nochattering': 5., 'mode': 'kalman_feedback', 'nu': nu, 'delta': delta}\n",
    "#\n",
    "#\n",
    "dt = 1 #s\n",
    "depth_rms = 1e-5 # m\n",
    "vel_rms = depth_rms/dt # mm/s\n",
    "Ve_rms = 1e-5\n",
    "t2V = f.piston.tick_to_volume  #tick_to_volume = 7.e-08\n",
    "gamma_alpha_gammaE = 1e-8\n",
    "A_coeff = g*f.rho_cte/((f.a+1)*f.m)\n",
    "kalman = {'dt': dt, 'tick_to_volume': t2V,\n",
    "          'gammaV' : f.gammaV,\n",
    "          'gamma': np.diag([vel_rms**2, depth_rms**2, gamma_alpha_gammaE**2, (10.*t2V)**2]),\n",
    "          'gamma_alpha': np.diag([(dt*A_coeff*Ve_rms)**2, (depth_rms*10.)**2, gamma_alpha_gammaE**2, (1e-1*dt*Ve_rms)**2] ),\n",
    "          'gamma_beta': np.diag([depth_rms**2])}\n",
    "#\n",
    "f.time_step(w,T=500., dt_step=.1, dt_store=1., z=-20., w=0., v=f.piston.vol_max,\n",
    "             usepiston=True, z_target=z_target, ctrl=control, kalman=kalman, verbose=0)\n",
    "plot_kalman(f)"
   ]
  },
  {
   "cell_type": "code",
   "execution_count": null,
   "metadata": {},
   "outputs": [],
   "source": [
    "# time step float with control\n",
    "#control = {'tau': 10.,'dz_nochattering': 1., 'mode': 'sliding', 'd3y_ctrl': afmax/f.m/1.}\n",
    "#control = {'tau': 2.0, 'dz_nochattering': 1., 'mode': 'feedback', 'nu': 0.03*2./np.pi, 'delta': 0.02}\n",
    "#control = {'tau': 2.0, 'dz_nochattering': 1., 'mode': 'kalman_feedback', 'nu': 0.03*2./np.pi, 'delta': 1.}\n",
    "\n",
    "\n",
    "\n",
    "vmax_reached = 0.10 #Let's admit that the float will not reach a vertical velocity upper than 0.10 m/s.\n",
    "nu = (2/np.pi)*vmax_reached\n",
    "tau = tv(vmax_reached, params_ifremer)\n",
    "delta = zv(vmax_reached, params_ifremer)\n",
    "\n",
    "control = {'tau': tau, 'dz_nochattering': 0.1, 'mode': 'kalman_feedback', 'nu': nu, 'delta': delta}\n",
    "#\n",
    "#\n",
    "dt = 1 #s\n",
    "depth_rms = 1e-5 # m\n",
    "vel_rms = depth_rms/dt # mm/s\n",
    "Ve_rms = 1e-5\n",
    "t2V = f.piston.tick_to_volume  #tick_to_volume = 7.e-08\n",
    "gamma_alpha_gammaE = 1e-8\n",
    "A_coeff = g*f.rho_cte/((f.a+1)*f.m)\n",
    "kalman = {'dt': dt, 'tick_to_volume': t2V,\n",
    "          'gammaV' : f.gammaV,\n",
    "          'gamma': np.diag([vel_rms**2, depth_rms**2, gamma_alpha_gammaE**2, (10.*t2V)**2]),\n",
    "          'gamma_alpha': np.diag([(dt*A_coeff*Ve_rms)**2, (depth_rms*10.)**2, gamma_alpha_gammaE**2, (1e-1*dt*Ve_rms)**2] ),\n",
    "          'gamma_beta': np.diag([depth_rms**2])}\n",
    "#\n",
    "f.time_step(w,T=500., dt_step=.1, dt_store=1., z=-20., w=0., v=f.piston.vol_max,\n",
    "             usepiston=True, z_target=z_target, ctrl=control, kalman=kalman, verbose=0)\n",
    "plot_kalman(f)"
   ]
  },
  {
   "cell_type": "code",
   "execution_count": null,
   "metadata": {},
   "outputs": [],
   "source": [
    "# time step float with control\n",
    "#control = {'tau': 10.,'dz_nochattering': 1., 'mode': 'sliding', 'd3y_ctrl': afmax/f.m/1.}\n",
    "#control = {'tau': 2.0, 'dz_nochattering': 1., 'mode': 'feedback', 'nu': 0.03*2./np.pi, 'delta': 0.02}\n",
    "#control = {'tau': 2.0, 'dz_nochattering': 1., 'mode': 'kalman_feedback', 'nu': 0.03*2./np.pi, 'delta': 1.}\n",
    "\n",
    "\n",
    "\n",
    "vmax_reached = 0.10 #Let's admit that the float will not reach a vertical velocity upper than 0.10 m/s.\n",
    "nu = (2/np.pi)*vmax_reached\n",
    "tau = tv(vmax_reached, params_ifremer)\n",
    "delta = zv(vmax_reached, params_ifremer)\n",
    "\n",
    "control = {'tau': tau, 'dz_nochattering': 1., 'mode': 'kalman_feedback', 'nu': nu, 'delta': delta}\n",
    "#\n",
    "#\n",
    "dt = 1. #s\n",
    "depth_rms = 1e-2 # m\n",
    "vel_rms = depth_rms/dt # mm/s\n",
    "Ve_rms = 1e-5\n",
    "t2V = f.piston.tick_to_volume  #tick_to_volume = 7.e-08\n",
    "gamma_alpha_gammaE = 1e-8\n",
    "A_coeff = g*f.rho_cte/((f.a+1)*f.m)\n",
    "kalman = {'dt': dt, 'tick_to_volume': t2V,\n",
    "          'gammaV' : f.gammaV,\n",
    "          'gamma': np.diag([vel_rms**2, depth_rms**2, gamma_alpha_gammaE**2, (10.*t2V)**2]),\n",
    "          'gamma_alpha': np.diag([(dt*A_coeff*Ve_rms)**2, (depth_rms*10.)**2, gamma_alpha_gammaE**2, (1e-1*dt*Ve_rms)**2] ),\n",
    "          'gamma_beta': np.diag([depth_rms**2])}\n",
    "#\n",
    "f.time_step(w,T=500., dt_step=.1, dt_store=1., z=-20., w=0., v=f.piston.vol_max,\n",
    "             usepiston=True, z_target=z_target, ctrl=control, kalman=kalman, verbose=0)\n",
    "plot_kalman(f)"
   ]
  },
  {
   "cell_type": "code",
   "execution_count": null,
   "metadata": {},
   "outputs": [],
   "source": [
    "# time step float with control\n",
    "#control = {'tau': 10.,'dz_nochattering': 1., 'mode': 'sliding', 'd3y_ctrl': afmax/f.m/1.}\n",
    "#control = {'tau': 2.0, 'dz_nochattering': 1., 'mode': 'feedback', 'nu': 0.03*2./np.pi, 'delta': 0.02}\n",
    "#control = {'tau': 2.0, 'dz_nochattering': 1., 'mode': 'kalman_feedback', 'nu': 0.03*2./np.pi, 'delta': 1.}\n",
    "\n",
    "\n",
    "\n",
    "vmax_reached = 0.10 #Let's admit that the float will not reach a vertical velocity upper than 0.10 m/s.\n",
    "nu = (2/np.pi)*vmax_reached\n",
    "tau = tv(vmax_reached, params_ifremer)\n",
    "delta = zv(vmax_reached, params_ifremer)\n",
    "\n",
    "control = {'tau': tau, 'dz_nochattering': 1., 'mode': 'kalman_feedback', 'nu': nu, 'delta': delta}\n",
    "#\n",
    "#\n",
    "dt = 1. #s\n",
    "depth_rms = 1e-5 # m\n",
    "vel_rms = depth_rms/dt # mm/s\n",
    "Ve_rms = 1e-3\n",
    "t2V = f.piston.tick_to_volume  #tick_to_volume = 7.e-08\n",
    "gamma_alpha_gammaE = 1e-8\n",
    "A_coeff = g*f.rho_cte/((f.a+1)*f.m)\n",
    "kalman = {'dt': dt, 'tick_to_volume': t2V,\n",
    "          'gammaV' : f.gammaV,\n",
    "          'gamma': np.diag([vel_rms**2, depth_rms**2, gamma_alpha_gammaE**2, (10.*t2V)**2]),\n",
    "          'gamma_alpha': np.diag([(dt*A_coeff*Ve_rms)**2, (depth_rms*10.)**2, gamma_alpha_gammaE**2, (1e-1*dt*Ve_rms)**2] ),\n",
    "          'gamma_beta': np.diag([depth_rms**2])}\n",
    "#\n",
    "f.time_step(w,T=500., dt_step=.1, dt_store=1., z=-20., w=0., v=f.piston.vol_max,\n",
    "             usepiston=True, z_target=z_target, ctrl=control, kalman=kalman, verbose=0)\n",
    "plot_kalman(f)"
   ]
  },
  {
   "cell_type": "code",
   "execution_count": null,
   "metadata": {},
   "outputs": [],
   "source": [
    "# time step float with control\n",
    "#control = {'tau': 10.,'dz_nochattering': 1., 'mode': 'sliding', 'd3y_ctrl': afmax/f.m/1.}\n",
    "#control = {'tau': 2.0, 'dz_nochattering': 1., 'mode': 'feedback', 'nu': 0.03*2./np.pi, 'delta': 0.02}\n",
    "#control = {'tau': 2.0, 'dz_nochattering': 1., 'mode': 'kalman_feedback', 'nu': 0.03*2./np.pi, 'delta': 1.}\n",
    "\n",
    "\n",
    "\n",
    "vmax_reached = 0.10 #Let's admit that the float will not reach a vertical velocity upper than 0.10 m/s.\n",
    "nu = (2/np.pi)*vmax_reached\n",
    "tau = tv(vmax_reached, params_ifremer)\n",
    "delta = zv(vmax_reached, params_ifremer)\n",
    "\n",
    "control = {'tau': tau, 'dz_nochattering': 1., 'mode': 'kalman_feedback', 'nu': nu, 'delta': delta}\n",
    "#\n",
    "#\n",
    "dt = 1. #s\n",
    "depth_rms = 1e-5 # m\n",
    "vel_rms = depth_rms/dt # mm/s\n",
    "Ve_rms = 1e-5\n",
    "t2V = f.piston.tick_to_volume  #tick_to_volume = 7.e-08\n",
    "gamma_alpha_gammaE = 1e-6\n",
    "A_coeff = g*f.rho_cte/((f.a+1)*f.m)\n",
    "kalman = {'dt': dt, 'tick_to_volume': t2V,\n",
    "          'gammaV' : f.gammaV,\n",
    "          'gamma': np.diag([vel_rms**2, depth_rms**2, gamma_alpha_gammaE**2, (10.*t2V)**2]),\n",
    "          'gamma_alpha': np.diag([(dt*A_coeff*Ve_rms)**2, (depth_rms*10.)**2, gamma_alpha_gammaE**2, (1e-1*dt*Ve_rms)**2] ),\n",
    "          'gamma_beta': np.diag([depth_rms**2])}\n",
    "#\n",
    "f.time_step(w,T=500., dt_step=.1, dt_store=1., z=-20., w=0., v=f.piston.vol_max,\n",
    "             usepiston=True, z_target=z_target, ctrl=control, kalman=kalman, verbose=0)\n",
    "plot_kalman(f)"
   ]
  },
  {
   "cell_type": "code",
   "execution_count": null,
   "metadata": {},
   "outputs": [],
   "source": [
    "fig = plt.figure()\n",
    "ax = fig.add_subplot(111)\n",
    "ax.plot(f.log.t, f.log.gammaV*f.log.z)\n",
    "ax.set_title(\"gammaV*z as a function of time\")\n",
    "ax.set_xlabel(\"t (s)\")\n",
    "ax.set_ylabel(\"gammaV*z (m^3)\")\n",
    "ax.grid()"
   ]
  },
  {
   "cell_type": "code",
   "execution_count": null,
   "metadata": {},
   "outputs": [],
   "source": [
    "fig = plt.figure()\n",
    "ax=fig.add_subplot(111)\n",
    "ax.plot(f.t_kalman[1:],f.log.gamma_diag1, label =\"first diagonal covariance matrix coef (velocity)\")\n",
    "ax.set_title(\"first diagonal covariance matrix coef (velocity) as a function of time\")\n",
    "ax.set_xlabel(\"t (s)\")\n",
    "ax.set_ylabel(\"gamma_diag1 (m/s^2)\")\n",
    "ax.grid()\n",
    "legend = ax.legend(loc='best', shadow=True, fontsize='medium')\n",
    "\n",
    "fig = plt.figure()\n",
    "ax=fig.add_subplot(111)\n",
    "ax.plot(f.t_kalman[1:],f.log.gamma_diag2, label =\"second diagonal covariance matrix coef (position)\")\n",
    "ax.set_title(\"second diagonal covariance matrix coef (position) as a function of time\")\n",
    "ax.set_xlabel(\"t (s)\")\n",
    "ax.set_ylabel(\"gamma_diag2 (m/s)\")\n",
    "ax.grid()\n",
    "legend = ax.legend(loc='best', shadow=True, fontsize='medium')\n",
    "\n",
    "fig = plt.figure()\n",
    "ax=fig.add_subplot(111)\n",
    "ax.plot(f.t_kalman[1:],f.log.gamma_diag3, label =\"third diagonal covariance matrix coef (piston volume)\")\n",
    "ax.set_title(\"third diagonal covariance matrix coef (equivalent compressibility) as a function of time\")\n",
    "ax.set_xlabel(\"t (s)\")\n",
    "ax.set_ylabel(\"gamma_diag3 (m^3/s)\")\n",
    "ax.grid()\n",
    "legend = ax.legend(loc='best', shadow=True, fontsize='medium')\n",
    "\n",
    "fig = plt.figure()\n",
    "ax=fig.add_subplot(111)\n",
    "ax.plot(f.t_kalman[1:],f.log.gamma_diag4, label =\"fourth diagonal covariance matrix coef (volume Ve)\")\n",
    "ax.set_title(\"fourth diagonal covariance matrix coef (volume Ve) as a function of time\")\n",
    "ax.set_xlabel(\"t (s)\")\n",
    "ax.set_ylabel(\"gamma_diag4 (m^3/s)\")\n",
    "ax.grid()\n",
    "legend = ax.legend(loc='best', shadow=True, fontsize='medium')"
   ]
  },
  {
   "cell_type": "code",
   "execution_count": null,
   "metadata": {},
   "outputs": [],
   "source": [
    "fig = plt.figure()\n",
    "ax=fig.add_subplot(111)\n",
    "ax.plot(f.log.t,f.log.u, label =\"command\")\n",
    "ax.set_title(\"command as a function of time\")\n",
    "ax.set_xlabel(\"t (s)\")\n",
    "ax.set_ylabel(\"command (m^3/s)\")\n",
    "ax.grid()\n",
    "legend = ax.legend(loc='best', shadow=True, fontsize='medium')"
   ]
  },
  {
   "cell_type": "code",
   "execution_count": null,
   "metadata": {
    "scrolled": true
   },
   "outputs": [],
   "source": [
    "# plot log\n",
    "plot_log(f,z_target=z_target)"
   ]
  },
  {
   "cell_type": "markdown",
   "metadata": {},
   "source": [
    "---\n",
    "\n",
    "## Oscillations around a fixed level"
   ]
  },
  {
   "cell_type": "code",
   "execution_count": null,
   "metadata": {},
   "outputs": [],
   "source": [
    "z_target = lambda t: -25+10.*np.sin(2.*np.pi/600.*t)"
   ]
  },
  {
   "cell_type": "code",
   "execution_count": null,
   "metadata": {},
   "outputs": [],
   "source": [
    "f.time_step(w,T=1800., dt_step=.1, dt_store=1.,\n",
    "            usepiston=True, z_target=z_target, ctrl=control)"
   ]
  },
  {
   "cell_type": "code",
   "execution_count": null,
   "metadata": {},
   "outputs": [],
   "source": [
    "plot_log(f,z_target=z_target)"
   ]
  },
  {
   "cell_type": "markdown",
   "metadata": {},
   "source": [
    "---\n",
    "\n",
    "## Maintains depth level around moving isopycnals"
   ]
  },
  {
   "cell_type": "code",
   "execution_count": null,
   "metadata": {},
   "outputs": [],
   "source": [
    "eta = lambda t: 10.*np.sin(2.*np.pi/(60.*20.)*t)\n",
    "z_target = lambda t: -25.+t*0."
   ]
  },
  {
   "cell_type": "code",
   "execution_count": null,
   "metadata": {},
   "outputs": [],
   "source": [
    "f.time_step(w,T=1800., dt_step=.1, dt_store=1., usepiston=True, z_target=z_target, ctrl=control, eta=eta)"
   ]
  },
  {
   "cell_type": "code",
   "execution_count": null,
   "metadata": {},
   "outputs": [],
   "source": [
    "plot_log(f, z_target=z_target, eta=eta)"
   ]
  },
  {
   "cell_type": "markdown",
   "metadata": {},
   "source": [
    "---\n",
    "\n",
    "## Moving isopycnals without control"
   ]
  },
  {
   "cell_type": "code",
   "execution_count": null,
   "metadata": {},
   "outputs": [],
   "source": [
    "iz = np.argmin(np.abs(z+25.))\n",
    "v = f.volume4equilibrium(p[iz],temp[iz],rho_w[iz])\n",
    "f.time_step(w, T=1800., dt_step=.1, dt_store=1., z=-25., w=0., v=v, usepiston=False, eta=eta)"
   ]
  },
  {
   "cell_type": "code",
   "execution_count": null,
   "metadata": {},
   "outputs": [],
   "source": [
    "plot_log(f, z_target=z_target, eta=eta)"
   ]
  },
  {
   "cell_type": "code",
   "execution_count": null,
   "metadata": {},
   "outputs": [],
   "source": []
  },
  {
   "cell_type": "code",
   "execution_count": null,
   "metadata": {},
   "outputs": [],
   "source": []
  },
  {
   "cell_type": "code",
   "execution_count": null,
   "metadata": {},
   "outputs": [],
   "source": []
  }
 ],
 "metadata": {
  "kernelspec": {
   "display_name": "Python 3",
   "language": "python",
   "name": "python3"
  },
  "language_info": {
   "codemirror_mode": {
    "name": "ipython",
    "version": 3
   },
   "file_extension": ".py",
   "mimetype": "text/x-python",
   "name": "python",
   "nbconvert_exporter": "python",
   "pygments_lexer": "ipython3",
   "version": "3.6.7"
  }
 },
 "nbformat": 4,
 "nbformat_minor": 2
}

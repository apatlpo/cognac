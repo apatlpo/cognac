{
 "cells": [
  {
   "cell_type": "markdown",
   "metadata": {},
   "source": [
    "\n",
    "# Float vertical position control, ensta prototype\n"
   ]
  },
  {
   "cell_type": "markdown",
   "metadata": {},
   "source": [
    "---\n",
    "\n",
    "## Equations of motion\n",
    "\n",
    "For basics about float dynamics go [here](https://github.com/apatlpo/cognac/blob/master/instrum/float_dynamics_basics.ipynb)\n",
    "\n",
    "We assume now that the float has the ability to control its volume between two bounds $V+v_{min}$ and $V+v_{max}$\n",
    "with a precision $dv$.\n",
    "\n",
    "---\n",
    "\n",
    "## Control\n",
    "\n",
    "We control the float vertical position with sliding modes, see [this notebook](https://github.com/apatlpo/cognac/blob/master/instrum/zcontrol_realistic.ipynb) for more details about control.\n"
   ]
  },
  {
   "cell_type": "code",
   "execution_count": 1,
   "metadata": {
    "scrolled": true
   },
   "outputs": [],
   "source": [
    "%matplotlib inline\n",
    "#%matplotlib notebook\n",
    "import matplotlib.pyplot as plt\n",
    "from matplotlib.patches import Polygon\n",
    "import numpy as np\n",
    "from scipy.interpolate import interp1d\n",
    "import time\n",
    "from copy import deepcopy\n",
    "\n",
    "from matplotlib import animation, rc\n",
    "from IPython.display import HTML\n",
    "\n",
    "from float_lib import *"
   ]
  },
  {
   "cell_type": "code",
   "execution_count": 2,
   "metadata": {},
   "outputs": [
    {
     "name": "stdout",
     "output_type": "stream",
     "text": [
      "WOA water profile at lon=-50, lat=40\n"
     ]
    },
    {
     "data": {
      "image/png": "[encoded data removed]",
      "text/plain": [
       "<Figure size 504x360 with 2 Axes>"
      ]
     },
     "metadata": {
      "needs_background": "light"
     },
     "output_type": "display_data"
    }
   ],
   "source": [
    "# select a water profile\n",
    "w = waterp(lon=-50.,lat=40.)\n",
    "print(w)\n",
    "#w.show_on_map()"
   ]
  },
  {
   "cell_type": "markdown",
   "metadata": {},
   "source": [
    "--- \n",
    "## Instantiate the float object"
   ]
  },
  {
   "cell_type": "code",
   "execution_count": 3,
   "metadata": {},
   "outputs": [
    {
     "name": "stdout",
     "output_type": "stream",
     "text": [
      "Float compressibility = 9.300000e-05 /dbar \n",
      "\n",
      "131.8 g were added to the float in order to be at equilibrium at 25 dbar \n",
      "\n",
      "Piston max displacement set from max volume\n",
      "Float parameters: \n",
      "  L     = 0.50 m      - float length\n",
      "  r     = 0.06 m      - float radius\n",
      "  m     = 5.79 kg     - float mass\n",
      "  V     = 5.65e+03 cm^3   - float volume\n",
      "  rho_cte     = 1.02e+09 kg.cm^3   - float constant density\n",
      "  gamma = 9.30e-05 /dbar  - mechanical compressibility\n",
      "  alpha = 0.00e+00 /degC  - thermal compressibility\n",
      "  temp0 = 0.00e+00  degC  - reference temperature\n",
      "  a = 1.00e+00  (no dimension)  - float added mass\n",
      "  c0 = 0.00e+00  (no dimension)  - float drag parameter 0\n",
      "  c1 = 1.00e+00  (no dimension)  - float drag parameter 1\n",
      "Piston parameters and state: \n",
      "  r     = 25.00 mm        - piston radius\n",
      "  phi   = 0.00 rad       - present angle of rotation\n",
      "  d     = 0.00 mm        - present piston displacement\n",
      "  vol   = 114.46 cm^3      - present volume addition\n",
      "  lead  = 1.75 cm        - screw lead\n",
      "  tick_per_turn  = 48.00 no dimension        - number of notches on the thumbwheel of the piston\n",
      "  tick_to_volume  = 0.00 m^3        - variation of volume corresponding to each notch on the thumbwheel of the piston\n",
      "  velocity_volume_max  = 0.00 m^3/s        - variation of volume max per second possible in the float thanks to the piston\n",
      "  tick_offset  = 250.00 no dimension        - offset number of notches when the volume in the float is vol_min\n",
      "  chi  = 0.00 m^3/m        - compressibility ratio compare to water\n",
      "  phi_max = 2513.27 deg     - maximum rotation\n",
      "  phi_min = 0.00 deg     - minimum rotation\n",
      "  d_max = 70.00 mm        - maximum piston displacement\n",
      "  d_min = 0.00 mm        - minimum piston displacement\n",
      "  delta_volume_max = 0.00 m^3/s    - maximal variation of volume possible per second\n",
      "  vol_min = -22.98 cm^3    - min volume displaced\n",
      "  vol_max = 114.46 cm^3    - max volume displaced\n",
      "  omega_max = 744.00 deg/s - maximum rotation rate\n",
      "  omega_min = 74.40 deg/s - minimum rotation rate\n",
      "  efficiency = 0.10 - mechanical work produced / electrical work supplied\n",
      "\n",
      "Acceleration and velocity bounds (zmin=-500m,zmax=0m):\n",
      "fmax/m=2.2e-01 m^2/s, fmin/m= -4.5e-01 m^2/s, wmax= 386.3 cm/s\n",
      "For accelerations, equivalent speed reached in 1min:\n",
      "  fmax 1.3e+03 cm/s, fmin/m= -2.7e+03 cm/s\n"
     ]
    }
   ],
   "source": [
    "# Init now active control of the vertical position\n",
    "\n",
    "#\n",
    "z=np.arange(-100.,0.,1.)\n",
    "rho_w, p, temp = w.get_rho(z), w.get_p(z), w.get_temp(z)\n",
    "\n",
    "#\n",
    "f = autonomous_float(model='ENSTA')\n",
    "\n",
    "# compute compressibility\n",
    "gamma=compute_gamma(f.r,.005,material='polycarbonat')\n",
    "print('Float compressibility = %e /dbar \\n' %(gamma))\n",
    "f.gamma=gamma\n",
    "\n",
    "# adjust mass to be at equilibrium at -25m\n",
    "iz = np.argmin(np.abs(z+25))\n",
    "f.adjust_m(p[iz],temp[iz],rho_w[iz])\n",
    "\n",
    "# set vmax such that the float has an extra buoyancy at the surface equal\n",
    "# to a cylinder ot 2cm radius and height of 10cm (antenna casing)\n",
    "iz = np.argmin(np.abs(z+0.))\n",
    "vmax = f.volume4equilibrium(p[iz],temp[iz],rho_w[iz]) + .1*np.pi*.02**2\n",
    "# use d_max to prescribe piston max course\n",
    "dmax = .07\n",
    "\n",
    "#\n",
    "f.init_piston(d_max=dmax,vol_max=vmax,vol=vmax)\n",
    "print(f)\n",
    "\n",
    "# compute bounds on motions\n",
    "fmax, fmin, afmax, wmax = f.compute_bounds(w,-500.)"
   ]
  },
  {
   "cell_type": "code",
   "execution_count": 4,
   "metadata": {},
   "outputs": [
    {
     "name": "stdout",
     "output_type": "stream",
     "text": [
      "20.597707653301427\n",
      "-3.9710755106480065\n"
     ]
    }
   ],
   "source": [
    "rho_eq = rho_w[iz]\n",
    "temp_eq = temp[iz]\n",
    "p_eq=20\n",
    "f.piston_update_vol(f.piston.vol_max)\n",
    "print(rho_eq - f.rho(p=p_eq, temp=temp_eq))\n",
    "f.piston_update_vol(f.piston.vol_min)\n",
    "print(rho_eq - f.rho(p=p_eq, temp=temp_eq))"
   ]
  },
  {
   "cell_type": "code",
   "execution_count": 5,
   "metadata": {},
   "outputs": [
    {
     "name": "stdout",
     "output_type": "stream",
     "text": [
      "Piston reset : vol=-2.2e+00 cm^3  \n",
      "z equilibrium = -20.0m\n",
      "z equilibrium after 1 mm piston displacement = -24.4m\n"
     ]
    }
   ],
   "source": [
    "# adjust piston to be at equilibrium 20m\n",
    "iz = np.argmin(np.abs(z+20.))\n",
    "vmax = f.set_piston4equilibrium(p[iz],temp[iz],rho_w[iz])\n",
    "print('z equilibrium = %.1fm' %(f.z4equilibrium(w) ) ) # check\n",
    "\n",
    "# compute float vertical displacement associated with 1mm piston displacement\n",
    "f.piston.update_d(f.piston.d+.001)\n",
    "f.piston_update_vol()\n",
    "print('z equilibrium after 1 mm piston displacement = %.1fm' %(f.z4equilibrium(w) ) )"
   ]
  },
  {
   "cell_type": "code",
   "execution_count": 6,
   "metadata": {},
   "outputs": [
    {
     "data": {
      "image/png": "[encoded data removed]",
      "text/plain": [
       "<Figure size 432x288 with 1 Axes>"
      ]
     },
     "metadata": {
      "needs_background": "light"
     },
     "output_type": "display_data"
    }
   ],
   "source": [
    "# show densities\n",
    "plot_float_density(z, f, w)"
   ]
  },
  {
   "cell_type": "markdown",
   "metadata": {},
   "source": [
    "---\n",
    "\n",
    "## From the surface down to a target level"
   ]
  },
  {
   "cell_type": "code",
   "execution_count": 7,
   "metadata": {},
   "outputs": [
    {
     "name": "stdout",
     "output_type": "stream",
     "text": [
      "Acceleration and velocity bounds (zmin=-500m,zmax=0m):\n",
      "fmax/m=2.2e-01 m^2/s, fmin/m= -4.5e-01 m^2/s, wmax= 386.3 cm/s\n",
      "For accelerations, equivalent speed reached in 1min:\n",
      "  fmax 1.3e+03 cm/s, fmin/m= -2.7e+03 cm/s\n"
     ]
    }
   ],
   "source": [
    "# we start by constructing a trajectory that can be followed by the float\n",
    "z_target = descent(3600, -25., f, w)"
   ]
  },
  {
   "cell_type": "code",
   "execution_count": 8,
   "metadata": {
    "scrolled": true
   },
   "outputs": [
    {
     "name": "stdout",
     "output_type": "stream",
     "text": [
      " ctrl: tau = 2.0\n",
      " ctrl: dz_nochattering = 1.0\n",
      " ctrl: mode = feedback\n",
      " ctrl: Lv = 0.5\n",
      " ctrl: dt_ctrl = 0.1\n",
      " ctrl: nu = 0.01909859317102744\n",
      " ctrl: delta = 1.0\n",
      "Start time stepping for 5 min ...\n",
      "... time stepping done\n"
     ]
    }
   ],
   "source": [
    "# time step float with control\n",
    "#control = {'tau': 10.,'dz_nochattering': 1., 'mode': 'sliding', 'd3y_ctrl': afmax/f.m/1.}\n",
    "#control = {'tau': 2.0, 'dz_nochattering': 1., 'mode': 'feedback', 'nu': 0.03*2./np.pi, 'delta': 0.02}\n",
    "control = {'tau': 2.0, 'dz_nochattering': 1., 'mode': 'feedback', 'nu': 0.03*2./np.pi, 'delta': 1.}\n",
    "#control = {'tau': 2.0, 'dz_nochattering': 1., 'mode': 'kalman_feedback', 'nu': 0.03*2./np.pi, 'delta': 1.}\n",
    "#\n",
    "f.time_step(w,T=300., dt_step=.1, dt_store=1., z=-10., w=0., v=f.piston.vol_max,\n",
    "             usepiston=True, z_target=z_target, ctrl=control)"
   ]
  },
  {
   "cell_type": "code",
   "execution_count": 9,
   "metadata": {},
   "outputs": [
    {
     "data": {
      "text/plain": [
       "[<matplotlib.lines.Line2D at 0x11d1b9ac8>]"
      ]
     },
     "execution_count": 9,
     "metadata": {},
     "output_type": "execute_result"
    },
    {
     "data": {
      "image/png": "[encoded data removed]",
      "text/plain": [
       "<Figure size 432x288 with 1 Axes>"
      ]
     },
     "metadata": {
      "needs_background": "light"
     },
     "output_type": "display_data"
    }
   ],
   "source": [
    "fig = plt.figure()\n",
    "ax=fig.add_subplot(111)\n",
    "ax.plot(f.log.t,f.log.z)\n",
    "x_hat = np.array(f.x_kalman)\n",
    "ax.plot(f.t_kalman,-x_hat[:,1])"
   ]
  },
  {
   "cell_type": "code",
   "execution_count": 18,
   "metadata": {},
   "outputs": [
    {
     "data": {
      "text/plain": [
       "[-6.9648263099077926e-06, 23.779611932489416]"
      ]
     },
     "execution_count": 18,
     "metadata": {},
     "output_type": "execute_result"
    }
   ],
   "source": [
    "[f.v, -f.z]"
   ]
  },
  {
   "cell_type": "code",
   "execution_count": 16,
   "metadata": {},
   "outputs": [
    {
     "name": "stdout",
     "output_type": "stream",
     "text": [
      "[ 9.45355213e-01  2.52595768e+01 -1.81620863e-04  1.78964425e-04]\n",
      "[[1.38734996e-14 9.53055638e-23 0.00000000e+00 0.00000000e+00]\n",
      " [9.53055638e-23 1.61803399e-20 0.00000000e+00 0.00000000e+00]\n",
      " [0.00000000e+00 0.00000000e+00 1.00000000e-20 0.00000000e+00]\n",
      " [0.00000000e+00 0.00000000e+00 0.00000000e+00 1.00000000e-20]]\n"
     ]
    }
   ],
   "source": [
    "x0 = f.kalman.x_hat\n",
    "gamma0 = f.kalman.gamma\n",
    "print(x0)\n",
    "print(gamma0)"
   ]
  },
  {
   "cell_type": "code",
   "execution_count": null,
   "metadata": {},
   "outputs": [],
   "source": [
    "f.kalman.x_hat = x0\n",
    "f.kalman.gamma = gamma0"
   ]
  },
  {
   "cell_type": "code",
   "execution_count": 17,
   "metadata": {},
   "outputs": [
    {
     "name": "stdout",
     "output_type": "stream",
     "text": [
      "[ 9.45355213e-01  2.52595768e+01 -1.81620863e-04  1.78964425e-04]\n",
      "[ 9.45439871e-01  2.52848699e+01 -1.83775059e-04  1.78964425e-04]\n"
     ]
    }
   ],
   "source": [
    "print(f.kalman.x_hat)\n",
    "f.kalman.update_kalman(0., f.z, f.v)\n",
    "print(f.kalman.x_hat)"
   ]
  },
  {
   "cell_type": "code",
   "execution_count": 26,
   "metadata": {},
   "outputs": [
    {
     "data": {
      "text/plain": [
       "[23.779594729549178, -0.00018592925403242532]"
      ]
     },
     "execution_count": 26,
     "metadata": {},
     "output_type": "execute_result"
    }
   ],
   "source": [
    "y = f.kalman.gen_obs(f.z, f.v)\n",
    "y"
   ]
  },
  {
   "cell_type": "code",
   "execution_count": 24,
   "metadata": {},
   "outputs": [
    {
     "data": {
      "text/plain": [
       "(array([ 9.39967633e-01,  2.43449094e+01, -1.83775056e-04,  1.78964425e-04]),\n",
       " array([[1.38734996e-14, 3.64034861e-23, 0.00000000e+00, 0.00000000e+00],\n",
       "        [3.64034861e-23, 6.18033989e-21, 0.00000000e+00, 0.00000000e+00],\n",
       "        [0.00000000e+00, 0.00000000e+00, 5.00000000e-21, 0.00000000e+00],\n",
       "        [0.00000000e+00, 0.00000000e+00, 0.00000000e+00, 1.00000000e-20]]))"
      ]
     },
     "execution_count": 24,
     "metadata": {},
     "output_type": "execute_result"
    }
   ],
   "source": [
    "f.kalman.kalman_correc(x0,gamma0,y)"
   ]
  },
  {
   "cell_type": "code",
   "execution_count": 20,
   "metadata": {},
   "outputs": [
    {
     "data": {
      "text/plain": [
       "array([[1.e-20, 0.e+00],\n",
       "       [0.e+00, 1.e-20]])"
      ]
     },
     "execution_count": 20,
     "metadata": {},
     "output_type": "execute_result"
    }
   ],
   "source": [
    "f.kalman.gamma_beta"
   ]
  },
  {
   "cell_type": "code",
   "execution_count": 36,
   "metadata": {},
   "outputs": [
    {
     "ename": "ValueError",
     "evalue": "matmul: Input operand 1 has a mismatch in its core dimension 0, with gufunc signature (n?,k),(k,m?)->(n?,m?) (size 2 is different from 4)",
     "output_type": "error",
     "traceback": [
      "\u001b[0;31m---------------------------------------------------------------------------\u001b[0m",
      "\u001b[0;31mValueError\u001b[0m                                Traceback (most recent call last)",
      "\u001b[0;32m<ipython-input-36-ab063e3b9385>\u001b[0m in \u001b[0;36m<module>\u001b[0;34m\u001b[0m\n\u001b[0;32m----> 1\u001b[0;31m \u001b[0mf\u001b[0m\u001b[0;34m.\u001b[0m\u001b[0mkalman\u001b[0m\u001b[0;34m.\u001b[0m\u001b[0mC\u001b[0m\u001b[0;34m@\u001b[0m\u001b[0mnp\u001b[0m\u001b[0;34m.\u001b[0m\u001b[0marray\u001b[0m\u001b[0;34m(\u001b[0m\u001b[0my\u001b[0m\u001b[0;34m)\u001b[0m\u001b[0;34m\u001b[0m\u001b[0;34m\u001b[0m\u001b[0m\n\u001b[0m",
      "\u001b[0;31mValueError\u001b[0m: matmul: Input operand 1 has a mismatch in its core dimension 0, with gufunc signature (n?,k),(k,m?)->(n?,m?) (size 2 is different from 4)"
     ]
    }
   ],
   "source": [
    "f.kalman.C@np.array(y)"
   ]
  },
  {
   "cell_type": "code",
   "execution_count": 30,
   "metadata": {},
   "outputs": [],
   "source": [
    "def kalman_correc(kalman, x0,gamma0,y):\n",
    "    C = kalman.C\n",
    "    S = C @ gamma0 @ C.T + kalman.gamma_beta\n",
    "    K = gamma0 @ C.T @ np.linalg.inv(S)\n",
    "    ytilde = np.array(y) - C @ x0\n",
    "    Gup = (np.eye(len(x0))-K @ C) @ gamma0\n",
    "    xup = x0 + K@ytilde\n",
    "    return xup, Gup, ytilde, K"
   ]
  },
  {
   "cell_type": "code",
   "execution_count": 31,
   "metadata": {},
   "outputs": [
    {
     "data": {
      "text/plain": [
       "(array([ 9.39967563e-01,  2.43448976e+01, -1.83775059e-04,  1.78964425e-04]),\n",
       " array([[1.38734996e-14, 3.64034861e-23, 0.00000000e+00, 0.00000000e+00],\n",
       "        [3.64034861e-23, 6.18033989e-21, 0.00000000e+00, 0.00000000e+00],\n",
       "        [0.00000000e+00, 0.00000000e+00, 5.00000000e-21, 0.00000000e+00],\n",
       "        [0.00000000e+00, 0.00000000e+00, 0.00000000e+00, 1.00000000e-20]]),\n",
       " array([-1.47998207e+00, -4.30839106e-06]),\n",
       " array([[0.00364035, 0.        ],\n",
       "        [0.61803399, 0.        ],\n",
       "        [0.        , 0.5       ],\n",
       "        [0.        , 0.        ]]))"
      ]
     },
     "execution_count": 31,
     "metadata": {},
     "output_type": "execute_result"
    }
   ],
   "source": [
    "kalman_correc(f.kalman, x0,gamma0,y)"
   ]
  },
  {
   "cell_type": "code",
   "execution_count": null,
   "metadata": {},
   "outputs": [],
   "source": []
  },
  {
   "cell_type": "code",
   "execution_count": null,
   "metadata": {},
   "outputs": [],
   "source": [
    "fig = plt.figure()\n",
    "ax=fig.add_subplot(111)\n",
    "ax.plot(f.t_kalman,-x_hat[:,3])"
   ]
  },
  {
   "cell_type": "code",
   "execution_count": null,
   "metadata": {},
   "outputs": [],
   "source": [
    "x_hat.shape"
   ]
  },
  {
   "cell_type": "code",
   "execution_count": null,
   "metadata": {
    "scrolled": true
   },
   "outputs": [],
   "source": [
    "# plot log\n",
    "plot_log(f,z_target=z_target)"
   ]
  },
  {
   "cell_type": "markdown",
   "metadata": {},
   "source": [
    "---\n",
    "\n",
    "## Oscillations around a fixed level"
   ]
  },
  {
   "cell_type": "code",
   "execution_count": null,
   "metadata": {},
   "outputs": [],
   "source": [
    "z_target = lambda t: -25+10.*np.sin(2.*np.pi/600.*t)"
   ]
  },
  {
   "cell_type": "code",
   "execution_count": null,
   "metadata": {},
   "outputs": [],
   "source": [
    "f.time_step(w,T=1800., dt_step=.1, dt_store=1.,\n",
    "            usepiston=True, z_target=z_target, ctrl=control)"
   ]
  },
  {
   "cell_type": "code",
   "execution_count": null,
   "metadata": {},
   "outputs": [],
   "source": [
    "plot_log(f,z_target=z_target)"
   ]
  },
  {
   "cell_type": "markdown",
   "metadata": {},
   "source": [
    "---\n",
    "\n",
    "## Maintains depth level around moving isopycnals"
   ]
  },
  {
   "cell_type": "code",
   "execution_count": null,
   "metadata": {},
   "outputs": [],
   "source": [
    "eta = lambda t: 10.*np.sin(2.*np.pi/(60.*20.)*t)\n",
    "z_target = lambda t: -25.+t*0."
   ]
  },
  {
   "cell_type": "code",
   "execution_count": null,
   "metadata": {},
   "outputs": [],
   "source": [
    "f.time_step(w,T=1800., dt_step=.1, dt_store=1., usepiston=True, z_target=z_target, ctrl=control, eta=eta)"
   ]
  },
  {
   "cell_type": "code",
   "execution_count": null,
   "metadata": {},
   "outputs": [],
   "source": [
    "plot_log(f, z_target=z_target, eta=eta)"
   ]
  },
  {
   "cell_type": "markdown",
   "metadata": {},
   "source": [
    "---\n",
    "\n",
    "## Moving isopycnals without control"
   ]
  },
  {
   "cell_type": "code",
   "execution_count": null,
   "metadata": {},
   "outputs": [],
   "source": [
    "iz = np.argmin(np.abs(z+25.))\n",
    "v = f.volume4equilibrium(p[iz],temp[iz],rho_w[iz])\n",
    "f.time_step(w, T=1800., dt_step=.1, dt_store=1., z=-25., w=0., v=v, usepiston=False, eta=eta)"
   ]
  },
  {
   "cell_type": "code",
   "execution_count": null,
   "metadata": {},
   "outputs": [],
   "source": [
    "plot_log(f, z_target=z_target, eta=eta)"
   ]
  },
  {
   "cell_type": "code",
   "execution_count": null,
   "metadata": {},
   "outputs": [],
   "source": []
  },
  {
   "cell_type": "code",
   "execution_count": null,
   "metadata": {},
   "outputs": [],
   "source": []
  }
 ],
 "metadata": {
  "kernelspec": {
   "display_name": "Python 3",
   "language": "python",
   "name": "python3"
  },
  "language_info": {
   "codemirror_mode": {
    "name": "ipython",
    "version": 3
   },
   "file_extension": ".py",
   "mimetype": "text/x-python",
   "name": "python",
   "nbconvert_exporter": "python",
   "pygments_lexer": "ipython3",
   "version": "3.6.7"
  }
 },
 "nbformat": 4,
 "nbformat_minor": 2
}

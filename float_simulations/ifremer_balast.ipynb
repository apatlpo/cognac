{
 "cells": [
  {
   "cell_type": "markdown",
   "metadata": {},
   "source": [
    "# Ifremer prototype: balast\n",
    "\n",
    "$\n",
    "\\begin{align}\n",
    "m_{f,water} &=  (\\rho-\\rho_w)V \\\\\n",
    "m_{f+m,water} &= m_{m,water} + (\\rho-\\rho_w)V, \\\\\n",
    "&= m_{m,water} + m - \\rho_w V,\n",
    "\\end{align}\n",
    "$\n",
    "\n",
    "where $m_{f,water}$ and $m_{m,water}$ are the weights in water of the float and the additional mass respectively, and, where $\\rho = m/V$ is the nominal density float, $m$ is the mass of the float (in air).\n",
    "\n",
    "$\n",
    "\\begin{align}\n",
    "\\delta m_{f,water} = 0 &= \\delta m - V \\delta \\rho_w - \\rho_w \\delta V,\n",
    "\\end{align}\n",
    "$"
   ]
  },
  {
   "cell_type": "markdown",
   "metadata": {},
   "source": [
    "--- \n",
    "\n",
    "**Balasting protocol:**\n",
    "\n",
    "1. weigh the float in air\n",
    "\n",
    "2. set piston to target position: big piston inside, small piston a fraction (e.g. 1/4) inside.\n",
    "\n",
    "3. put the float in the tank and let it adjust to the temperature (e.g. 15min? need to find appropriate value)\n",
    "\n",
    "4. weigh the float + an additional mass: $m_{f+m, water}$. The float needs to be fully underwater.\n",
    "\n",
    "5. weigh the additional mass in water: $m_{m, water}$\n",
    "\n",
    "6. deduce the weight of the float in water: $m_{f, water} = m_{f+m, water} - m_{m, water}$\n",
    "\n",
    "7. measure temperature, salinity (or conductivity) in the tank\n",
    "\n",
    "**Checklist for tests:**\n",
    "\n",
    "1. Bring: weights labelled with weight in water, tape, rope, CTD (with computer and accessories)\n",
    "\n",
    "2. measure water temperature, salinity (or conductivity) in the deployment area and at the surface.\n",
    "\n",
    "3. adjust mass according to computations below\n"
   ]
  },
  {
   "cell_type": "markdown",
   "metadata": {},
   "source": [
    "---"
   ]
  },
  {
   "cell_type": "code",
   "execution_count": 1,
   "metadata": {
    "scrolled": true
   },
   "outputs": [],
   "source": [
    "%matplotlib inline\n",
    "import matplotlib.pyplot as plt\n",
    "import numpy as np\n",
    "import gsw\n",
    "\n",
    "import cognac.float as fl"
   ]
  },
  {
   "cell_type": "markdown",
   "metadata": {},
   "source": [
    "---\n",
    "\n",
    "## first deployment: lopstech19 leg 2"
   ]
  },
  {
   "cell_type": "code",
   "execution_count": 2,
   "metadata": {},
   "outputs": [],
   "source": [
    "bfile = '/Users/aponte/Current_projects/cognac/campagnes_techno/2019_lopstech/leg2/float/balast.yaml'"
   ]
  },
  {
   "cell_type": "markdown",
   "metadata": {},
   "source": [
    "### generate balast file"
   ]
  },
  {
   "cell_type": "code",
   "execution_count": 2,
   "metadata": {},
   "outputs": [],
   "source": [
    "#\n",
    "b = fl.balast()"
   ]
  },
  {
   "cell_type": "code",
   "execution_count": 3,
   "metadata": {},
   "outputs": [
    {
     "name": "stdout",
     "output_type": "stream",
     "text": [
      "Balasting data stored in /Users/aponte/Current_projects/cognac/campagnes_techno/2019_lopstech/leg2/float/balast.yaml\n"
     ]
    }
   ],
   "source": [
    "b.add_balast('ifremer-15/10/2019', mass_in_water=0., mass_in_air=13554., \n",
    "             water_temperature=17.4, water_salinity=34.622, \n",
    "             piston_displacement=9.*3./4.)\n",
    "#\n",
    "b.store(bfile)"
   ]
  },
  {
   "cell_type": "markdown",
   "metadata": {},
   "source": [
    "### reload balast file"
   ]
  },
  {
   "cell_type": "code",
   "execution_count": 3,
   "metadata": {},
   "outputs": [
    {
     "name": "stdout",
     "output_type": "stream",
     "text": [
      "File /Users/aponte/Current_projects/cognac/campagnes_techno/2019_lopstech/leg2/float/balast.yaml loaded\n"
     ]
    }
   ],
   "source": [
    "b = fl.balast(file=bfile)"
   ]
  },
  {
   "cell_type": "code",
   "execution_count": 4,
   "metadata": {},
   "outputs": [
    {
     "data": {
      "text/plain": [
       "{ 'ifremer-15/10/2019': { 'CT': 17.40100549537287,\n",
       "                          'SA': 34.78738585389333,\n",
       "                          'V': 0.013221626276530922,\n",
       "                          'comments': 'None',\n",
       "                          'mass_in_air': 13554.0,\n",
       "                          'mass_in_water': 0.0,\n",
       "                          'piston_displacement': 6.75,\n",
       "                          'rho_water': 1025.1386415345182,\n",
       "                          'water_salinity': 34.622,\n",
       "                          'water_temperature': 17.4}}"
      ]
     },
     "execution_count": 4,
     "metadata": {},
     "output_type": "execute_result"
    }
   ],
   "source": [
    "b"
   ]
  },
  {
   "cell_type": "code",
   "execution_count": 5,
   "metadata": {},
   "outputs": [
    {
     "name": "stdout",
     "output_type": "stream",
     "text": [
      "Piston max volume set from max displacement\n"
     ]
    }
   ],
   "source": [
    "# init float\n",
    "f = fl.autonomous_float(model='Ifremer')\n",
    "f.init_piston()"
   ]
  },
  {
   "cell_type": "markdown",
   "metadata": {},
   "source": [
    "---\n",
    "\n",
    "### compute adjustments"
   ]
  },
  {
   "cell_type": "code",
   "execution_count": 18,
   "metadata": {},
   "outputs": [
    {
     "name": "stdout",
     "output_type": "stream",
     "text": [
      "According to balast ifremer-15/10/2019, you need add 43.3 g\n",
      "According to balast ifremer-15/10/2019, you need add 48.0 g\n"
     ]
    }
   ],
   "source": [
    "# use 1 point to compute mass adjustment\n",
    "# could think also about loading tsg data\n",
    "#b.compute_mass_adjustment(f, temperature=19.4, salinity=37.99, lon='5E23.634', lat='43N02.757')\n",
    "#b.compute_mass_adjustment(f, temperature=19.97, salinity=37.82, lon='5E26.758', lat='43N00.910')\n",
    "b.compute_mass_adjustment(f, temperature=19.824, salinity=37.85, lon='5E29.328', lat='43N00.390') # d0\n",
    "# with this last balast, the float was sinking at nbpulse_gpiston (14??). \n",
    "#    but with 20g off, it was floating.\n",
    "b.compute_mass_adjustment(f, temperature=18.643, salinity=38.021, lon='5E34.638', lat='42N53.959') # d1"
   ]
  },
  {
   "cell_type": "code",
   "execution_count": null,
   "metadata": {},
   "outputs": [],
   "source": [
    "# use water profile to compute mass adjustement\n",
    "w = fl.waterp(lon=6.,lat=40.) # Mediterranean sea\n",
    "print(w)\n",
    "b.compute_mass_adjustment(f, w)"
   ]
  },
  {
   "cell_type": "markdown",
   "metadata": {},
   "source": [
    "---\n",
    "\n",
    "# 2019/11: tests ifremer"
   ]
  },
  {
   "cell_type": "code",
   "execution_count": 1,
   "metadata": {},
   "outputs": [],
   "source": [
    "%matplotlib inline\n",
    "import matplotlib.pyplot as plt\n",
    "import numpy as np\n",
    "import gsw\n",
    "\n",
    "import cognac.float as fl"
   ]
  },
  {
   "cell_type": "code",
   "execution_count": 2,
   "metadata": {},
   "outputs": [],
   "source": [
    "bfile = '/Users/aponte/Current_projects/cognac/instrum/flotteur/tests/balast_201911.yaml'"
   ]
  },
  {
   "cell_type": "code",
   "execution_count": 3,
   "metadata": {},
   "outputs": [],
   "source": [
    "#\n",
    "b = fl.balast()"
   ]
  },
  {
   "cell_type": "code",
   "execution_count": 4,
   "metadata": {},
   "outputs": [
    {
     "name": "stdout",
     "output_type": "stream",
     "text": [
      "Practical salinity derived from conductivity: SP=33.67\n",
      "Balasting data stored in /Users/aponte/Current_projects/cognac/instrum/flotteur/tests/balast_201911.yaml\n"
     ]
    }
   ],
   "source": [
    "b.add_balast('ifremer-18/11/2019', mass_in_water=-121., mass_in_air=13413., \n",
    "             water_temperature=18.2706, water_conductivity=44.6036, \n",
    "             piston_displacement=0.)\n",
    "#\n",
    "b.store(bfile)"
   ]
  },
  {
   "cell_type": "code",
   "execution_count": 3,
   "metadata": {},
   "outputs": [
    {
     "name": "stdout",
     "output_type": "stream",
     "text": [
      "File /Users/aponte/Current_projects/cognac/instrum/flotteur/tests/balast_201911.yaml loaded\n"
     ]
    }
   ],
   "source": [
    "b = fl.balast(file=bfile)"
   ]
  },
  {
   "cell_type": "code",
   "execution_count": 4,
   "metadata": {},
   "outputs": [
    {
     "data": {
      "text/plain": [
       "{ 'ifremer-18/11/2019': { 'CT': 18.300396039190872,\n",
       "                          'SA': 33.83300763196808,\n",
       "                          'V': 0.01309608458116599,\n",
       "                          'comments': 'None',\n",
       "                          'mass_in_air': 13413.0,\n",
       "                          'mass_in_water': -121.0,\n",
       "                          'piston_displacement': 0.0,\n",
       "                          'rho_water': 1024.199249544385,\n",
       "                          'water_salinity': 33.672159073801225,\n",
       "                          'water_temperature': 18.2706}}"
      ]
     },
     "execution_count": 4,
     "metadata": {},
     "output_type": "execute_result"
    }
   ],
   "source": [
    "b"
   ]
  },
  {
   "cell_type": "code",
   "execution_count": 5,
   "metadata": {},
   "outputs": [
    {
     "name": "stdout",
     "output_type": "stream",
     "text": [
      "Piston max volume set from max displacement\n"
     ]
    }
   ],
   "source": [
    "# init float\n",
    "f = fl.autonomous_float(model='Ifremer')\n",
    "f.init_piston()"
   ]
  },
  {
   "cell_type": "code",
   "execution_count": 6,
   "metadata": {},
   "outputs": [
    {
     "name": "stdout",
     "output_type": "stream",
     "text": [
      "-- According to balast ifremer-18/11/2019, you need add 159.9 g\n",
      "(if the weight is external to the float, remember this must be the value in water)\n",
      "Independent mass correction (balast -mass_in_water): 121.0 [g]\n",
      "  Water change mass correction: 38.9 [g]\n",
      "    T contribution: 14.3 [g]\n",
      "    S contribution: 28.2 [g]\n",
      "  New/old in situ density: 1027.55, 1024.20  [kg/m^3] \n",
      "    difference: 3.4 [kg/m^3]\n",
      "  New/old float volume: 1.31e-02, 1.31e-02  [m^3] \n",
      "    difference: -4.8 [cm^3]\n"
     ]
    }
   ],
   "source": [
    "# use 1 point to compute mass adjustment\n",
    "b.compute_mass_adjustment(f, temperature=12.99, conductivity=42.5, \n",
    "                          lon=b.lon, lat=b.lat, verbose=True)"
   ]
  },
  {
   "cell_type": "markdown",
   "metadata": {},
   "source": [
    "**Observed behavior**:\n",
    "- with 117.5g (in water) the float does not sink even with the piston fully in (+30g approx)\n",
    "- with 128.5g (in water) the float is able to sink with the piston fully in (+30g approx)"
   ]
  },
  {
   "cell_type": "markdown",
   "metadata": {},
   "source": [
    "---\n",
    "## other interesting values"
   ]
  },
  {
   "cell_type": "code",
   "execution_count": 8,
   "metadata": {},
   "outputs": [
    {
     "data": {
      "text/plain": [
       "0.9460692"
      ]
     },
     "execution_count": 8,
     "metadata": {},
     "output_type": "execute_result"
    }
   ],
   "source": [
    "# change of mass in g after 1deg temperature change\n",
    "dT = 1.\n",
    "dv = f.alpha*f.m * dT\n",
    "dv*1e3 # g"
   ]
  },
  {
   "cell_type": "code",
   "execution_count": 9,
   "metadata": {},
   "outputs": [
    {
     "name": "stdout",
     "output_type": "stream",
     "text": [
      "Float thermal expansion = 6.98e-05\n",
      "Water: thermal expansion = 2.57e-04 and haline contraction = 7.33e-04\n",
      "1.0 deg change leads to a float equivalent mass change of 0.95 g\n",
      "1.0 deg change leads to an equivalent mass change of 3.48 g\n",
      "1.0 g/kg salinity change leads to an equivalent mass change of 9.93 g\n"
     ]
    }
   ],
   "source": [
    "print('Float thermal expansion = %1.2e' %(f.alpha))\n",
    "alpha, beta = w.get_alpha(-1.), w.get_beta(-1.)\n",
    "print('Water: thermal expansion = %1.2e and haline contraction =% 1.2e' %(alpha, beta))\n",
    "\n",
    "dT, dS = 1., 1.\n",
    "for name, _b in b._d.items():\n",
    "    print('%.1f deg float temperature change leads to an equivalent mass change of %.2f g' %(dT, f.alpha*f.m*dT*1e3))\n",
    "    print('%.1f deg water temperature change leads to an equivalent mass change of %.2f g' %(dT,alpha*f.m*dT*1e3))\n",
    "    print('%.1f g/kg salinity change leads to an equivalent mass change of %.2f g' %(dS,beta*f.m*dS*1e3))"
   ]
  },
  {
   "cell_type": "code",
   "execution_count": 10,
   "metadata": {},
   "outputs": [
    {
     "data": {
      "text/plain": [
       "20.15871648515188"
      ]
     },
     "execution_count": 10,
     "metadata": {},
     "output_type": "execute_result"
    }
   ],
   "source": [
    "# miscellaneous\n",
    "f.v*1e6 # volume out in cm3"
   ]
  },
  {
   "cell_type": "code",
   "execution_count": 11,
   "metadata": {},
   "outputs": [
    {
     "data": {
      "text/plain": [
       "Float parameters: \n",
       "  L     = 0.83 m      - float length\n",
       "  r     = 0.07 m      - float radius\n",
       "  m     = 13.55 kg     - float mass\n",
       "  V     = 1.32e+04 cm^3   - float volume\n",
       "  rho_cte = m/V = 9.13e+08 kg.cm^3   - float baseline density\n",
       "  gamma = 3.78e-06 /dbar  - mechanical compressibility\n",
       "  alpha = 6.98e-05 /degC  - thermal compressibility\n",
       "  temp0 = 0.00e+00  degC  - reference temperature\n",
       "  a = 1.00e+00  (no dimension)  - float added mass\n",
       "  c0 = 0.00e+00  (no dimension)  - float drag parameter 0\n",
       "  c1 = 1.00e+00  (no dimension)  - float drag parameter 1\n",
       "Piston parameters and state: \n",
       "  r     = 9.75 mm        - piston radius\n",
       "  phi   = 0.42 rad       - present angle of rotation\n",
       "  d     = 67.50 mm        - present piston displacement\n",
       "  vol   = 20.16 cm^3      - present volume addition\n",
       "  lead  = 100.00 cm        - screw lead\n",
       "  d_increment  = 0.00 m        - smallest variation of translation motion for the piston\n",
       "  vol_error  = 6.40e-08 m^3        - smallest variation of volume possible for the piston\n",
       "  phi_max = 56.55 deg     - maximum rotation\n",
       "  phi_min = 0.00 deg     - minimum rotation\n",
       "  d_max = 90.00 mm        - maximum piston displacement\n",
       "  d_min = 0.00 mm        - minimum piston displacement\n",
       "  vol_min = 0.00 cm^3    - min volume displaced\n",
       "  vol_max = 26.88 cm^3    - max volume displaced\n",
       "  omega_max = 1.74 deg/s - maximum rotation rate\n",
       "  omega_min = 0.08 deg/s - minimum rotation rate\n",
       "  efficiency = 0.10 - mechanical work produced / electrical work supplied"
      ]
     },
     "execution_count": 11,
     "metadata": {},
     "output_type": "execute_result"
    }
   ],
   "source": [
    "f"
   ]
  },
  {
   "cell_type": "code",
   "execution_count": null,
   "metadata": {},
   "outputs": [],
   "source": []
  },
  {
   "cell_type": "markdown",
   "metadata": {},
   "source": [
    "---\n",
    "\n",
    "### lead sheets weight in water / weight in air:"
   ]
  },
  {
   "cell_type": "code",
   "execution_count": 10,
   "metadata": {},
   "outputs": [
    {
     "name": "stdout",
     "output_type": "stream",
     "text": [
      "0.7317073170731707\n",
      "0.76\n",
      "0.7142857142857143\n"
     ]
    }
   ],
   "source": [
    "print(30/41)\n",
    "print(19/25)\n",
    "print(20/28)"
   ]
  },
  {
   "cell_type": "code",
   "execution_count": 12,
   "metadata": {},
   "outputs": [
    {
     "data": {
      "text/plain": [
       "10.95"
      ]
     },
     "execution_count": 12,
     "metadata": {},
     "output_type": "execute_result"
    }
   ],
   "source": [
    "15 * 0.73"
   ]
  },
  {
   "cell_type": "markdown",
   "metadata": {},
   "source": [
    "---\n",
    "\n",
    "https://webmail.ifremer.fr/?_task=mail&_mbox=BALISES_NOVATECH\n",
    "\n",
    "login:  planeurs\n",
    "\n",
    "pwd: caplane4\n",
    "\n",
    "https://cas.ifremer.fr/cas/login?service=http%3a%2f%2ftriagoz.ifremer.fr%2fLOPStrack\n",
    "\n",
    "login pwd intranet ifremer\n",
    "\n",
    "300434063369340\n",
    "\n",
    "300434063262410\n",
    "\n"
   ]
  }
 ],
 "metadata": {
  "kernelspec": {
   "display_name": "Python 3",
   "language": "python",
   "name": "python3"
  },
  "language_info": {
   "codemirror_mode": {
    "name": "ipython",
    "version": 3
   },
   "file_extension": ".py",
   "mimetype": "text/x-python",
   "name": "python",
   "nbconvert_exporter": "python",
   "pygments_lexer": "ipython3",
   "version": "3.6.7"
  }
 },
 "nbformat": 4,
 "nbformat_minor": 4
}

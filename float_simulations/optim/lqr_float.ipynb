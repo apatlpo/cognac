{
 "cells": [
  {
   "cell_type": "code",
   "execution_count": 1,
   "metadata": {},
   "outputs": [],
   "source": [
    "from autolib import *\n",
    "\n",
    "def draw_buoy(x):\n",
    "    clear(ax)\n",
    "    x=x.flatten()\n",
    "    plot([-10,10],[0,0],'black',linewidth=1)    \n",
    "    d=-x[0]\n",
    "    P=array([[-ech,-1.8*ech],[ech,-1.8*ech],[ech,0],[-ech,0]])\n",
    "    draw_polygon(ax,P,'blue')\n",
    "    plot([   0,   L,  L,  L/2,   L/2,   L/2,  0,  0],\n",
    "         [-L-d,-L-d, -d,   -d,   2-d,    -d, -d,-L-d],'black',linewidth=3)\n",
    "    plot([-ech, ech],[zbar,zbar],'red',linewidth=1)\n",
    "    b=-x[2]\n",
    "    P=array([[0,-L-d+L],[L,-L-d+L],[L,-L/2-L*b/2-d],[0,-L/2-L*b/2-d]])\n",
    "    draw_polygon(ax,P,'white')\n",
    "    \n",
    "def lqr(A,B,Q,R):\n",
    "    X = solve_continuous_are(A,B,Q,R)\n",
    "    K = inv(R)@(B.T@X)\n",
    "    return K\n",
    "\n",
    "def f(X,u):\n",
    "    return A@X+u*B"
   ]
  },
  {
   "cell_type": "code",
   "execution_count": null,
   "metadata": {},
   "outputs": [],
   "source": [
    "dt = 0.05\n",
    "kmax=200\n",
    "\n",
    "ech=5\n",
    "p1,p2,p3=0.1,1,2\n",
    "A=array([[0,1,0],[p1,-p2,p3],[0,0,0]])\n",
    "B=array([[0],[0],[1]])\n",
    "K=lqr(A,B,diag([1,1,0]),diag([1]))\n",
    "zbar=-5\n",
    "xbar=array([[zbar],[0],[-(p1/p3)*zbar]])\n",
    "x = array([[-2],[0],[0]])\n",
    "L=1\n",
    "ax=init_figure(-ech,ech,-1.8*ech,0.2*ech)\n",
    "\n",
    "U,Z=zeros(kmax),zeros(kmax)\n",
    "for k in range(0,kmax):\n",
    "    u = (-K @ (x-xbar))[0,0]\n",
    "    U[k]=u\n",
    "    Z[k]=x[0,0]\n",
    "    x=x+dt*f(x,u)\n",
    "    draw_buoy(x)\n",
    "pause(1)\n",
    "\n",
    "tmax=dt*kmax\n",
    "ax=init_figure(0,tmax,-5,5)\n",
    "T=arange(0,tmax,dt)\n",
    "plot(T, U, 'red')\n",
    "plot(T, Z, 'blue')\n",
    "pause(10)"
   ]
  },
  {
   "cell_type": "code",
   "execution_count": null,
   "metadata": {},
   "outputs": [],
   "source": []
  }
 ],
 "metadata": {
  "kernelspec": {
   "display_name": "Python 3",
   "language": "python",
   "name": "python3"
  },
  "language_info": {
   "codemirror_mode": {
    "name": "ipython",
    "version": 3
   },
   "file_extension": ".py",
   "mimetype": "text/x-python",
   "name": "python",
   "nbconvert_exporter": "python",
   "pygments_lexer": "ipython3",
   "version": "3.8.5"
  }
 },
 "nbformat": 4,
 "nbformat_minor": 4
}

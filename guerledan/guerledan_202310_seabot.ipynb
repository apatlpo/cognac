{
 "cells": [
  {
   "cell_type": "markdown",
   "id": "fae5db15-f69f-407b-82ea-7901fb9c0718",
   "metadata": {},
   "source": [
    "# Guerlédan 2023/10: seabot"
   ]
  },
  {
   "cell_type": "code",
   "execution_count": null,
   "id": "ddadbdee-1dea-4d2f-a3ac-88432bda5334",
   "metadata": {
    "tags": []
   },
   "outputs": [],
   "source": [
    "import os\n",
    "from glob import glob\n",
    "\n",
    "import xarray as xr\n",
    "import pandas as pd\n",
    "import numpy as np\n",
    "from scipy.signal import lfilter\n",
    "\n",
    "#%matplotlib inline\n",
    "import matplotlib.pyplot as plt\n",
    "import hvplot.pandas # noqa\n",
    "from cmocean import cm\n",
    "\n",
    "import pynsitu as pin"
   ]
  },
  {
   "cell_type": "code",
   "execution_count": null,
   "id": "c5fd677e-e3af-4cfa-b31c-77700b05e12f",
   "metadata": {
    "tags": []
   },
   "outputs": [],
   "source": [
    "root_path = \"/Users/aponte/Current_Projects/ensta/guerledan_202310/data_seabot\"\n",
    "\n",
    "data_files = sorted(glob(os.path.join(root_path, \"*.txt\")))\n",
    "data_files"
   ]
  },
  {
   "cell_type": "code",
   "execution_count": null,
   "id": "3b3491a1-012f-46a8-a38f-e1e85a23a393",
   "metadata": {
    "tags": []
   },
   "outputs": [],
   "source": [
    "def load_txt(file):\n",
    "    columns = [\n",
    "        \"time_posix\", \n",
    "        \"depth_raw\", \"velocity_raw\", \n",
    "        \"depth\", \"velocity\", \"temperature\", \"altitude\",\n",
    "    ]\n",
    "    df = pd.DataFrame(np.loadtxt(file).T, columns=columns)\n",
    "    df[\"time\"] = pd.to_datetime(df[\"time_posix\"], unit=\"s\")\n",
    "    df = df.set_index(\"time\")\n",
    "    df = df.resample(\"1s\").mean()\n",
    "    append_depth_filtered(df, 2.)\n",
    "    dt = (df.reset_index()[\"time\"].diff().bfill() / pd.Timedelta(\"1s\")).values\n",
    "    df[\"velocity_filtered\"] = df[\"depth_filtered\"].diff().bfill().values / dt\n",
    "    return df\n",
    "\n",
    "def append_depth_filtered(df, tau):\n",
    "    \"\"\" filter pressure, inplace \"\"\"\n",
    "    #dt, tau = 1, 2.5\n",
    "    dt = 1\n",
    "    alpha = dt/2/tau\n",
    "    b, a = [alpha], [1, -(1-alpha)]\n",
    "    df[\"depth_filtered\"] = lfilter(b, a, df.depth.bfill())\n",
    "\n",
    "# follows Thomas implementation\n",
    "#a[0]*y[n] = b[0]*x[n] + b[1]*x[n-1] + ... + b[M]*x[n-M]\n",
    "#                      - a[1]*y[n-1] - ... - a[N]*y[n-N]\n",
    "\n",
    "# T_(n+1) = T_(n) * (1-alpha) + mesure*(alpha)\n",
    "# alpha = 0.04\n"
   ]
  },
  {
   "cell_type": "code",
   "execution_count": null,
   "id": "36752bd2-8e00-4f7f-9a46-29baa8b2b067",
   "metadata": {
    "tags": []
   },
   "outputs": [],
   "source": [
    "DF = [load_txt(f) for f in data_files]  "
   ]
  },
  {
   "cell_type": "markdown",
   "id": "ce8377b5-34f0-4ffd-99b2-345b47b7430a",
   "metadata": {},
   "source": [
    "\n",
    "### overview of all dives"
   ]
  },
  {
   "cell_type": "code",
   "execution_count": null,
   "id": "f416b5e4-9fe1-4c2a-a296-a3bb76d8018f",
   "metadata": {
    "tags": []
   },
   "outputs": [],
   "source": [
    "colors = pin.get_cmap_colors(len(DF))\n",
    "\n",
    "def get_hv_plot(D, v, revert_yaxis=False):\n",
    "    \n",
    "    p = None\n",
    "    for df, c in zip(D, colors):\n",
    "        if p is None:\n",
    "            p = df[v].hvplot(color=c, grid=True)\n",
    "        else:\n",
    "            p = p * df[v].hvplot(color=c)\n",
    "    \n",
    "    if revert_yaxis:\n",
    "        p = p.opts(invert_yaxis=True)\n",
    "    \n",
    "    return p"
   ]
  },
  {
   "cell_type": "code",
   "execution_count": null,
   "id": "22b27efa-2ede-4801-b084-d96428036702",
   "metadata": {
    "tags": []
   },
   "outputs": [],
   "source": [
    "fig, ax = plt.subplots(1,1, figsize=(15,4))\n",
    "for df, c in zip(DF, colors):\n",
    "    ax.plot(df.index, -df.depth, color=c)\n",
    "ax.grid()"
   ]
  },
  {
   "cell_type": "code",
   "execution_count": null,
   "id": "baa2e38f-0e67-4e3b-a390-2d65e26a5a80",
   "metadata": {
    "tags": []
   },
   "outputs": [],
   "source": [
    "get_hv_plot(DF, \"depth\", revert_yaxis=True)"
   ]
  },
  {
   "cell_type": "code",
   "execution_count": null,
   "id": "1b2b536e-0ed5-4efd-bc60-30f84847f9c8",
   "metadata": {
    "tags": []
   },
   "outputs": [],
   "source": [
    "# manually search for core deployment time periods\n",
    "df = DF[9]\n",
    "(df[\"depth\"].hvplot(grid=True)+df[\"velocity\"].hvplot(grid=True)).cols(1)"
   ]
  },
  {
   "cell_type": "code",
   "execution_count": null,
   "id": "c31271bf-ba3b-4154-8b19-93d2d7cfc9af",
   "metadata": {
    "tags": []
   },
   "outputs": [],
   "source": [
    "# keep only isotherm following part\n",
    "S = [\n",
    "    slice(\"2023/10/10 20:36:00\",\"2023/10/11 07:00:00\"),\n",
    "    slice(\"2023/10/10 20:49:00\",\"2023/10/11 07:00:00\"),\n",
    "    slice(\"2023/10/10 20:50:00\",\"2023/10/11 07:00:00\"),\n",
    "    slice(\"2023/10/10 20:45:00\",\"2023/10/11 07:00:00\"),\n",
    "    slice(\"2023/10/10 20:45:01\",\"2023/10/11 06:33:32\"),\n",
    "    #\n",
    "    slice(\"2023/10/11 10:30:00\",\"2023/10/11 16:14:00\"),\n",
    "    slice(\"2023/10/11 10:25:00\",\"2023/10/11 16:15:00\"),\n",
    "    slice(\"2023/10/11 10:45:00\",\"2023/10/11 16:15:00\"),\n",
    "    #\n",
    "    slice(\"2023/10/12 12:46:00\",\"2023/10/13 07:40:00\"),    \n",
    "    slice(\"2023/10/12 19:32:00\",\"2023/10/13 07:43:40\"),    \n",
    "    slice(\"2023/10/12 12:46:40\",\"2023/10/13 07:40:00\"),    \n",
    "    slice(\"2023/10/12 19:22:00\",\"2023/10/13 09:08:40\"),    \n",
    "]\n",
    "DT = [df.loc[s] for df, s in zip(DF, S)]"
   ]
  },
  {
   "cell_type": "code",
   "execution_count": null,
   "id": "d95ca5b8-7128-4408-b8ed-6fab385c5d58",
   "metadata": {
    "tags": []
   },
   "outputs": [],
   "source": [
    "(get_hv_plot(DT, \"depth\", revert_yaxis=True) + get_hv_plot(DT, \"temperature\")).cols(1)"
   ]
  },
  {
   "cell_type": "code",
   "execution_count": null,
   "id": "ce0edd55-7cbb-44ee-b6d6-45ab1b455c4b",
   "metadata": {
    "tags": []
   },
   "outputs": [],
   "source": [
    "# isotherm following missions\n",
    "iso_T = [0, 1, 2, 3, 4, 5, 6, 7, 8, 10]\n",
    "\n",
    "(get_hv_plot([DT[i] for i in iso_T], \"depth\", revert_yaxis=True) \n",
    " + get_hv_plot([DT[i] for i in iso_T], \"temperature\")\n",
    ").cols(1)"
   ]
  },
  {
   "cell_type": "markdown",
   "id": "2d4947a0-3818-4aea-aaff-5490a57a7b3f",
   "metadata": {
    "tags": []
   },
   "source": [
    "---\n",
    "\n",
    "## temperature delay\n",
    "\n",
    "#### 1. simple offset on temperature: \n",
    "\n",
    "Seems to work within the water column but not at deepest levels nor at the surface"
   ]
  },
  {
   "cell_type": "code",
   "execution_count": null,
   "id": "50935a65-e5a3-404b-abec-c706c2257e49",
   "metadata": {
    "tags": []
   },
   "outputs": [],
   "source": [
    "df = DF[0]\n",
    "\n",
    "fig, ax = plt.subplots(1,1)\n",
    "\n",
    "delays = [\"0s\", \"-2s\", \"-4s\"]\n",
    "_colors = pin.get_cmap_colors(len(delays))\n",
    "\n",
    "for delay, c in zip(delays, _colors):\n",
    "    _df = df.copy()\n",
    "    _df[\"temperature\"] = _df[\"temperature\"].shift(freq=delay) # avance\n",
    "    #_df.plot.scatter(\"temperature\",\"depth\", s=1, c=c, ax=ax, label=delay)\n",
    "    ax.plot(_df.temperature, _df.depth, color=c, label=delay)\n",
    "\n",
    "ax.invert_yaxis()\n",
    "ax.grid()\n",
    "ax.legend()"
   ]
  },
  {
   "cell_type": "markdown",
   "id": "0ec43526-a981-4d0c-8791-3cc6ef4d7e31",
   "metadata": {},
   "source": [
    "#### 2. low-pass filter depth instead\n",
    "\n",
    "seems to behave similarly, 2s seconds seems a reasonable choice"
   ]
  },
  {
   "cell_type": "code",
   "execution_count": null,
   "id": "3bf0c221-e1b2-41fb-bdc0-2ea026077071",
   "metadata": {
    "tags": []
   },
   "outputs": [],
   "source": [
    "df = DF[0]\n",
    "\n",
    "fig, ax = plt.subplots(1,1)\n",
    "\n",
    "taus = [2, 3, 4]\n",
    "_colors = pin.get_cmap_colors(len(taus))\n",
    "\n",
    "for tau, c in zip(taus, _colors):\n",
    "    _df = df.copy()\n",
    "    append_depth_filtered(_df, tau)\n",
    "    ax.plot(_df.temperature, _df.depth_filtered, label=f\"tau={tau}\")\n",
    "\n",
    "ax.invert_yaxis()\n",
    "ax.grid()\n",
    "ax.legend()"
   ]
  },
  {
   "cell_type": "markdown",
   "id": "7629f365-13f3-403c-9c58-e860ac9621b5",
   "metadata": {},
   "source": [
    "---\n",
    "\n",
    "## isotherm following missions"
   ]
  },
  {
   "cell_type": "code",
   "execution_count": null,
   "id": "007f5f57-9d6f-4735-9544-ef0a83a8c0cd",
   "metadata": {
    "tags": []
   },
   "outputs": [],
   "source": [
    "for i in iso_T:\n",
    "    \n",
    "    df = DT[i]\n",
    "    \n",
    "    #df[\"depth_anomaly\"] = df[\"depth\"] - df[\"depth\"].mean()\n",
    "    df[\"depth_anomaly\"] = df[\"depth_filtered\"] - df[\"depth_filtered\"].mean()\n",
    "    df[\"temperature_anomaly\"] = df[\"temperature\"] - df[\"temperature\"].mean()\n",
    "\n",
    "    dTdz = 1.2 # degC/m\n",
    "    df[\"isotherm_displacement\"] = df[\"temperature_anomaly\"]/dTdz + df[\"depth_anomaly\"]\n",
    "    # we compensate for the float vertical displacement\n",
    "    \n",
    "    #df[\"temperature_rate_of_change\"] =  (df[\"temperature\"].diff()).bfill()\n",
    "\n",
    "    # compute estimated\n",
    "    #df[\"velocity_water\"] = -df[\"temperature_rate_of_change\"]/dTdz - df[\"velocity\"]    \n",
    "    dt = (df.reset_index()[\"time\"].diff().bfill() / pd.Timedelta(\"1s\")).values\n",
    "    df[\"velocity_water\"] = df[\"isotherm_displacement\"].diff().bfill().values / dt"
   ]
  },
  {
   "cell_type": "markdown",
   "id": "f3bc20de-c70c-44c6-a8f7-b05df32439ec",
   "metadata": {},
   "source": [
    "### global metrics of regulation"
   ]
  },
  {
   "cell_type": "code",
   "execution_count": null,
   "id": "5102e622-51ad-4b1a-aa17-d75dc8e8aca8",
   "metadata": {
    "tags": []
   },
   "outputs": [],
   "source": [
    "bins = np.arange(13.8, 14.2, .005)\n",
    "\n",
    "fig, axes = plt.subplots(5,2, figsize=(7,7), sharex=True, sharey=True)\n",
    "\n",
    "_i = 0\n",
    "for i in iso_T:\n",
    "    ax = axes.flatten()[_i]\n",
    "    df = DT[i]\n",
    "    df[\"temperature\"].plot.hist(\n",
    "        ax=ax, bins=bins, density=True, \n",
    "        color=colors[i], \n",
    "        label=f\"{i} - \"+df.index[0].strftime(\"%Y/%m/%d %H:%M\"),\n",
    "    )\n",
    "    _i+=1\n",
    "    ax.grid()\n",
    "    ax.legend()"
   ]
  },
  {
   "cell_type": "code",
   "execution_count": null,
   "id": "08fcb4fc-e10e-4215-953e-fb545ac06f9a",
   "metadata": {
    "tags": []
   },
   "outputs": [],
   "source": [
    "ds_mean = xr.concat([df.mean().to_frame().T.to_xarray() for df in DT], dim=\"deployment\").squeeze()\n",
    "ds_std = xr.concat([df.std().to_frame().T.to_xarray() for df in DT], dim=\"deployment\").squeeze()"
   ]
  },
  {
   "cell_type": "markdown",
   "id": "d0a34e5d-64d8-4518-850f-feb51dc24bbf",
   "metadata": {},
   "source": [
    "#### temperature std during regulation\n",
    "\n",
    "not bad ... 😁\n",
    "\n",
    "We must be close to instrument relative accuracy"
   ]
  },
  {
   "cell_type": "code",
   "execution_count": null,
   "id": "1f9d25bc-7a60-45e7-971a-fc651aa94553",
   "metadata": {
    "tags": []
   },
   "outputs": [],
   "source": [
    "print(ds_std[\"temperature_anomaly\"].isel(deployment=iso_T).values)"
   ]
  },
  {
   "cell_type": "markdown",
   "id": "8d0a8971-c2ae-46c7-bff9-7cd416260507",
   "metadata": {},
   "source": [
    "The approximate stratification is of about 1.2 degC/m (see diagnostics below).\n",
    "This enables to diagnose an equivalent vertical displacement:"
   ]
  },
  {
   "cell_type": "code",
   "execution_count": null,
   "id": "89279f9e-8746-458c-9ec1-e691b9b02583",
   "metadata": {
    "tags": []
   },
   "outputs": [],
   "source": [
    "print(ds_std[\"temperature_anomaly\"].isel(deployment=iso_T).values /dTdz)"
   ]
  },
  {
   "cell_type": "markdown",
   "id": "a6b2fd99-7ae5-4a83-95e2-32cff1914547",
   "metadata": {},
   "source": [
    "2-3 cm is less that the vertical displacement (see next diagnostics) which confirms that depth variations do indeed reflect isotherm displacements"
   ]
  },
  {
   "cell_type": "markdown",
   "id": "8957d3d2-0eb9-4670-b2c4-6fab8434b667",
   "metadata": {
    "tags": []
   },
   "source": [
    "#### depth std during regulation\n",
    "\n",
    "This translates isotherm typical displacement amplitude.\n",
    "\n",
    "The largest amplitude for last two deployments indicates the larger variability in the lake during the last deployment"
   ]
  },
  {
   "cell_type": "code",
   "execution_count": null,
   "id": "b703d3dc-ac04-4ed4-a5dc-9b7d0ec4b3c0",
   "metadata": {
    "tags": []
   },
   "outputs": [],
   "source": [
    "print(ds_std[\"depth_anomaly\"].isel(deployment=iso_T).values)"
   ]
  },
  {
   "cell_type": "markdown",
   "id": "3822556e-b9e9-4346-a505-a060d7ba7d38",
   "metadata": {},
   "source": [
    "### isotherm displacement"
   ]
  },
  {
   "cell_type": "code",
   "execution_count": null,
   "id": "6c96b60e-d5bb-41ee-896d-4d91549c6b98",
   "metadata": {},
   "outputs": [],
   "source": [
    "df = DT[4] \n",
    "\n",
    "# show mean depth, temperature for this deployment\n",
    "df[\"depth\"].mean(), df[\"temperature\"].mean()"
   ]
  },
  {
   "cell_type": "code",
   "execution_count": null,
   "id": "4f1833af-daa2-4e2c-b4db-58d315e8a5ac",
   "metadata": {
    "tags": []
   },
   "outputs": [],
   "source": [
    "(\n",
    "    df[\"depth_anomaly\"].hvplot(grid=True) \n",
    "    * df[\"isotherm_displacement\"].hvplot() \n",
    "    *  (df[\"temperature_anomaly\"]/dTdz).rename(\"T'/ (dT/dz)\").hvplot()\n",
    ")"
   ]
  },
  {
   "cell_type": "markdown",
   "id": "690de698-3074-41cb-b86b-30f26bc28fcd",
   "metadata": {},
   "source": [
    "The float is able to follow low-frequency (> minutes) fluctuations but not higher temperature fluctuations.\n",
    "This limit may be related to the regulation response parameters (relaxation feedback constants).\n",
    "\n",
    "Because of the temperature sensor, we can in theory compensate for this inability to follow isotherm.\n",
    "This should thus be non-blocking for oceanographic applications"
   ]
  },
  {
   "cell_type": "code",
   "execution_count": null,
   "id": "b7907c35-aca4-466a-a363-e7191c560c21",
   "metadata": {
    "tags": []
   },
   "outputs": [],
   "source": [
    "(\n",
    "    df[\"velocity_filtered\"].hvplot(grid=True) \n",
    "    * df[\"velocity_water\"].hvplot()\n",
    ")"
   ]
  },
  {
   "cell_type": "markdown",
   "id": "05344535-d533-4222-8de9-0d1e1cf28d38",
   "metadata": {},
   "source": [
    "### compute spectra"
   ]
  },
  {
   "cell_type": "code",
   "execution_count": null,
   "id": "bb0fbe82-e4d1-4e2e-b22f-a5cfd81af528",
   "metadata": {
    "tags": []
   },
   "outputs": [],
   "source": [
    "E = df.ts.spectrum(unit=\"1s\", nperseg=\"1H\").to_xarray()"
   ]
  },
  {
   "cell_type": "code",
   "execution_count": null,
   "id": "03e930ac-b650-4fd2-99b7-66a23352e9aa",
   "metadata": {
    "tags": []
   },
   "outputs": [],
   "source": [
    "E = E.where(E.frequency>0, drop=True)\n",
    "\n",
    "fig, ax = plt.subplots(1,1)\n",
    "\n",
    "E[\"depth_anomaly\"].plot(ax=ax, label=\"float displacement\")\n",
    "E[\"isotherm_displacement\"].plot(ax=ax, label=\"isotherm displacement\")\n",
    "\n",
    "# buoyancy frequency\n",
    "N = np.sqrt( 9.81 * 2e-4 * dTdz )\n",
    "print(f\"Buoyancy period = {2*np.pi/N/60:.1f} min\")\n",
    "ax.axvline(N/2/np.pi, color=\"k\", ls=\"--\")\n",
    "\n",
    "ax.set_xscale(\"log\")\n",
    "ax.set_yscale(\"log\")\n",
    "\n",
    "ax.legend()"
   ]
  },
  {
   "cell_type": "markdown",
   "id": "7ea5cdb8-9930-4ad1-82bb-944872843058",
   "metadata": {},
   "source": [
    "---\n",
    "\n",
    "## thermocline scanning experiment"
   ]
  },
  {
   "cell_type": "code",
   "execution_count": null,
   "id": "848cdbd9-b371-4340-bd46-1708ce7a5676",
   "metadata": {
    "tags": []
   },
   "outputs": [],
   "source": [
    "def plot_scatter(df):\n",
    "\n",
    "    fig, ax = plt.subplots(1,1, figsize=(10, 5))\n",
    "\n",
    "    _df = df.reset_index()\n",
    "    _df = _df.loc[_df.velocity>0] # downward profiles\n",
    "\n",
    "    _df.plot.scatter(\"time\", \"depth_filtered\", c=\"temperature\", s=8, ax=ax, cmap=cm.thermal)\n",
    "    ax.grid()\n",
    "\n",
    "    ax.invert_yaxis()\n",
    "\n",
    "#"
   ]
  },
  {
   "cell_type": "code",
   "execution_count": null,
   "id": "8d7a61ee-64c1-48e2-8a57-dbbd13ca180a",
   "metadata": {
    "tags": []
   },
   "outputs": [],
   "source": [
    "plot_scatter(DT[9])\n",
    "plot_scatter(DT[11])"
   ]
  },
  {
   "cell_type": "code",
   "execution_count": null,
   "id": "d48e88fe-48fe-4d54-99b3-614464e2398f",
   "metadata": {
    "tags": []
   },
   "outputs": [],
   "source": [
    "# with hvplot\n",
    "\n",
    "#df = DT[9]\n",
    "#df = df.reset_index()\n",
    "#df = df.loc[df.velocity>0] # select downward profiles\n",
    "\n",
    "#_df.hvplot.scatter(\"time\", \"depth\", c=\"temperature\", s=10, ax=ax, cmap=cm.thermal).opts(invert_yaxis=True)"
   ]
  },
  {
   "cell_type": "markdown",
   "id": "993eb428-0eb0-4160-82d9-668f1d14674c",
   "metadata": {},
   "source": [
    "#### depth-time bin average"
   ]
  },
  {
   "cell_type": "code",
   "execution_count": null,
   "id": "8a3524c0-02ad-45e0-b698-ee4f5ce45fe8",
   "metadata": {
    "tags": []
   },
   "outputs": [],
   "source": [
    "def depth_time_bin_average(df, dz=.1, freq=\"10T\", ascent=False):\n",
    "\n",
    "    df = df.reset_index()\n",
    "    if ascent is None:\n",
    "        pass\n",
    "    elif ascent:\n",
    "        df = df.loc[df.velocity<0] # select downward profiles\n",
    "    else:\n",
    "        df = df.loc[df.velocity>0] # select downward profiles\n",
    "        \n",
    "\n",
    "    dbins = np.arange(15, 20.5, dz)\n",
    "    tbins = pd.date_range(df.time.iloc[0], df.time.iloc[-1], freq=freq)\n",
    "\n",
    "    #df[\"depth_cut\"] = pd.cut(df[\"depth\"], dbins)\n",
    "    df[\"depth_cut\"] = pd.cut(df[\"depth_filtered\"], dbins)\n",
    "    df[\"time_cut\"] = pd.cut(df[\"time\"], tbins)\n",
    "\n",
    "\n",
    "    dfb = df.groupby([\"depth_cut\", \"time_cut\"]).mean().reset_index()\n",
    "\n",
    "    dfb[\"depth\"] = dfb[\"depth_cut\"].apply(lambda i: i.left)\n",
    "    dfb[\"time\"] = dfb[\"time_cut\"].apply(lambda i: i.left)\n",
    "\n",
    "    ds = dfb.set_index([\"depth\", \"time\",]).to_xarray()\n",
    "\n",
    "    return ds\n",
    "\n",
    "\n",
    "def bin_plot(df, **kwargs):\n",
    "\n",
    "    ds = depth_time_bin_average(df, **kwargs)\n",
    "\n",
    "    fig, ax = plt.subplots(1,1)\n",
    "\n",
    "    #DT[8][\"depth\"].plot(ax=ax, color=\"k\")\n",
    "    #DT[10][\"depth\"].plot(ax=ax, color=\"0.3\")\n",
    "    DT[8][\"depth_filtered\"].plot(ax=ax, color=\"k\")\n",
    "    DT[10][\"depth_filtered\"].plot(ax=ax, color=\"0.3\")\n",
    "\n",
    "    ds[\"temperature\"].plot(ax=ax, cmap=cm.thermal)\n",
    "    ds[\"temperature\"].plot.contour(ax=ax, levels=[12, 14, 16], colors=\"w\")\n",
    "\n",
    "    ax.invert_yaxis()\n",
    "    ax.grid()"
   ]
  },
  {
   "cell_type": "code",
   "execution_count": null,
   "id": "45e5bc50-1d3a-473e-b5a9-bf432897118a",
   "metadata": {
    "tags": []
   },
   "outputs": [],
   "source": [
    "bin_plot(DT[9], ascent=None)\n",
    "bin_plot(DT[9], ascent=True)\n",
    "bin_plot(DT[9], ascent=False)"
   ]
  },
  {
   "cell_type": "code",
   "execution_count": null,
   "id": "7ddbb80c-b4d9-4927-929e-d46fedf31e1d",
   "metadata": {
    "tags": []
   },
   "outputs": [],
   "source": [
    "bin_plot(DT[11])"
   ]
  },
  {
   "cell_type": "code",
   "execution_count": null,
   "id": "5b9994de-8ea6-4184-b6e2-464770365919",
   "metadata": {},
   "outputs": [],
   "source": []
  },
  {
   "cell_type": "code",
   "execution_count": null,
   "id": "8393a314-3f56-4de2-b845-c8cc567d0d1a",
   "metadata": {},
   "outputs": [],
   "source": []
  },
  {
   "cell_type": "markdown",
   "id": "bdebccd4-0b85-4401-a7c9-6fa6fb2dbff7",
   "metadata": {
    "jp-MarkdownHeadingCollapsed": true,
    "tags": []
   },
   "source": [
    "### archived material ..."
   ]
  },
  {
   "cell_type": "code",
   "execution_count": null,
   "id": "d02b3f4a-3096-45aa-932e-dbd6cd0ba13f",
   "metadata": {
    "tags": []
   },
   "outputs": [],
   "source": [
    "df = DT[9]\n",
    "\n",
    "_df = df.reset_index()\n",
    "_df[\"mask\"] = 0.\n",
    "_df[\"mask\"].where(_df.velocity>0, other=1., inplace=True)\n",
    "\n",
    "_df[\"mask_cumsum\"] = _df[\"mask\"].cumsum()\n",
    "\n",
    "_df[\"mask_cumsum\"].hvplot()"
   ]
  },
  {
   "cell_type": "code",
   "execution_count": null,
   "id": "ef8087ea-1c1f-4ad2-8b01-e6806cc47ed5",
   "metadata": {
    "tags": []
   },
   "outputs": [],
   "source": [
    "df = DT[9]\n",
    "\n",
    "_df = df.reset_index()\n",
    "\n",
    "_df = _df.loc[_df.velocity>0] # downward profiles\n",
    "\n",
    "dt = _df[\"time\"].diff()/pd.Timedelta(\"1T\")\n",
    "print(\"Time intervals in minutes:\")\n",
    "print(np.unique(dt))\n",
    "\n",
    "#(_df[\"time\"].diff()/pd.Timedelta(\"1s\")).plot.hist(bins=np.arange(0,10,1), log=True) #.plot()"
   ]
  },
  {
   "cell_type": "code",
   "execution_count": null,
   "id": "26d2ecb9-1a95-4b80-8c67-c49cc39f498f",
   "metadata": {
    "tags": []
   },
   "outputs": [],
   "source": [
    "_df = df.reset_index()\n",
    "\n",
    "_df = _df.loc[_df.velocity>0] # downward profiles\n",
    "_dt = _df[\"time\"].diff()/pd.Timedelta(\"1T\")\n",
    "bottom = _df.loc[_dt>1]\n",
    "\n",
    "_df = df.reset_index()\n",
    "_df = _df.loc[_df.velocity<0] # downward profiles\n",
    "_dt = _df[\"time\"].diff()/pd.Timedelta(\"1T\")\n",
    "top = _df.loc[_dt>1]"
   ]
  },
  {
   "cell_type": "code",
   "execution_count": null,
   "id": "8bdda901-09fa-408c-9136-6350bc0ea679",
   "metadata": {
    "tags": []
   },
   "outputs": [],
   "source": [
    "(df.reset_index()[\"depth\"].hvplot()\n",
    " * bottom[\"depth\"].hvplot() \n",
    " * top[\"depth\"].hvplot() \n",
    ")"
   ]
  },
  {
   "cell_type": "markdown",
   "id": "cbdfd900-ce34-4e69-b541-9f1502ca7227",
   "metadata": {
    "tags": []
   },
   "source": [
    "---\n",
    "## compute vertical stratification"
   ]
  },
  {
   "cell_type": "code",
   "execution_count": null,
   "id": "fd98942a-e61b-4ea9-a152-bbe565242feb",
   "metadata": {},
   "outputs": [],
   "source": [
    "df = DF[0]"
   ]
  },
  {
   "cell_type": "code",
   "execution_count": null,
   "id": "5b21bee7-809f-460a-832e-05f7ccef7686",
   "metadata": {
    "tags": []
   },
   "outputs": [],
   "source": [
    "dz = .25\n",
    "depth_bins = np.arange(0,df[\"depth\"].max(), dz)"
   ]
  },
  {
   "cell_type": "code",
   "execution_count": null,
   "id": "19a7a960-657f-4298-9012-bb3432897387",
   "metadata": {
    "tags": []
   },
   "outputs": [],
   "source": [
    "df[\"depth_cut\"] = pd.cut(df.depth, depth_bins)"
   ]
  },
  {
   "cell_type": "code",
   "execution_count": null,
   "id": "eaf22e3f-3d01-48e1-877a-49f113bf2742",
   "metadata": {
    "tags": []
   },
   "outputs": [],
   "source": [
    "df_bin = df.groupby(df.depth_cut).mean().set_index(\"depth\")"
   ]
  },
  {
   "cell_type": "code",
   "execution_count": null,
   "id": "4cef1cda-7b93-4265-a796-ce9055ecdf38",
   "metadata": {
    "tags": []
   },
   "outputs": [],
   "source": [
    "fig, ax = plt.subplots(1,1)\n",
    "ax.scatter(df.temperature, -df.depth, s=.1)\n",
    "ax.plot(df_bin[\"temperature\"], -df_bin.index, color=\"k\", lw=2)\n",
    "ax.grid()"
   ]
  },
  {
   "cell_type": "code",
   "execution_count": null,
   "id": "a2b3e8cd-8c49-4bb7-8632-bbb0cd73f060",
   "metadata": {
    "tags": []
   },
   "outputs": [],
   "source": [
    "(17-14)/(17.5-15)"
   ]
  },
  {
   "cell_type": "code",
   "execution_count": null,
   "id": "58994006-5444-41b7-ba9a-e821d63120e8",
   "metadata": {
    "tags": []
   },
   "outputs": [],
   "source": [
    "(df_bin[\"temperature\"].diff()/dz).plot()"
   ]
  },
  {
   "cell_type": "code",
   "execution_count": null,
   "id": "d41249c8-3817-4460-b626-fb1aadf1fd32",
   "metadata": {},
   "outputs": [],
   "source": []
  },
  {
   "cell_type": "code",
   "execution_count": null,
   "id": "796cd755-1f0e-4ea7-8aed-10514f44b111",
   "metadata": {},
   "outputs": [],
   "source": []
  }
 ],
 "metadata": {
  "kernelspec": {
   "display_name": "Python 3 (ipykernel)",
   "language": "python",
   "name": "python3"
  },
  "language_info": {
   "codemirror_mode": {
    "name": "ipython",
    "version": 3
   },
   "file_extension": ".py",
   "mimetype": "text/x-python",
   "name": "python",
   "nbconvert_exporter": "python",
   "pygments_lexer": "ipython3",
   "version": "3.10.11"
  }
 },
 "nbformat": 4,
 "nbformat_minor": 5
}

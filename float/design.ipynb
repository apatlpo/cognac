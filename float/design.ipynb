{
 "cells": [
  {
   "cell_type": "markdown",
   "metadata": {},
   "source": [
    "# float design\n",
    "\n",
    "List parameters and relations\n",
    "\n",
    "References:\n",
    "\n",
    "- [hw panel](https://panel.holoviz.org/reference/panes/HoloViews.html#panes-gallery-holoviews)\n",
    "- [nyc panel](https://github.com/pyviz-demos/nyc_taxi/blob/master/nyc_taxi.ipynb)"
   ]
  },
  {
   "cell_type": "code",
   "execution_count": null,
   "metadata": {},
   "outputs": [],
   "source": [
    "day2sec = 86400\n",
    "\n",
    "mission = {'Dm': {'min':100., 'max': 1000., 'name': 'max depth'},\n",
    "           'Tm': {'min':1.*day2sec, 'max': 30.*day2sec, 'name': 'deployment time'},\n",
    "           'drhow': {'min':1., 'max': 10., 'name': 'delta rho'},\n",
    "          }\n",
    "body = {'l': {'min':.1, 'max': 2., 'name': 'float length'},\n",
    "        'a': {'min':0.05, 'max': 1., 'name': 'float radius'},\n",
    "        'e': {'min':.001, 'max': .1, 'name': 'float thickness'},\n",
    "        'rho': {'min':2700., 'max': 28000., 'name': 'float material density'},\n",
    "       }\n",
    "\n",
    "piston = {'lp': {'min':.01, 'max': 2., 'name': 'piston length'},\n",
    "          'ap': {'min':0.01, 'max': .3, 'name': 'piston radius'},\n",
    "          'rhop': {'min':1000., 'max': 1001., 'name': 'piston material density'},\n",
    "          'rhop': {'min':1000., 'max': 1001., 'name': 'piston material density'},\n",
    "         }\n",
    "\n",
    "...\n",
    "\n"
   ]
  },
  {
   "cell_type": "code",
   "execution_count": null,
   "metadata": {},
   "outputs": [],
   "source": []
  },
  {
   "cell_type": "code",
   "execution_count": null,
   "metadata": {},
   "outputs": [],
   "source": []
  }
 ],
 "metadata": {
  "kernelspec": {
   "display_name": "Python 3",
   "language": "python",
   "name": "python3"
  },
  "language_info": {
   "codemirror_mode": {
    "name": "ipython",
    "version": 3
   },
   "file_extension": ".py",
   "mimetype": "text/x-python",
   "name": "python",
   "nbconvert_exporter": "python",
   "pygments_lexer": "ipython3",
   "version": "3.6.10"
  }
 },
 "nbformat": 4,
 "nbformat_minor": 4
}

{
 "cells": [
  {
   "cell_type": "code",
   "execution_count": 1,
   "metadata": {},
   "outputs": [],
   "source": [
    "%matplotlib inline\n",
    "import matplotlib.pyplot as plt\n",
    "import numpy as np\n",
    "import gsw\n",
    "\n",
    "import cognac.ufloat as fl"
   ]
  },
  {
   "cell_type": "markdown",
   "metadata": {},
   "source": [
    "---\n",
    "\n",
    "## 09/2020 balastage cuve acoustique"
   ]
  },
  {
   "cell_type": "code",
   "execution_count": 2,
   "metadata": {},
   "outputs": [],
   "source": [
    "root_path = '/Users/aponte/Current_projects/cognac/tests/202011_ifremer/'\n",
    "\n",
    "# to turn\n",
    "store = False"
   ]
  },
  {
   "cell_type": "markdown",
   "metadata": {},
   "source": [
    "### v1"
   ]
  },
  {
   "cell_type": "code",
   "execution_count": 3,
   "metadata": {},
   "outputs": [
    {
     "name": "stdout",
     "output_type": "stream",
     "text": [
      "File /Users/aponte/Current_projects/cognac/tests/202011_ifremer/balast_v1.yaml loaded\n"
     ]
    }
   ],
   "source": [
    "bfile = root_path+'balast_v1.yaml'\n",
    "\n",
    "b = fl.balast()\n",
    "\n",
    "# ipressure = 640, batteries = 11.14\n",
    "b.add_balast('cuve_acoustique-02/11/2020', \n",
    "             mass_in_water=421.6,\n",
    "             mass_in_air=13633.8, \n",
    "             water_temperature=20.8,\n",
    "             water_salinity=0.5,\n",
    "             piston_displacement='max',\n",
    "            )\n",
    "#\n",
    "if store:\n",
    "    b.store(bfile)\n",
    "    \n",
    "# reload\n",
    "b1 = fl.balast(bfile)"
   ]
  },
  {
   "cell_type": "markdown",
   "metadata": {},
   "source": [
    "### v2"
   ]
  },
  {
   "cell_type": "code",
   "execution_count": 4,
   "metadata": {},
   "outputs": [
    {
     "name": "stdout",
     "output_type": "stream",
     "text": [
      "File /Users/aponte/Current_projects/cognac/tests/202011_ifremer/balast_v2.yaml loaded\n"
     ]
    }
   ],
   "source": [
    "bfile = root_path+'balast_v2.yaml'\n",
    "\n",
    "b = fl.balast()\n",
    "\n",
    "# ipressure = 640, batteries = 11.14\n",
    "b.add_balast('cuve_acoustique-02/11/2020', \n",
    "             mass_in_water=435.8,\n",
    "             mass_in_air=13729, \n",
    "             water_temperature=20.8,\n",
    "             water_salinity=0.5,\n",
    "             piston_displacement='max',\n",
    "            )\n",
    "#\n",
    "if store:\n",
    "    b.store(bfile)\n",
    "    \n",
    "# reload\n",
    "b2 = fl.balast(bfile)"
   ]
  },
  {
   "cell_type": "markdown",
   "metadata": {},
   "source": [
    "---\n",
    "\n",
    "## compute mass adjustments\n"
   ]
  },
  {
   "cell_type": "code",
   "execution_count": 5,
   "metadata": {},
   "outputs": [
    {
     "name": "stdout",
     "output_type": "stream",
     "text": [
      "Piston max volume set from max displacement\n"
     ]
    }
   ],
   "source": [
    "# init float\n",
    "f = fl.autonomous_float(model='Ifremer')\n",
    "f.init_piston()"
   ]
  },
  {
   "cell_type": "code",
   "execution_count": 11,
   "metadata": {},
   "outputs": [
    {
     "name": "stdout",
     "output_type": "stream",
     "text": [
      "New in situ density: 1027.86 kg/m3\n",
      "-- According to balast cuve_acoustique-02/11/2020, you need add -38.2 g\n",
      "(if the weight is external to the float, remember this must be the value in water)\n",
      "New in situ density: 1026.56 kg/m3\n",
      "-- According to balast cuve_acoustique-02/11/2020, you need add -51.1 g\n",
      "(if the weight is external to the float, remember this must be the value in water)\n"
     ]
    }
   ],
   "source": [
    "#lon, lat = '4W30.', '48N00.' # Brest\n",
    "lon, lat = '6W00.', '42N30.' # Med Toulon\n",
    "\n",
    "t, s = 14.5, 37.3\n",
    "b1.compute_mass_adjustment(f, temperature=t, salinity=s, lon=lon, lat=lat,)\n",
    "\n",
    "t, s = 19., 37.\n",
    "b1.compute_mass_adjustment(f, temperature=t, salinity=s, lon=lon, lat=lat,)"
   ]
  },
  {
   "cell_type": "code",
   "execution_count": 7,
   "metadata": {},
   "outputs": [
    {
     "name": "stdout",
     "output_type": "stream",
     "text": [
      "New in situ density: 1027.86 kg/m3\n",
      "-- According to balast cuve_acoustique-02/11/2020, you need add -50.0 g\n",
      "(if the weight is external to the float, remember this must be the value in water)\n"
     ]
    }
   ],
   "source": [
    "b2.compute_mass_adjustment(f, temperature=t, salinity=s, lon=lon, lat=lat,)"
   ]
  },
  {
   "cell_type": "code",
   "execution_count": null,
   "metadata": {},
   "outputs": [],
   "source": []
  },
  {
   "cell_type": "code",
   "execution_count": null,
   "metadata": {},
   "outputs": [],
   "source": []
  },
  {
   "cell_type": "code",
   "execution_count": 21,
   "metadata": {},
   "outputs": [
    {
     "data": {
      "text/plain": [
       "64"
      ]
     },
     "execution_count": 21,
     "metadata": {},
     "output_type": "execute_result"
    }
   ],
   "source": [
    "add = 158 # 156, 158, 160 in water\n",
    "float_plus_add = 94\n",
    "add - float_plus_add"
   ]
  },
  {
   "cell_type": "markdown",
   "metadata": {},
   "source": [
    "----\n",
    "\n",
    "## Equations and uncertainties\n",
    "\n",
    "\n",
    "### step 1: computation of the volume in a controled environment\n",
    "\n",
    "In order to estimate the volume of the float, one must weigh it in air (mass $m$) and under water (mass $m^{water}$).\n",
    "The target precision is high (typically gramms) and this can only be done in a controled environment (still water, known temperature, salinity) with accurate tools (temperature, salinity sensors, balance).\n",
    "Precisions required for this instruments will be specified next.\n",
    "\n",
    "The mass of the float underwater is given by:\n",
    "\n",
    "$\n",
    "\\begin{align}\n",
    "m^{water} &=  (\\rho-\\rho_{water})V \\\\\n",
    "&= m - \\rho_{water} V,\n",
    "\\end{align}\n",
    "$\n",
    "\n",
    "where $\\rho = m/V$ is the float density.\n",
    "This leads to:\n",
    "\n",
    "$\n",
    "\\begin{align}\n",
    "V &= \\frac{m-m^{water}}{\\rho_{water}} \n",
    "\\end{align}\n",
    "$\n",
    "\n",
    "\n",
    "An additional mass ($m_{add}^{water}$ measured underwater) may have to be added in order to submerge the float.\n",
    "The mass of the float underwater is then related to the total weight under water $m_{float+add}^{water}$ by:\n",
    "\n",
    "$\n",
    "\\begin{align}\n",
    "m^{water} &= m_{float+add}^{water} - m_{add}^{water}\n",
    "\\end{align}\n",
    "$\n",
    "\n",
    "Volume uncertainties associated with unaccurate masses, temperature, salinity are given by:\n",
    "\n",
    "$\n",
    "\\begin{align}\n",
    "e_{m} &= \\delta m /\\rho_{water}, \\\\\n",
    "e_{T} &= V \\times \\frac{\\partial_T\\rho_{water}}{\\rho_{water}}  \\delta T = V \\times \\alpha \\delta T, \\\\\n",
    "e_{S} &= V \\times \\frac{\\partial_S\\rho_{water}}{\\rho_{water}}  \\delta S = V \\times \\beta \\delta S.\n",
    "\\end{align}\n",
    "$\n",
    "\n",
    "For $\\delta_m = 1$g, $\\delta T=0.1$degC, $\\delta S = 0.1$psu, $V=12\\times 10^3$cm^3 (see cell below):\n",
    "\n",
    "$\n",
    "\\begin{align}\n",
    "e_{m} &\\sim 1.0\\;cm^3 \\\\\n",
    "e_{T} &\\sim 0.3\\;cm^3, \\\\\n",
    "e_{S} &\\sim 0.9\\;cm^3.\n",
    "\\end{align}\n",
    "$"
   ]
  },
  {
   "cell_type": "code",
   "execution_count": 8,
   "metadata": {},
   "outputs": [
    {
     "name": "stdout",
     "output_type": "stream",
     "text": [
      "gamma_water = 4.24e-06 /dbar\n",
      "alpha_water = 0.000231 /degC\n",
      "beta_water = 0.000738 /psu\n",
      "e_m = 0.971 cm3\n",
      "e_T = 0.277 cm3\n",
      "e_S = 0.886 cm3\n"
     ]
    }
   ],
   "source": [
    "# select a water profile\n",
    "w = fl.waterp(lon=6.,lat=40.) # Mediterranean sea\n",
    "z=np.arange(-100.,0.,1.)\n",
    "\n",
    "gamma = w.get_compressibility(z).mean()\n",
    "alpha = w.get_alpha(z).mean()\n",
    "beta = w.get_beta(z).mean()\n",
    "\n",
    "print('gamma_water = {:.3} /dbar'.format(gamma) )\n",
    "print('alpha_water = {:.3} /degC'.format(alpha) )\n",
    "print('beta_water = {:.3} /psu'.format(beta) )\n",
    "\n",
    "V = 12*1e3 # cm^3\n",
    "dm = 1 # g\n",
    "dT = .1 # degC\n",
    "dS = .1 # psu\n",
    "rho_water = 1030 # kg\n",
    "\n",
    "print('e_m = {:.3} cm3'.format(dm*1e-3/rho_water*1e6) )\n",
    "print('e_T = {:.3} cm3'.format(V*alpha*dT) )\n",
    "print('e_S = {:.3} cm3'.format(V*beta*dS) )"
   ]
  },
  {
   "cell_type": "markdown",
   "metadata": {},
   "source": [
    "---\n",
    "\n",
    "### step 2: adjustment of the mass predeployment\n",
    "\n",
    "We compute the mass adjustement required with the following equations.\n",
    "\n",
    "$\n",
    "\\begin{align}\n",
    "\\delta m^{water} = 0 &= \\delta m - V \\delta \\rho_{water} - \\rho_{water} \\delta V,\n",
    "\\end{align}\n",
    "$\n",
    "\n",
    "$\\delta m$ is the mass that needs to be added or substracted and is therefore given by:\n",
    "\n",
    "$\n",
    "\\begin{align}\n",
    "\\delta m  &= V \\delta \\rho_{water} + \\rho_{water} \\delta V,\n",
    "\\end{align}\n",
    "$\n",
    "\n",
    "Note that unlike step 1, this step takes into account the float thermal compressibility via $\\delta V$.\n",
    "\n",
    "Any uncertainties on water temperature/salinity will induce uncertainties comparable to that of step 1:"
   ]
  },
  {
   "cell_type": "code",
   "execution_count": 10,
   "metadata": {},
   "outputs": [
    {
     "name": "stdout",
     "output_type": "stream",
     "text": [
      "e_T = 0.286 g\n",
      "e_S = 0.913 g\n"
     ]
    }
   ],
   "source": [
    "print('e_T = {:.3} g'.format(V*alpha*rho_water/1e3*dT) )\n",
    "print('e_S = {:.3} g'.format(V*beta*rho_water/1e3*dS) )"
   ]
  },
  {
   "cell_type": "code",
   "execution_count": null,
   "metadata": {},
   "outputs": [],
   "source": []
  }
 ],
 "metadata": {
  "kernelspec": {
   "display_name": "Python 3",
   "language": "python",
   "name": "python3"
  },
  "language_info": {
   "codemirror_mode": {
    "name": "ipython",
    "version": 3
   },
   "file_extension": ".py",
   "mimetype": "text/x-python",
   "name": "python",
   "nbconvert_exporter": "python",
   "pygments_lexer": "ipython3",
   "version": "3.8.5"
  }
 },
 "nbformat": 4,
 "nbformat_minor": 4
}

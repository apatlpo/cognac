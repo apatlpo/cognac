{
 "cells": [
  {
   "cell_type": "markdown",
   "metadata": {},
   "source": [
    "# Ifremer prototype: balast\n",
    "\n",
    "Balasting is a two step procedures:\n",
    "\n",
    "1. in a controled environment, the *volume* $V$ of the float must be measured\n",
    "2. pre-deployment, the mass of the float needs to be adjusted in order to adjust to local conditions"
   ]
  },
  {
   "cell_type": "code",
   "execution_count": 2,
   "metadata": {},
   "outputs": [],
   "source": [
    "%matplotlib inline\n",
    "import matplotlib.pyplot as plt\n",
    "import numpy as np\n",
    "import gsw\n",
    "\n",
    "import cognac.ufloat as fl"
   ]
  },
  {
   "cell_type": "markdown",
   "metadata": {},
   "source": [
    "----\n",
    "\n",
    "## step 1: computation of the volume in a controled environment\n",
    "\n",
    "In order to estimate the volume of the float, one must weigh it in air (mass $m$) and under water (mass $m^{water}$).\n",
    "The target precision is high (typically gramms) and this can only be done in a controled environment (still water, known temperature, salinity) with accurate tools (temperature, salinity sensors, balance).\n",
    "Precisions required for this instruments will be specified next.\n",
    "\n",
    "The mass of the float underwater is given by:\n",
    "\n",
    "$\n",
    "\\begin{align}\n",
    "m^{water} &=  (\\rho-\\rho_{water})V \\\\\n",
    "&= m - \\rho_{water} V,\n",
    "\\end{align}\n",
    "$\n",
    "\n",
    "where $\\rho = m/V$ is the float density.\n",
    "This leads to:\n",
    "\n",
    "$\n",
    "\\begin{align}\n",
    "V &= \\frac{m-m^{water}}{\\rho_{water}} \n",
    "\\end{align}\n",
    "$\n",
    "\n",
    "\n",
    "An additional mass ($m_{add}^{water}$ measured underwater) may have to be added in order to submerge the float.\n",
    "The mass of the float underwater is then related to the total weight under water $m_{float+add}^{water}$ by:\n",
    "\n",
    "$\n",
    "\\begin{align}\n",
    "m^{water} &= m_{float+add}^{water} - m_{add}^{water}\n",
    "\\end{align}\n",
    "$\n",
    "\n",
    "Volume uncertainties associated with unaccurate masses, temperature, salinity are given by:\n",
    "\n",
    "$\n",
    "\\begin{align}\n",
    "e_{m} &= \\delta m /\\rho_{water}, \\\\\n",
    "e_{T} &= V \\times \\frac{\\partial_T\\rho_{water}}{\\rho_{water}}  \\delta T = V \\times \\alpha \\delta T, \\\\\n",
    "e_{S} &= V \\times \\frac{\\partial_S\\rho_{water}}{\\rho_{water}}  \\delta S = V \\times \\beta \\delta S.\n",
    "\\end{align}\n",
    "$\n",
    "\n",
    "For $\\delta_m = 1$g, $\\delta T=0.1$degC, $\\delta S = 0.1$psu, $V=12\\times 10^3$cm^3 (see cell below):\n",
    "\n",
    "$\n",
    "\\begin{align}\n",
    "e_{m} &\\sim 1.0\\;cm^3 \\\\\n",
    "e_{T} &\\sim 0.3\\;cm^3, \\\\\n",
    "e_{S} &\\sim 0.9\\;cm^3.\n",
    "\\end{align}\n",
    "$"
   ]
  },
  {
   "cell_type": "code",
   "execution_count": 8,
   "metadata": {},
   "outputs": [
    {
     "name": "stdout",
     "output_type": "stream",
     "text": [
      "gamma_water = 4.24e-06 /dbar\n",
      "alpha_water = 0.000231 /degC\n",
      "beta_water = 0.000738 /psu\n",
      "e_m = 0.971 cm3\n",
      "e_T = 0.277 cm3\n",
      "e_S = 0.886 cm3\n"
     ]
    }
   ],
   "source": [
    "# select a water profile\n",
    "w = fl.waterp(lon=6.,lat=40.) # Mediterranean sea\n",
    "z=np.arange(-100.,0.,1.)\n",
    "\n",
    "gamma = w.get_compressibility(z).mean()\n",
    "alpha = w.get_alpha(z).mean()\n",
    "beta = w.get_beta(z).mean()\n",
    "\n",
    "print('gamma_water = {:.3} /dbar'.format(gamma) )\n",
    "print('alpha_water = {:.3} /degC'.format(alpha) )\n",
    "print('beta_water = {:.3} /psu'.format(beta) )\n",
    "\n",
    "V = 12*1e3 # cm^3\n",
    "dm = 1 # g\n",
    "dT = .1 # degC\n",
    "dS = .1 # psu\n",
    "rho_water = 1030 # kg\n",
    "\n",
    "print('e_m = {:.3} cm3'.format(dm*1e-3/rho_water*1e6) )\n",
    "print('e_T = {:.3} cm3'.format(V*alpha*dT) )\n",
    "print('e_S = {:.3} cm3'.format(V*beta*dS) )"
   ]
  },
  {
   "cell_type": "markdown",
   "metadata": {},
   "source": [
    "---\n",
    "\n",
    "## step 2: adjustment of the mass predeployment\n",
    "\n",
    "We compute the mass adjustement required with the following equations.\n",
    "\n",
    "$\n",
    "\\begin{align}\n",
    "\\delta m^{water} = 0 &= \\delta m - V \\delta \\rho_{water} - \\rho_{water} \\delta V,\n",
    "\\end{align}\n",
    "$\n",
    "\n",
    "$\\delta m$ is the mass that needs to be added or substracted and is therefore given by:\n",
    "\n",
    "$\n",
    "\\begin{align}\n",
    "\\delta m  &= V \\delta \\rho_{water} + \\rho_{water} \\delta V,\n",
    "\\end{align}\n",
    "$\n",
    "\n",
    "Note that unlike step 1, this step takes into account the float thermal compressibility via $\\delta V$.\n",
    "\n",
    "Any uncertainties on water temperature/salinity will induce uncertainties comparable to that of step 1:"
   ]
  },
  {
   "cell_type": "code",
   "execution_count": 10,
   "metadata": {},
   "outputs": [
    {
     "name": "stdout",
     "output_type": "stream",
     "text": [
      "e_T = 0.286 g\n",
      "e_S = 0.913 g\n"
     ]
    }
   ],
   "source": [
    "print('e_T = {:.3} g'.format(V*alpha*rho_water/1e3*dT) )\n",
    "print('e_S = {:.3} g'.format(V*beta*rho_water/1e3*dS) )"
   ]
  },
  {
   "cell_type": "markdown",
   "metadata": {},
   "source": [
    "---\n",
    "\n",
    "## 09/2020 balastage cuve acoustique (step 1)"
   ]
  },
  {
   "cell_type": "code",
   "execution_count": 2,
   "metadata": {},
   "outputs": [
    {
     "data": {
      "text/plain": [
       "997.6474962446503"
      ]
     },
     "execution_count": 2,
     "metadata": {},
     "output_type": "execute_result"
    }
   ],
   "source": [
    "pressure = 1.\n",
    "temperature_water = 22.57\n",
    "# 23 - 997.541 kg/m3\n",
    "# 22 - 997.774 kg/m3\n",
    "\n",
    "CT = gsw.CT_from_t(0., temperature_water, pressure)\n",
    "rho_water = gsw.rho(0., CT, pressure)\n",
    "rho_water"
   ]
  },
  {
   "cell_type": "code",
   "execution_count": 3,
   "metadata": {},
   "outputs": [
    {
     "data": {
      "text/plain": [
       "23.737635299526843"
      ]
     },
     "execution_count": 3,
     "metadata": {},
     "output_type": "execute_result"
    }
   ],
   "source": [
    "CT"
   ]
  },
  {
   "cell_type": "code",
   "execution_count": 4,
   "metadata": {},
   "outputs": [
    {
     "data": {
      "text/plain": [
       "13374.463475552024"
      ]
     },
     "execution_count": 4,
     "metadata": {},
     "output_type": "execute_result"
    }
   ],
   "source": [
    "m_float = 13.641 # mass float in air\n",
    "m_float_add_water = .298 # mass float in water\n",
    "m_add_water = 0. # additional mass in water\n",
    "\n",
    "#V = (m_float + m_add_water - m_float_add_water)/(rho_water+.2) # 13371.8 cm^3 -> 2.7 cm^3 diff\n",
    "V = (m_float + m_add_water - m_float_add_water)/rho_water # 13374.5 cm^3\n",
    "V*1e6 # cm^3"
   ]
  },
  {
   "cell_type": "code",
   "execution_count": 5,
   "metadata": {},
   "outputs": [
    {
     "data": {
      "text/plain": [
       "Float parameters: \n",
       "  L     = 0.83 m      - float length\n",
       "  r     = 0.07 m      - float radius\n",
       "  m     = 11.63 kg     - float mass\n",
       "  V     = 1.27e+04 cm^3   - float volume\n",
       "  rho_cte = m/V = 9.13e+08 kg.cm^3   - float baseline density\n",
       "  gamma = 3.78e-06 /dbar  - mechanical compressibility\n",
       "  gamma x V = 4.82e-02 cm^3/dbar  - normalized compressibility\n",
       "  alpha = 6.98e-05 /degC  - thermal compressibility\n",
       "  alpha x V = 8.89e-01 cm^3/degC  - normalized thermal compressibility\n",
       "  temp0 = 0.00e+00  degC  - reference temperature\n",
       "  a = 1.00e+00  (no dimension)  - float added mass\n",
       "  c0 = 0.00e+00  (no dimension)  - float drag parameter 0\n",
       "  c1 = 1.00e+00  (no dimension)  - float drag parameter 1"
      ]
     },
     "execution_count": 5,
     "metadata": {},
     "output_type": "execute_result"
    }
   ],
   "source": [
    "f = fl.autonomous_float(model='Ifremer')\n",
    "f"
   ]
  },
  {
   "cell_type": "markdown",
   "metadata": {},
   "source": [
    "---\n",
    "## 09/2020 cuve acoustique puis bassin"
   ]
  },
  {
   "cell_type": "code",
   "execution_count": 6,
   "metadata": {},
   "outputs": [],
   "source": [
    "bfile = '/Users/aponte/Current_projects/cognac/tests/202009_ifremer/balast.yaml'"
   ]
  },
  {
   "cell_type": "code",
   "execution_count": 4,
   "metadata": {},
   "outputs": [
    {
     "name": "stdout",
     "output_type": "stream",
     "text": [
      "Balasting data stored in /Users/aponte/Current_projects/cognac/tests/202009_ifremer/balast.yaml\n"
     ]
    }
   ],
   "source": [
    "b = fl.balast()\n",
    "b.add_balast('cuve_acoustique-20/09/2020', \n",
    "             mass_in_water=298,\n",
    "             mass_in_air=13641., \n",
    "             water_temperature=22.57,\n",
    "             water_salinity=0.,\n",
    "             piston_displacement='max',\n",
    "            )\n",
    "#\n",
    "b.store(bfile)"
   ]
  },
  {
   "cell_type": "code",
   "execution_count": 8,
   "metadata": {},
   "outputs": [
    {
     "name": "stdout",
     "output_type": "stream",
     "text": [
      "File /Users/aponte/Current_projects/cognac/tests/202009_ifremer/balast.yaml loaded\n"
     ]
    }
   ],
   "source": [
    "# reload\n",
    "b = fl.balast(bfile)"
   ]
  },
  {
   "cell_type": "code",
   "execution_count": 9,
   "metadata": {},
   "outputs": [
    {
     "data": {
      "text/plain": [
       "{ 'cuve_acoustique-20/09/2020': { 'CT': 23.737635299526843,\n",
       "                                  'SA': 0.0,\n",
       "                                  'V': 0.013374463475552024,\n",
       "                                  'comments': 'None',\n",
       "                                  'mass_in_air': 13641.0,\n",
       "                                  'mass_in_water': 298,\n",
       "                                  'piston_displacement': 'max',\n",
       "                                  'rho_water': 997.6474962446503,\n",
       "                                  'water_salinity': 0.0,\n",
       "                                  'water_temperature': 22.57}}"
      ]
     },
     "execution_count": 9,
     "metadata": {},
     "output_type": "execute_result"
    }
   ],
   "source": [
    "b"
   ]
  },
  {
   "cell_type": "code",
   "execution_count": 10,
   "metadata": {},
   "outputs": [
    {
     "name": "stdout",
     "output_type": "stream",
     "text": [
      "Piston max volume set from max displacement\n"
     ]
    }
   ],
   "source": [
    "# init float\n",
    "f = fl.autonomous_float(model='Ifremer')\n",
    "f.init_piston()"
   ]
  },
  {
   "cell_type": "code",
   "execution_count": 20,
   "metadata": {},
   "outputs": [
    {
     "name": "stdout",
     "output_type": "stream",
     "text": [
      "-- According to balast cuve_acoustique-20/09/2020, you need add 65.7 g\n",
      "(if the weight is external to the float, remember this must be the value in water)\n"
     ]
    }
   ],
   "source": [
    "# à 1m: 35.1 psu, 19.0 degC\n",
    "# uncertainty of .1 psu (1g) and .1 degC (0.2g)\n",
    "b.compute_mass_adjustment(f, \n",
    "                          temperature=19.0, \n",
    "                          salinity=35.1, \n",
    "                          lon='4W30.', \n",
    "                          lat='48N00.'\n",
    "                         )"
   ]
  },
  {
   "cell_type": "code",
   "execution_count": 21,
   "metadata": {},
   "outputs": [
    {
     "data": {
      "text/plain": [
       "64"
      ]
     },
     "execution_count": 21,
     "metadata": {},
     "output_type": "execute_result"
    }
   ],
   "source": [
    "add = 158 # 156, 158, 160 in water\n",
    "float_plus_add = 94\n",
    "add - float_plus_add"
   ]
  },
  {
   "cell_type": "code",
   "execution_count": null,
   "metadata": {},
   "outputs": [],
   "source": []
  },
  {
   "cell_type": "markdown",
   "metadata": {},
   "source": [
    "---\n",
    "\n",
    "### bassin"
   ]
  },
  {
   "cell_type": "code",
   "execution_count": 23,
   "metadata": {},
   "outputs": [
    {
     "name": "stdout",
     "output_type": "stream",
     "text": [
      "-- According to balast cuve_acoustique-20/09/2020, you need add 86.4 g\n",
      "(if the weight is external to the float, remember this must be the value in water)\n"
     ]
    }
   ],
   "source": [
    "# à 1m: 36.6 psu, 16.7 degC\n",
    "# à la surface: 36.7 17 degC\n",
    "b.compute_mass_adjustment(f, \n",
    "                          temperature=16.7, \n",
    "                          salinity=36.6, \n",
    "                          lon='4W30.', \n",
    "                          lat='48N00.'\n",
    "                         )"
   ]
  },
  {
   "cell_type": "code",
   "execution_count": 17,
   "metadata": {},
   "outputs": [
    {
     "data": {
      "text/plain": [
       "7.599999999999994"
      ]
     },
     "execution_count": 17,
     "metadata": {},
     "output_type": "execute_result"
    }
   ],
   "source": [
    "94-86.4"
   ]
  },
  {
   "cell_type": "code",
   "execution_count": 19,
   "metadata": {},
   "outputs": [
    {
     "data": {
      "text/plain": [
       "-84"
      ]
     },
     "execution_count": 19,
     "metadata": {},
     "output_type": "execute_result"
    }
   ],
   "source": [
    "m_float_add = 46 # water\n",
    "m_add = 130 # water\n",
    "m_float = m_float_add - m_add\n",
    "m_float"
   ]
  },
  {
   "cell_type": "code",
   "execution_count": 21,
   "metadata": {},
   "outputs": [
    {
     "data": {
      "text/plain": [
       "-74"
      ]
     },
     "execution_count": 21,
     "metadata": {},
     "output_type": "execute_result"
    }
   ],
   "source": [
    "m_float_add = 212 # water\n",
    "m_add = 286 # water\n",
    "m_float = m_float_add - m_add\n",
    "m_float"
   ]
  },
  {
   "cell_type": "code",
   "execution_count": 15,
   "metadata": {},
   "outputs": [
    {
     "data": {
      "text/plain": [
       "2.6878288646869176e-05"
      ]
     },
     "execution_count": 15,
     "metadata": {},
     "output_type": "execute_result"
    }
   ],
   "source": [
    "f.v"
   ]
  },
  {
   "cell_type": "markdown",
   "metadata": {},
   "source": [
    "---\n",
    "\n",
    "## first deployment: lopstech19 leg 2"
   ]
  },
  {
   "cell_type": "code",
   "execution_count": 2,
   "metadata": {},
   "outputs": [],
   "source": [
    "\n",
    "bfile = '/Users/aponte/Current_projects/cognac/campagnes_techno/2019_lopstech/leg2/float/balast.yaml'"
   ]
  },
  {
   "cell_type": "markdown",
   "metadata": {},
   "source": [
    "### generate balast file"
   ]
  },
  {
   "cell_type": "code",
   "execution_count": 2,
   "metadata": {},
   "outputs": [],
   "source": [
    "#\n",
    "b = fl.balast()"
   ]
  },
  {
   "cell_type": "code",
   "execution_count": 3,
   "metadata": {},
   "outputs": [
    {
     "name": "stdout",
     "output_type": "stream",
     "text": [
      "Balasting data stored in /Users/aponte/Current_projects/cognac/campagnes_techno/2019_lopstech/leg2/float/balast.yaml\n"
     ]
    }
   ],
   "source": [
    "b.add_balast('ifremer-15/10/2019', mass_in_water=0., mass_in_air=13554., \n",
    "             water_temperature=17.4, water_salinity=34.622, \n",
    "             piston_displacement=9.*3./4.)\n",
    "#\n",
    "b.store(bfile)"
   ]
  },
  {
   "cell_type": "markdown",
   "metadata": {},
   "source": [
    "### reload balast file"
   ]
  },
  {
   "cell_type": "code",
   "execution_count": 3,
   "metadata": {},
   "outputs": [
    {
     "name": "stdout",
     "output_type": "stream",
     "text": [
      "File /Users/aponte/Current_projects/cognac/campagnes_techno/2019_lopstech/leg2/float/balast.yaml loaded\n"
     ]
    }
   ],
   "source": [
    "b = fl.balast(file=bfile)"
   ]
  },
  {
   "cell_type": "code",
   "execution_count": 4,
   "metadata": {},
   "outputs": [
    {
     "data": {
      "text/plain": [
       "{ 'ifremer-15/10/2019': { 'CT': 17.40100549537287,\n",
       "                          'SA': 34.78738585389333,\n",
       "                          'V': 0.013221626276530922,\n",
       "                          'comments': 'None',\n",
       "                          'mass_in_air': 13554.0,\n",
       "                          'mass_in_water': 0.0,\n",
       "                          'piston_displacement': 6.75,\n",
       "                          'rho_water': 1025.1386415345182,\n",
       "                          'water_salinity': 34.622,\n",
       "                          'water_temperature': 17.4}}"
      ]
     },
     "execution_count": 4,
     "metadata": {},
     "output_type": "execute_result"
    }
   ],
   "source": [
    "b"
   ]
  },
  {
   "cell_type": "code",
   "execution_count": 5,
   "metadata": {},
   "outputs": [
    {
     "name": "stdout",
     "output_type": "stream",
     "text": [
      "Piston max volume set from max displacement\n"
     ]
    }
   ],
   "source": [
    "# init float\n",
    "f = fl.autonomous_float(model='Ifremer')\n",
    "f.init_piston()"
   ]
  },
  {
   "cell_type": "markdown",
   "metadata": {},
   "source": [
    "---\n",
    "\n",
    "### compute adjustments"
   ]
  },
  {
   "cell_type": "code",
   "execution_count": 18,
   "metadata": {},
   "outputs": [
    {
     "name": "stdout",
     "output_type": "stream",
     "text": [
      "According to balast ifremer-15/10/2019, you need add 43.3 g\n",
      "According to balast ifremer-15/10/2019, you need add 48.0 g\n"
     ]
    }
   ],
   "source": [
    "# use 1 point to compute mass adjustment\n",
    "# could think also about loading tsg data\n",
    "#b.compute_mass_adjustment(f, temperature=19.4, salinity=37.99, lon='5E23.634', lat='43N02.757')\n",
    "#b.compute_mass_adjustment(f, temperature=19.97, salinity=37.82, lon='5E26.758', lat='43N00.910')\n",
    "b.compute_mass_adjustment(f, temperature=19.824, salinity=37.85, lon='5E29.328', lat='43N00.390') # d0\n",
    "# with this last balast, the float was sinking at nbpulse_gpiston (14??). \n",
    "#    but with 20g off, it was floating.\n",
    "b.compute_mass_adjustment(f, temperature=18.643, salinity=38.021, lon='5E34.638', lat='42N53.959') # d1"
   ]
  },
  {
   "cell_type": "code",
   "execution_count": null,
   "metadata": {},
   "outputs": [],
   "source": [
    "# use water profile to compute mass adjustement\n",
    "w = fl.waterp(lon=6.,lat=40.) # Mediterranean sea\n",
    "print(w)\n",
    "b.compute_mass_adjustment(f, w)"
   ]
  },
  {
   "cell_type": "markdown",
   "metadata": {},
   "source": [
    "---\n",
    "\n",
    "# 2019/11: tests ifremer"
   ]
  },
  {
   "cell_type": "code",
   "execution_count": 2,
   "metadata": {},
   "outputs": [],
   "source": [
    "bfile = '/Users/aponte/Current_projects/cognac/instrum/flotteur/tests/balast_201911.yaml'"
   ]
  },
  {
   "cell_type": "code",
   "execution_count": 3,
   "metadata": {},
   "outputs": [],
   "source": [
    "#\n",
    "b = fl.balast()"
   ]
  },
  {
   "cell_type": "code",
   "execution_count": 4,
   "metadata": {},
   "outputs": [
    {
     "name": "stdout",
     "output_type": "stream",
     "text": [
      "Practical salinity derived from conductivity: SP=33.67\n",
      "Balasting data stored in /Users/aponte/Current_projects/cognac/instrum/flotteur/tests/balast_201911.yaml\n"
     ]
    }
   ],
   "source": [
    "b.add_balast('ifremer-18/11/2019', mass_in_water=-121., mass_in_air=13413., \n",
    "             water_temperature=18.2706, water_conductivity=44.6036, \n",
    "             piston_displacement=0.)\n",
    "#\n",
    "b.store(bfile)"
   ]
  },
  {
   "cell_type": "code",
   "execution_count": 3,
   "metadata": {},
   "outputs": [
    {
     "name": "stdout",
     "output_type": "stream",
     "text": [
      "File /Users/aponte/Current_projects/cognac/instrum/flotteur/tests/balast_201911.yaml loaded\n"
     ]
    }
   ],
   "source": [
    "b = fl.balast(file=bfile)"
   ]
  },
  {
   "cell_type": "code",
   "execution_count": 4,
   "metadata": {},
   "outputs": [
    {
     "data": {
      "text/plain": [
       "{ 'ifremer-18/11/2019': { 'CT': 18.300396039190872,\n",
       "                          'SA': 33.83300763196808,\n",
       "                          'V': 0.01309608458116599,\n",
       "                          'comments': 'None',\n",
       "                          'mass_in_air': 13413.0,\n",
       "                          'mass_in_water': -121.0,\n",
       "                          'piston_displacement': 0.0,\n",
       "                          'rho_water': 1024.199249544385,\n",
       "                          'water_salinity': 33.672159073801225,\n",
       "                          'water_temperature': 18.2706}}"
      ]
     },
     "execution_count": 4,
     "metadata": {},
     "output_type": "execute_result"
    }
   ],
   "source": [
    "b"
   ]
  },
  {
   "cell_type": "code",
   "execution_count": 5,
   "metadata": {},
   "outputs": [
    {
     "name": "stdout",
     "output_type": "stream",
     "text": [
      "Piston max volume set from max displacement\n"
     ]
    }
   ],
   "source": [
    "# init float\n",
    "f = fl.autonomous_float(model='Ifremer')\n",
    "f.init_piston()"
   ]
  },
  {
   "cell_type": "code",
   "execution_count": 6,
   "metadata": {},
   "outputs": [
    {
     "name": "stdout",
     "output_type": "stream",
     "text": [
      "-- According to balast ifremer-18/11/2019, you need add 159.9 g\n",
      "(if the weight is external to the float, remember this must be the value in water)\n",
      "Independent mass correction (balast -mass_in_water): 121.0 [g]\n",
      "  Water change mass correction: 38.9 [g]\n",
      "    T contribution: 14.3 [g]\n",
      "    S contribution: 28.2 [g]\n",
      "  New/old in situ density: 1027.55, 1024.20  [kg/m^3] \n",
      "    difference: 3.4 [kg/m^3]\n",
      "  New/old float volume: 1.31e-02, 1.31e-02  [m^3] \n",
      "    difference: -4.8 [cm^3]\n"
     ]
    }
   ],
   "source": [
    "# use 1 point to compute mass adjustment\n",
    "b.compute_mass_adjustment(f, temperature=12.99, conductivity=42.5, \n",
    "                          lon=b.lon, lat=b.lat, verbose=True)"
   ]
  },
  {
   "cell_type": "markdown",
   "metadata": {},
   "source": [
    "**Observed behavior**:\n",
    "- with 117.5g (in water) the float does not sink even with the piston fully in (+30g approx)\n",
    "- with 128.5g (in water) the float is able to sink with the piston fully in (+30g approx)"
   ]
  },
  {
   "cell_type": "markdown",
   "metadata": {},
   "source": [
    "---\n",
    "## other interesting values"
   ]
  },
  {
   "cell_type": "code",
   "execution_count": 13,
   "metadata": {},
   "outputs": [
    {
     "name": "stdout",
     "output_type": "stream",
     "text": [
      "Float thermal expansion = 6.98e-05\n",
      "Water: thermal expansion = 2.57e-04 and haline contraction = 7.33e-04\n",
      "1.0 deg float temperature change leads to an equivalent mass change of 0.94 g\n",
      "1.0 deg water temperature change leads to an equivalent mass change of 3.45 g\n",
      "1.0 g/kg salinity change leads to an equivalent mass change of 9.83 g\n"
     ]
    }
   ],
   "source": [
    "w = fl.waterp(lon=6.,lat=40.) # Mediterranean sea\n",
    "\n",
    "print('Float thermal expansion = %1.2e' %(f.alpha))\n",
    "alpha, beta = w.get_alpha(-1.), w.get_beta(-1.)\n",
    "print('Water: thermal expansion = %1.2e and haline contraction =% 1.2e' %(alpha, beta))\n",
    "\n",
    "dT, dS = 1., 1.\n",
    "for name, _b in b._d.items():\n",
    "    print('%.1f deg float temperature change leads to an equivalent mass change of %.2f g' %(dT, f.alpha*f.m*dT*1e3))\n",
    "    print('%.1f deg water temperature change leads to an equivalent mass change of %.2f g' %(dT,alpha*f.m*dT*1e3))\n",
    "    print('%.1f g/kg salinity change leads to an equivalent mass change of %.2f g' %(dS,beta*f.m*dS*1e3))"
   ]
  },
  {
   "cell_type": "code",
   "execution_count": 12,
   "metadata": {},
   "outputs": [
    {
     "data": {
      "text/plain": [
       "Float parameters: \n",
       "  L     = 0.83 m      - float length\n",
       "  r     = 0.07 m      - float radius\n",
       "  m     = 13.41 kg     - float mass\n",
       "  V     = 1.31e+04 cm^3   - float volume\n",
       "  rho_cte = m/V = 9.13e+08 kg.cm^3   - float baseline density\n",
       "  gamma = 3.78e-06 /dbar  - mechanical compressibility\n",
       "  alpha = 6.98e-05 /degC  - thermal compressibility\n",
       "  temp0 = 1.83e+01  degC  - reference temperature\n",
       "  a = 1.00e+00  (no dimension)  - float added mass\n",
       "  c0 = 0.00e+00  (no dimension)  - float drag parameter 0\n",
       "  c1 = 1.00e+00  (no dimension)  - float drag parameter 1\n",
       "Piston parameters and state: \n",
       "  r     = 0.97 cm        - piston radius\n",
       "  d     = 0.00 cm        - present piston displacement\n",
       "  vol   = 0.00 cm^3      - present volume addition\n",
       "  d_increment  = 2.14e-02 mm        - smallest variation of translation motion for the piston\n",
       "  vol_increment  = 6.40e-03 cm^3        - smallest variation of volume possible for the piston\n",
       "  d_max = 90.00 mm        - maximum piston displacement\n",
       "  d_min = 0.00 mm        - minimum piston displacement\n",
       "  vol_min = 0.00 cm^3    - min volume displaced\n",
       "  vol_max = 26.88 cm^3    - max volume displaced\n",
       "  u_max = 1.44 cm^3/s - maximum volume rate of change\n",
       "  efficiency = 0.10 - mechanical work produced / electrical work supplied"
      ]
     },
     "execution_count": 12,
     "metadata": {},
     "output_type": "execute_result"
    }
   ],
   "source": [
    "f"
   ]
  },
  {
   "cell_type": "markdown",
   "metadata": {},
   "source": [
    "---\n",
    "\n",
    "### lead sheets weight in water / weight in air:"
   ]
  },
  {
   "cell_type": "code",
   "execution_count": 10,
   "metadata": {},
   "outputs": [
    {
     "name": "stdout",
     "output_type": "stream",
     "text": [
      "0.7317073170731707\n",
      "0.76\n",
      "0.7142857142857143\n"
     ]
    }
   ],
   "source": [
    "print(30/41)\n",
    "print(19/25)\n",
    "print(20/28)"
   ]
  }
 ],
 "metadata": {
  "kernelspec": {
   "display_name": "Python 3",
   "language": "python",
   "name": "python3"
  },
  "language_info": {
   "codemirror_mode": {
    "name": "ipython",
    "version": 3
   },
   "file_extension": ".py",
   "mimetype": "text/x-python",
   "name": "python",
   "nbconvert_exporter": "python",
   "pygments_lexer": "ipython3",
   "version": "3.8.5"
  }
 },
 "nbformat": 4,
 "nbformat_minor": 4
}
